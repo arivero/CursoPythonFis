{
 "cells": [
  {
   "cell_type": "code",
   "execution_count": 5,
   "id": "0f92217f-cca1-4ea2-b6ff-316b1efe9f54",
   "metadata": {},
   "outputs": [],
   "source": [
    "NormRAN = float(4.656612595521636e-10)\n",
    "NormRANu= float(0.5*4.656612595521636e-10)   \n",
    "seed=0"
   ]
  },
  {
   "cell_type": "code",
   "execution_count": 2,
   "id": "91837110-6bde-40a8-a103-c54e66be6210",
   "metadata": {},
   "outputs": [],
   "source": [
    "def RAN():\n",
    "    return float (rand() * NormRAN )"
   ]
  },
  {
   "cell_type": "code",
   "execution_count": 3,
   "id": "d24224c7-9044-4e7f-af4a-7421502d5770",
   "metadata": {},
   "outputs": [],
   "source": [
    "import random\n",
    "irr=[0]*256\n",
    "random.seed(a=int(seed))\n",
    "def rand():\n",
    "    return random.randrange(2**16)\n",
    "for i in range(256):\n",
    "      low = rand ()\n",
    "      high = rand ()\n",
    "      irr[i] = low ^ (high << 16)\n",
    "ind = ig1 = ig2 = ig3 = 0"
   ]
  },
  {
   "cell_type": "code",
   "execution_count": 4,
   "id": "b1d3b752-f95c-4d02-8ee8-4e4fa3169350",
   "metadata": {},
   "outputs": [
    {
     "data": {
      "text/plain": [
       "251"
      ]
     },
     "execution_count": 4,
     "metadata": {},
     "output_type": "execute_result"
    }
   ],
   "source": [
    "-5 & 255"
   ]
  },
  {
   "cell_type": "code",
   "execution_count": 5,
   "id": "58c56799-538f-4144-bf02-58f51f20c38f",
   "metadata": {},
   "outputs": [
    {
     "data": {
      "text/plain": [
       "251"
      ]
     },
     "execution_count": 5,
     "metadata": {},
     "output_type": "execute_result"
    }
   ],
   "source": [
    "-5 % 256"
   ]
  },
  {
   "cell_type": "code",
   "execution_count": 6,
   "id": "ee7e0052-fb79-44e0-8d79-1b2c65174709",
   "metadata": {},
   "outputs": [
    {
     "data": {
      "text/plain": [
       "4294967295"
      ]
     },
     "execution_count": 6,
     "metadata": {},
     "output_type": "execute_result"
    }
   ],
   "source": [
    "-1 & 4294967295"
   ]
  },
  {
   "cell_type": "code",
   "execution_count": 7,
   "id": "8a8ec7fc-5157-4dd5-8c52-4ab959373c1e",
   "metadata": {},
   "outputs": [
    {
     "data": {
      "text/plain": [
       "4294967295"
      ]
     },
     "execution_count": 7,
     "metadata": {},
     "output_type": "execute_result"
    }
   ],
   "source": [
    "-1 % (2**32)"
   ]
  },
  {
   "cell_type": "code",
   "execution_count": 8,
   "id": "18b1d1b7-68a8-4d75-b514-73ee90c1e27b",
   "metadata": {},
   "outputs": [
    {
     "name": "stdout",
     "output_type": "stream",
     "text": [
      "0.5061303876411665\n"
     ]
    }
   ],
   "source": [
    "#ojo, ig1 ig2 ig3 e ind son indices de array, van mod 256\n",
    "#usease unsigned char ig1,ig2...\n",
    "ig1 = (ind - 24) & 255\n",
    "ig2 = (ind - 55 ) & 255\n",
    "ig3 = (ind - 61) & 255\n",
    "irr[ind] = irr[ig1] + irr[ig2] #aqui hay que truncar int32\n",
    "irr[ind] &= 4294967295 # posiblemente asi. TO DO\n",
    "ir1 = (irr[ind] ^ irr[ig3])\n",
    "ind += 1\n",
    "ind &= 255\n",
    "r = ir1 * NormRANu\n",
    "print(r)"
   ]
  },
  {
   "cell_type": "code",
   "execution_count": 9,
   "id": "a9fb5739-38bb-4b49-a194-c7579c77821a",
   "metadata": {},
   "outputs": [],
   "source": [
    "def rng():\n",
    "    global ig1,ig2,ig3,ind\n",
    "    ig1 = (ind - 24) & 255\n",
    "    ig2 = (ind - 55 ) & 255\n",
    "    ig3 = (ind - 61) & 255\n",
    "    irr[ind] = irr[ig1] + irr[ig2] \n",
    "    irr[ind] &= 4294967295 \n",
    "    ir1 = (irr[ind] ^ irr[ig3])\n",
    "    ind += 1\n",
    "    ind &= 255\n",
    "    r = ir1 * NormRANu\n",
    "    return r\n",
    "    "
   ]
  },
  {
   "cell_type": "code",
   "execution_count": 10,
   "id": "771a368c-5fce-4d21-84fd-e0403158b7b2",
   "metadata": {},
   "outputs": [
    {
     "data": {
      "text/plain": [
       "[0.07937336379671879,\n",
       " 0.05300528635984423,\n",
       " 0.6960861698728822,\n",
       " 0.3619457519012228,\n",
       " 0.06792926197175585,\n",
       " 0.7932506277989193,\n",
       " 0.5105835924135969,\n",
       " 0.3559608184439188,\n",
       " 0.22998053257469556,\n",
       " 0.4027329454897809,\n",
       " 0.19013967745104796,\n",
       " 0.26001815368313075,\n",
       " 0.160168782807139,\n",
       " 0.855068706465512,\n",
       " 0.36126722337575284,\n",
       " 0.81806277194431,\n",
       " 0.8997204691803887,\n",
       " 0.42999764460152856,\n",
       " 0.9023339073179535,\n",
       " 0.8952901332652456,\n",
       " 0.027572919833784012,\n",
       " 0.7870517849257985,\n",
       " 0.28614052379224947,\n",
       " 0.27503536515658306,\n",
       " 0.07284879715896835,\n",
       " 0.8285275979193212,\n",
       " 0.1461919179593368,\n",
       " 0.9304476200615509,\n",
       " 0.5160754224948314,\n",
       " 0.44813819422307777]"
      ]
     },
     "execution_count": 10,
     "metadata": {},
     "output_type": "execute_result"
    }
   ],
   "source": [
    "[rng() for i in range(30)]"
   ]
  },
  {
   "cell_type": "code",
   "execution_count": 11,
   "id": "998410fd-540f-46c2-a05a-7113facabd75",
   "metadata": {},
   "outputs": [],
   "source": [
    "from ctypes import c_ubyte, c_uint, c_ulong"
   ]
  },
  {
   "cell_type": "code",
   "execution_count": 12,
   "id": "e462d73f-2cfc-474e-ae4e-d2ccbfcf0954",
   "metadata": {},
   "outputs": [
    {
     "data": {
      "text/plain": [
       "c_ubyte(255)"
      ]
     },
     "execution_count": 12,
     "metadata": {},
     "output_type": "execute_result"
    }
   ],
   "source": [
    "c_ubyte(-1)"
   ]
  },
  {
   "cell_type": "code",
   "execution_count": 13,
   "id": "c2c83045-5190-4dfa-8077-a5c0879c14bd",
   "metadata": {},
   "outputs": [
    {
     "data": {
      "text/plain": [
       "c_uint(4294967295)"
      ]
     },
     "execution_count": 13,
     "metadata": {},
     "output_type": "execute_result"
    }
   ],
   "source": [
    "c_uint(-1)"
   ]
  },
  {
   "cell_type": "code",
   "execution_count": 14,
   "id": "b38d51ae-265b-4272-962e-bbe0d4657729",
   "metadata": {},
   "outputs": [
    {
     "data": {
      "text/plain": [
       "c_ulong(18446744073709551615)"
      ]
     },
     "execution_count": 14,
     "metadata": {},
     "output_type": "execute_result"
    }
   ],
   "source": [
    "c_ulong(-1)"
   ]
  },
  {
   "cell_type": "code",
   "execution_count": 15,
   "id": "462808e8-c316-4d63-bea9-9c7d5aab4500",
   "metadata": {},
   "outputs": [
    {
     "ename": "TypeError",
     "evalue": "unsupported operand type(s) for +: 'c_uint' and 'int'",
     "output_type": "error",
     "traceback": [
      "\u001b[0;31m---------------------------------------------------------------------------\u001b[0m",
      "\u001b[0;31mTypeError\u001b[0m                                 Traceback (most recent call last)",
      "\u001b[0;32m/tmp/ipykernel_1749549/3432102978.py\u001b[0m in \u001b[0;36m<module>\u001b[0;34m\u001b[0m\n\u001b[0;32m----> 1\u001b[0;31m \u001b[0mc_uint\u001b[0m\u001b[0;34m(\u001b[0m\u001b[0;34m-\u001b[0m\u001b[0;36m1\u001b[0m\u001b[0;34m)\u001b[0m\u001b[0;34m+\u001b[0m\u001b[0;36m1\u001b[0m\u001b[0;34m\u001b[0m\u001b[0;34m\u001b[0m\u001b[0m\n\u001b[0m",
      "\u001b[0;31mTypeError\u001b[0m: unsupported operand type(s) for +: 'c_uint' and 'int'"
     ]
    }
   ],
   "source": [
    "c_uint(-1)+1"
   ]
  },
  {
   "cell_type": "code",
   "execution_count": 16,
   "id": "79bbf3b7-bd61-46a1-aafa-c051afb44c8d",
   "metadata": {},
   "outputs": [
    {
     "ename": "TypeError",
     "evalue": "unsupported operand type(s) for +: 'c_uint' and 'c_uint'",
     "output_type": "error",
     "traceback": [
      "\u001b[0;31m---------------------------------------------------------------------------\u001b[0m",
      "\u001b[0;31mTypeError\u001b[0m                                 Traceback (most recent call last)",
      "\u001b[0;32m/tmp/ipykernel_1749549/2772756814.py\u001b[0m in \u001b[0;36m<module>\u001b[0;34m\u001b[0m\n\u001b[0;32m----> 1\u001b[0;31m \u001b[0mc_uint\u001b[0m\u001b[0;34m(\u001b[0m\u001b[0;34m-\u001b[0m\u001b[0;36m1\u001b[0m\u001b[0;34m)\u001b[0m\u001b[0;34m+\u001b[0m\u001b[0mc_uint\u001b[0m\u001b[0;34m(\u001b[0m\u001b[0;36m8\u001b[0m\u001b[0;34m)\u001b[0m\u001b[0;34m\u001b[0m\u001b[0;34m\u001b[0m\u001b[0m\n\u001b[0m",
      "\u001b[0;31mTypeError\u001b[0m: unsupported operand type(s) for +: 'c_uint' and 'c_uint'"
     ]
    }
   ],
   "source": [
    "c_uint(-1)+c_uint(8)"
   ]
  },
  {
   "cell_type": "code",
   "execution_count": 17,
   "id": "60609d7e-21b4-439c-a042-116fa102f8d2",
   "metadata": {},
   "outputs": [
    {
     "data": {
      "text/plain": [
       "4294967303"
      ]
     },
     "execution_count": 17,
     "metadata": {},
     "output_type": "execute_result"
    }
   ],
   "source": [
    "c_uint(-1).value+c_uint(8).value"
   ]
  },
  {
   "cell_type": "code",
   "execution_count": 18,
   "id": "43708fde-717b-498c-a210-1de6bec22563",
   "metadata": {},
   "outputs": [
    {
     "data": {
      "text/plain": [
       "c_uint(7)"
      ]
     },
     "execution_count": 18,
     "metadata": {},
     "output_type": "execute_result"
    }
   ],
   "source": [
    "c_uint(c_uint(-1).value+c_uint(8).value)"
   ]
  },
  {
   "cell_type": "code",
   "execution_count": 19,
   "id": "7c7bc629-1ec5-4048-84f0-dfb7e265a8d9",
   "metadata": {},
   "outputs": [],
   "source": [
    "from numpy import ubyte,uintc,uint"
   ]
  },
  {
   "cell_type": "code",
   "execution_count": 20,
   "id": "0e94320a-0120-493f-a3e6-ce590cd2a8da",
   "metadata": {},
   "outputs": [
    {
     "data": {
      "text/plain": [
       "(255, 4294967295, 18446744073709551615)"
      ]
     },
     "execution_count": 20,
     "metadata": {},
     "output_type": "execute_result"
    }
   ],
   "source": [
    "ubyte(-1),uintc(-1),uint(-1)"
   ]
  },
  {
   "cell_type": "code",
   "execution_count": 21,
   "id": "08ef4ef6-720e-4a43-9fc0-6597e925ecb9",
   "metadata": {},
   "outputs": [
    {
     "name": "stderr",
     "output_type": "stream",
     "text": [
      "/tmp/ipykernel_1749549/3071565241.py:1: RuntimeWarning: overflow encountered in uint_scalars\n",
      "  uintc(-1)+uintc(8)\n"
     ]
    },
    {
     "data": {
      "text/plain": [
       "7"
      ]
     },
     "execution_count": 21,
     "metadata": {},
     "output_type": "execute_result"
    }
   ],
   "source": [
    "uintc(-1)+uintc(8)"
   ]
  },
  {
   "cell_type": "code",
   "execution_count": 22,
   "id": "6cbbab12-033d-4603-aab3-4f1efb542e9f",
   "metadata": {},
   "outputs": [
    {
     "data": {
      "text/plain": [
       "{'divide': 'warn', 'over': 'warn', 'under': 'ignore', 'invalid': 'warn'}"
      ]
     },
     "execution_count": 22,
     "metadata": {},
     "output_type": "execute_result"
    }
   ],
   "source": [
    "import numpy as np\n",
    "np.seterr(over='ignore')\n",
    "#https://numpy.org/doc/stable/reference/generated/numpy.seterr.html\n",
    "#https://github.com/numpy/numpy/issues/8987"
   ]
  },
  {
   "cell_type": "code",
   "execution_count": 23,
   "id": "6d3b6c57-6a63-4969-92db-df9666a46614",
   "metadata": {},
   "outputs": [
    {
     "data": {
      "text/plain": [
       "7"
      ]
     },
     "execution_count": 23,
     "metadata": {},
     "output_type": "execute_result"
    }
   ],
   "source": [
    "uintc(-1)+uintc(8)"
   ]
  },
  {
   "cell_type": "code",
   "execution_count": 25,
   "id": "ddf207cb-c064-496e-b911-f7efddbd05f4",
   "metadata": {},
   "outputs": [
    {
     "name": "stdout",
     "output_type": "stream",
     "text": [
      "11 ns ± 0.0312 ns per loop (mean ± std. dev. of 7 runs, 100000000 loops each)\n"
     ]
    }
   ],
   "source": [
    "%timeit pass"
   ]
  },
  {
   "cell_type": "code",
   "execution_count": 26,
   "id": "3cdc0a34-e8c3-473c-b7e2-88770f050964",
   "metadata": {},
   "outputs": [
    {
     "name": "stdout",
     "output_type": "stream",
     "text": [
      "568 ns ± 33.3 ns per loop (mean ± std. dev. of 7 runs, 1000000 loops each)\n"
     ]
    }
   ],
   "source": [
    "%timeit c_uint(-1).value+c_uint(8).value"
   ]
  },
  {
   "cell_type": "code",
   "execution_count": 27,
   "id": "1d7f2437-1db8-442f-a491-9b536a0234fe",
   "metadata": {},
   "outputs": [
    {
     "name": "stdout",
     "output_type": "stream",
     "text": [
      "771 ns ± 63.4 ns per loop (mean ± std. dev. of 7 runs, 1000000 loops each)\n"
     ]
    }
   ],
   "source": [
    "%timeit c_uint(c_uint(-1).value+c_uint(8).value)"
   ]
  },
  {
   "cell_type": "code",
   "execution_count": 30,
   "id": "971b7eeb-cc04-4ec9-8cc8-10733b22298a",
   "metadata": {},
   "outputs": [
    {
     "name": "stdout",
     "output_type": "stream",
     "text": [
      "11 ns ± 0.805 ns per loop (mean ± std. dev. of 7 runs, 100000000 loops each)\n"
     ]
    }
   ],
   "source": [
    "%timeit (-1 % 256)"
   ]
  },
  {
   "cell_type": "code",
   "execution_count": 31,
   "id": "3a2c4060-4a84-476e-bc95-8cd92db8ced2",
   "metadata": {},
   "outputs": [
    {
     "name": "stdout",
     "output_type": "stream",
     "text": [
      "11 ns ± 0.871 ns per loop (mean ± std. dev. of 7 runs, 100000000 loops each)\n"
     ]
    }
   ],
   "source": [
    "%timeit (1 % 256)"
   ]
  },
  {
   "cell_type": "code",
   "execution_count": 32,
   "id": "640efad3-9250-4f37-b08f-17efde53e0da",
   "metadata": {},
   "outputs": [
    {
     "name": "stdout",
     "output_type": "stream",
     "text": [
      "10.5 ns ± 0.0238 ns per loop (mean ± std. dev. of 7 runs, 100000000 loops each)\n"
     ]
    }
   ],
   "source": [
    "%timeit (-1 & 255)"
   ]
  },
  {
   "cell_type": "code",
   "execution_count": 33,
   "id": "927afe88-aa8b-4f9a-bc01-b6412740b78a",
   "metadata": {},
   "outputs": [
    {
     "name": "stdout",
     "output_type": "stream",
     "text": [
      "10.6 ns ± 0.0227 ns per loop (mean ± std. dev. of 7 runs, 100000000 loops each)\n"
     ]
    }
   ],
   "source": [
    "%timeit (1 % 255)"
   ]
  },
  {
   "cell_type": "code",
   "execution_count": 36,
   "id": "7a72803d-cf42-4d4c-86b8-27bfdd4cfb5f",
   "metadata": {},
   "outputs": [
    {
     "name": "stdout",
     "output_type": "stream",
     "text": [
      "217 ns ± 20.6 ns per loop (mean ± std. dev. of 7 runs, 1000000 loops each)\n"
     ]
    }
   ],
   "source": [
    "%timeit c_ubyte(-1).value"
   ]
  },
  {
   "cell_type": "code",
   "execution_count": 37,
   "id": "16e6add1-06d8-4a48-96a9-ec01ef8fa2ad",
   "metadata": {},
   "outputs": [
    {
     "name": "stdout",
     "output_type": "stream",
     "text": [
      "209 ns ± 18.4 ns per loop (mean ± std. dev. of 7 runs, 1000000 loops each)\n"
     ]
    }
   ],
   "source": [
    "%timeit c_ubyte(1).value"
   ]
  },
  {
   "cell_type": "code",
   "execution_count": 42,
   "id": "9d7bd42e-6947-4f5e-905d-0b36e1311759",
   "metadata": {},
   "outputs": [
    {
     "name": "stdout",
     "output_type": "stream",
     "text": [
      "233 ns ± 18.6 ns per loop (mean ± std. dev. of 7 runs, 1000000 loops each)\n"
     ]
    }
   ],
   "source": [
    "%%timeit x=ubyte(0)\n",
    "x+=1"
   ]
  },
  {
   "cell_type": "code",
   "execution_count": 47,
   "id": "bbea4934-75c5-498e-878c-81645e52c6f1",
   "metadata": {},
   "outputs": [
    {
     "name": "stdout",
     "output_type": "stream",
     "text": [
      "83.1 ns ± 0.182 ns per loop (mean ± std. dev. of 7 runs, 10000000 loops each)\n"
     ]
    }
   ],
   "source": [
    "%%timeit x=ubyte(0);inc=ubyte(1)\n",
    "x+=inc"
   ]
  },
  {
   "cell_type": "code",
   "execution_count": 48,
   "id": "258005bd-dce8-4728-9b9d-49fc7baa8e9a",
   "metadata": {},
   "outputs": [
    {
     "name": "stdout",
     "output_type": "stream",
     "text": [
      "397 ns ± 40.6 ns per loop (mean ± std. dev. of 7 runs, 1000000 loops each)\n"
     ]
    }
   ],
   "source": [
    "%timeit ubyte(1)"
   ]
  },
  {
   "cell_type": "code",
   "execution_count": 49,
   "id": "3f0c2fda-89cb-46b4-a4b7-e5b15cede659",
   "metadata": {},
   "outputs": [
    {
     "name": "stdout",
     "output_type": "stream",
     "text": [
      "80.4 ns ± 5.89 ns per loop (mean ± std. dev. of 7 runs, 10000000 loops each)\n"
     ]
    }
   ],
   "source": [
    "%%timeit x=0\n",
    "x+=1\n",
    "x&=255"
   ]
  },
  {
   "cell_type": "code",
   "execution_count": 50,
   "id": "6942af4e-7ae6-4a74-8664-abff1e5965b1",
   "metadata": {},
   "outputs": [
    {
     "name": "stdout",
     "output_type": "stream",
     "text": [
      "68.6 ns ± 0.444 ns per loop (mean ± std. dev. of 7 runs, 10000000 loops each)\n"
     ]
    }
   ],
   "source": [
    "%%timeit x=0\n",
    "x=(x+1)&255"
   ]
  },
  {
   "cell_type": "code",
   "execution_count": 57,
   "id": "1afc406d-d892-4dac-b8b8-e99e178da742",
   "metadata": {},
   "outputs": [
    {
     "data": {
      "text/plain": [
       "0.9999999403953551"
      ]
     },
     "execution_count": 57,
     "metadata": {},
     "output_type": "execute_result"
    }
   ],
   "source": [
    "NormRANu*(2**32)"
   ]
  },
  {
   "cell_type": "code",
   "execution_count": 70,
   "id": "f4210baf-1b8a-4d32-89e2-2707eb5d1e48",
   "metadata": {},
   "outputs": [
    {
     "name": "stdout",
     "output_type": "stream",
     "text": [
      "2.328306297760818e-10\n",
      "2.3283064365386963e-10\n",
      "2.3283062977608265e-10\n"
     ]
    }
   ],
   "source": [
    "NormRAN = float(4.656612595521636e-10)\n",
    "NormRANu= float(0.5*4.656612595521636e-10)\n",
    "print(NormRANu)\n",
    "print(1/(2**32))\n",
    "print(1/(2**32+256))\n"
   ]
  },
  {
   "cell_type": "code",
   "execution_count": 72,
   "id": "4bd9828a-fea9-4d99-b1b4-1d1902cbb1ce",
   "metadata": {},
   "outputs": [
    {
     "name": "stdout",
     "output_type": "stream",
     "text": [
      "1.46 µs ± 4.95 ns per loop (mean ± std. dev. of 7 runs, 1000000 loops each)\n"
     ]
    }
   ],
   "source": [
    "%timeit rng()"
   ]
  },
  {
   "cell_type": "code",
   "execution_count": 1,
   "id": "5d9940b7-355a-4492-9177-bfc621808f9a",
   "metadata": {},
   "outputs": [],
   "source": [
    "import rng"
   ]
  },
  {
   "cell_type": "code",
   "execution_count": 2,
   "id": "41cf7b97-ea98-4bd4-9ea9-0ad3ff3cdc49",
   "metadata": {},
   "outputs": [
    {
     "name": "stdout",
     "output_type": "stream",
     "text": [
      "1.21 µs ± 6.05 ns per loop (mean ± std. dev. of 7 runs, 1000000 loops each)\n"
     ]
    }
   ],
   "source": [
    "%timeit rng.rng()"
   ]
  },
  {
   "cell_type": "code",
   "execution_count": 3,
   "id": "0b0bde9e-703b-4b9a-a15b-004198b6c3a1",
   "metadata": {},
   "outputs": [
    {
     "name": "stdout",
     "output_type": "stream",
     "text": [
      "8.56 µs ± 73.5 ns per loop (mean ± std. dev. of 7 runs, 100000 loops each)\n"
     ]
    }
   ],
   "source": [
    "%timeit rng.rngnp()"
   ]
  },
  {
   "cell_type": "code",
   "execution_count": 4,
   "id": "a0cccd8b-91f0-44f8-aff0-f0fcdc0052f8",
   "metadata": {},
   "outputs": [
    {
     "name": "stdout",
     "output_type": "stream",
     "text": [
      "32.8 µs ± 504 ns per loop (mean ± std. dev. of 7 runs, 10000 loops each)\n"
     ]
    }
   ],
   "source": [
    "%timeit rng.rngnpB()"
   ]
  },
  {
   "cell_type": "code",
   "execution_count": 5,
   "id": "094a5371-af23-43b8-87e4-fd90adf472b0",
   "metadata": {},
   "outputs": [
    {
     "name": "stdout",
     "output_type": "stream",
     "text": [
      "20.2 µs ± 248 ns per loop (mean ± std. dev. of 7 runs, 10000 loops each)\n"
     ]
    }
   ],
   "source": [
    "%timeit rng.rngnpC()"
   ]
  },
  {
   "cell_type": "code",
   "execution_count": 6,
   "id": "a2ff5ece-3970-4bd8-ac66-6be6fdf12b4a",
   "metadata": {},
   "outputs": [
    {
     "name": "stdout",
     "output_type": "stream",
     "text": [
      "24.2 µs ± 105 ns per loop (mean ± std. dev. of 7 runs, 10000 loops each)\n"
     ]
    }
   ],
   "source": [
    "%timeit rng.rngnpD()"
   ]
  },
  {
   "cell_type": "code",
   "execution_count": 7,
   "id": "3c282d70-ad74-4726-8b37-833f0269e851",
   "metadata": {},
   "outputs": [
    {
     "data": {
      "text/plain": [
       "5"
      ]
     },
     "execution_count": 7,
     "metadata": {},
     "output_type": "execute_result"
    }
   ],
   "source": [
    "np.add(2,3)"
   ]
  },
  {
   "cell_type": "code",
   "execution_count": null,
   "id": "5e096614-0935-4e58-9493-2cf9911bad1f",
   "metadata": {},
   "outputs": [],
   "source": []
  }
 ],
 "metadata": {
  "kernelspec": {
   "display_name": "Python 3 (ipykernel)",
   "language": "python",
   "name": "python3"
  },
  "language_info": {
   "codemirror_mode": {
    "name": "ipython",
    "version": 3
   },
   "file_extension": ".py",
   "mimetype": "text/x-python",
   "name": "python",
   "nbconvert_exporter": "python",
   "pygments_lexer": "ipython3",
   "version": "3.8.12"
  }
 },
 "nbformat": 4,
 "nbformat_minor": 5
}
