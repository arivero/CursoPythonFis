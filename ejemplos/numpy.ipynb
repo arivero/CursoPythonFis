{
 "cells": [
  {
   "cell_type": "code",
   "execution_count": 1,
   "source": [
    "#https://stackoverflow.com/questions/35215161/most-efficient-way-to-map-function-over-numpy-array\n",
    "\n",
    "import timeit\n",
    "import numpy as np\n",
    "\n",
    "f = lambda x: x ** 2\n",
    "vf = np.vectorize(f)\n",
    "uf=np.frompyfunc(f, 1, 1)\n",
    "\n",
    "def test_direct(x, n):\n",
    "    t = timeit.timeit(\n",
    "        'f(x)',\n",
    "        'from __main__ import x, f', number=n)\n",
    "    print('direct: {0:.3f}'.format(t))\n",
    "\n",
    "def test_vectorized(x, n):\n",
    "    t = timeit.timeit(\n",
    "        'vf(x)',\n",
    "        'from __main__ import x, vf', number=n)\n",
    "    print('vectorized: {0:.3f}'.format(t))\n",
    "\n",
    "def test_ufunc(x, n):\n",
    "    t = timeit.timeit(\n",
    "        'uf(x)',\n",
    "        'from __main__ import x, uf', number=n)\n",
    "    print('universal: {0:.3f}'.format(t))"
   ],
   "outputs": [],
   "metadata": {}
  },
  {
   "cell_type": "code",
   "execution_count": 2,
   "source": [
    "x = np.arange(1000)\n",
    "n = 10000\n",
    "test_direct(x, n)      # 0.007\n",
    "test_vectorized(x, n)  # 0.945\n",
    "test_ufunc(x,n)\n"
   ],
   "outputs": [
    {
     "output_type": "stream",
     "name": "stdout",
     "text": [
      "direct: 0.052\n",
      "vectorized: 4.732\n",
      "universal: 4.104\n"
     ]
    }
   ],
   "metadata": {}
  },
  {
   "cell_type": "code",
   "execution_count": 3,
   "source": [
    "x = np.arange(1000)\n",
    "n = 10000\n",
    "t = timeit.timeit(\n",
    "        'for i in range(len(x)): x[i]=f(x[i])',\n",
    "        'from __main__ import np, x, f', number=n)\n",
    "print('t: {0:.3f}'.format(t))"
   ],
   "outputs": [
    {
     "output_type": "stream",
     "name": "stdout",
     "text": [
      "t: 5.232\n"
     ]
    }
   ],
   "metadata": {}
  },
  {
   "cell_type": "code",
   "execution_count": 4,
   "source": [
    "L=4\n",
    "base=np.arange(L*L,dtype=np.double).reshape([L,L])\n",
    "print(base)"
   ],
   "outputs": [
    {
     "output_type": "stream",
     "name": "stdout",
     "text": [
      "[[ 0.  1.  2.  3.]\n",
      " [ 4.  5.  6.  7.]\n",
      " [ 8.  9. 10. 11.]\n",
      " [12. 13. 14. 15.]]\n"
     ]
    }
   ],
   "metadata": {}
  },
  {
   "cell_type": "code",
   "execution_count": 5,
   "source": [
    "\"\"\"ravel y unravel son cosas que se hacen tipicamente en lattices cuando se usa C\"\"\"\n",
    "np.unravel_index(6,base.shape)"
   ],
   "outputs": [
    {
     "output_type": "execute_result",
     "data": {
      "text/plain": [
       "(1, 2)"
      ]
     },
     "metadata": {},
     "execution_count": 5
    }
   ],
   "metadata": {}
  },
  {
   "cell_type": "code",
   "execution_count": 6,
   "source": [
    "np.unravel_index(6,(3,3,3))"
   ],
   "outputs": [
    {
     "output_type": "execute_result",
     "data": {
      "text/plain": [
       "(0, 2, 0)"
      ]
     },
     "metadata": {},
     "execution_count": 6
    }
   ],
   "metadata": {}
  },
  {
   "cell_type": "code",
   "execution_count": 7,
   "source": [
    "np.ravel_multi_index((1,2),base.shape)"
   ],
   "outputs": [
    {
     "output_type": "execute_result",
     "data": {
      "text/plain": [
       "6"
      ]
     },
     "metadata": {},
     "execution_count": 7
    }
   ],
   "metadata": {}
  },
  {
   "cell_type": "code",
   "execution_count": 8,
   "source": [
    "np.ravel_multi_index((2,4),base.shape,mode='wrap')"
   ],
   "outputs": [
    {
     "output_type": "execute_result",
     "data": {
      "text/plain": [
       "8"
      ]
     },
     "metadata": {},
     "execution_count": 8
    }
   ],
   "metadata": {}
  },
  {
   "cell_type": "code",
   "execution_count": 9,
   "source": [
    "np.unravel_index(range(27),(3,3,3))"
   ],
   "outputs": [
    {
     "output_type": "execute_result",
     "data": {
      "text/plain": [
       "(array([0, 0, 0, 0, 0, 0, 0, 0, 0, 1, 1, 1, 1, 1, 1, 1, 1, 1, 2, 2, 2, 2,\n",
       "        2, 2, 2, 2, 2]),\n",
       " array([0, 0, 0, 1, 1, 1, 2, 2, 2, 0, 0, 0, 1, 1, 1, 2, 2, 2, 0, 0, 0, 1,\n",
       "        1, 1, 2, 2, 2]),\n",
       " array([0, 1, 2, 0, 1, 2, 0, 1, 2, 0, 1, 2, 0, 1, 2, 0, 1, 2, 0, 1, 2, 0,\n",
       "        1, 2, 0, 1, 2]))"
      ]
     },
     "metadata": {},
     "execution_count": 9
    }
   ],
   "metadata": {}
  },
  {
   "cell_type": "code",
   "execution_count": 10,
   "source": [
    "[np.unravel_index(i,(3,3,3)) for i in range(27)]"
   ],
   "outputs": [
    {
     "output_type": "execute_result",
     "data": {
      "text/plain": [
       "[(0, 0, 0),\n",
       " (0, 0, 1),\n",
       " (0, 0, 2),\n",
       " (0, 1, 0),\n",
       " (0, 1, 1),\n",
       " (0, 1, 2),\n",
       " (0, 2, 0),\n",
       " (0, 2, 1),\n",
       " (0, 2, 2),\n",
       " (1, 0, 0),\n",
       " (1, 0, 1),\n",
       " (1, 0, 2),\n",
       " (1, 1, 0),\n",
       " (1, 1, 1),\n",
       " (1, 1, 2),\n",
       " (1, 2, 0),\n",
       " (1, 2, 1),\n",
       " (1, 2, 2),\n",
       " (2, 0, 0),\n",
       " (2, 0, 1),\n",
       " (2, 0, 2),\n",
       " (2, 1, 0),\n",
       " (2, 1, 1),\n",
       " (2, 1, 2),\n",
       " (2, 2, 0),\n",
       " (2, 2, 1),\n",
       " (2, 2, 2)]"
      ]
     },
     "metadata": {},
     "execution_count": 10
    }
   ],
   "metadata": {}
  },
  {
   "cell_type": "code",
   "execution_count": 11,
   "source": [
    "L=4\n",
    "import numpy as np\n",
    "base=(np.arange(L*L*L,dtype=np.int8)+65).reshape([L,L,L]).view('S1')    "
   ],
   "outputs": [],
   "metadata": {}
  },
  {
   "cell_type": "code",
   "execution_count": 12,
   "source": [
    "base"
   ],
   "outputs": [
    {
     "output_type": "execute_result",
     "data": {
      "text/plain": [
       "array([[[b'A', b'B', b'C', b'D'],\n",
       "        [b'E', b'F', b'G', b'H'],\n",
       "        [b'I', b'J', b'K', b'L'],\n",
       "        [b'M', b'N', b'O', b'P']],\n",
       "\n",
       "       [[b'Q', b'R', b'S', b'T'],\n",
       "        [b'U', b'V', b'W', b'X'],\n",
       "        [b'Y', b'Z', b'[', b'\\\\'],\n",
       "        [b']', b'^', b'_', b'`']],\n",
       "\n",
       "       [[b'a', b'b', b'c', b'd'],\n",
       "        [b'e', b'f', b'g', b'h'],\n",
       "        [b'i', b'j', b'k', b'l'],\n",
       "        [b'm', b'n', b'o', b'p']],\n",
       "\n",
       "       [[b'q', b'r', b's', b't'],\n",
       "        [b'u', b'v', b'w', b'x'],\n",
       "        [b'y', b'z', b'{', b'|'],\n",
       "        [b'}', b'~', b'\\x7f', b'\\x80']]], dtype='|S1')"
      ]
     },
     "metadata": {},
     "execution_count": 12
    }
   ],
   "metadata": {}
  },
  {
   "cell_type": "code",
   "execution_count": 13,
   "source": [
    "zplus=np.transpose(np.unravel_index(range(L*L*L),(L,L,L)))+(0,0,1)\n",
    "np.shape(zplus)"
   ],
   "outputs": [
    {
     "output_type": "execute_result",
     "data": {
      "text/plain": [
       "(64, 3)"
      ]
     },
     "metadata": {},
     "execution_count": 13
    }
   ],
   "metadata": {}
  },
  {
   "cell_type": "code",
   "execution_count": 14,
   "source": [
    "zp=np.array([np.ravel_multi_index(i,(L,L,L),mode='wrap') for i in zplus])"
   ],
   "outputs": [],
   "metadata": {}
  },
  {
   "cell_type": "code",
   "execution_count": 15,
   "source": [
    "base.take(zp).reshape((L,L,L))"
   ],
   "outputs": [
    {
     "output_type": "execute_result",
     "data": {
      "text/plain": [
       "array([[[b'B', b'C', b'D', b'A'],\n",
       "        [b'F', b'G', b'H', b'E'],\n",
       "        [b'J', b'K', b'L', b'I'],\n",
       "        [b'N', b'O', b'P', b'M']],\n",
       "\n",
       "       [[b'R', b'S', b'T', b'Q'],\n",
       "        [b'V', b'W', b'X', b'U'],\n",
       "        [b'Z', b'[', b'\\\\', b'Y'],\n",
       "        [b'^', b'_', b'`', b']']],\n",
       "\n",
       "       [[b'b', b'c', b'd', b'a'],\n",
       "        [b'f', b'g', b'h', b'e'],\n",
       "        [b'j', b'k', b'l', b'i'],\n",
       "        [b'n', b'o', b'p', b'm']],\n",
       "\n",
       "       [[b'r', b's', b't', b'q'],\n",
       "        [b'v', b'w', b'x', b'u'],\n",
       "        [b'z', b'{', b'|', b'y'],\n",
       "        [b'~', b'\\x7f', b'\\x80', b'}']]], dtype='|S1')"
      ]
     },
     "metadata": {},
     "execution_count": 15
    }
   ],
   "metadata": {}
  },
  {
   "cell_type": "code",
   "execution_count": 16,
   "source": [
    "np.char.add(base,base.take(zp).reshape((L,L,L)))"
   ],
   "outputs": [
    {
     "output_type": "execute_result",
     "data": {
      "text/plain": [
       "array([[[b'AB', b'BC', b'CD', b'DA'],\n",
       "        [b'EF', b'FG', b'GH', b'HE'],\n",
       "        [b'IJ', b'JK', b'KL', b'LI'],\n",
       "        [b'MN', b'NO', b'OP', b'PM']],\n",
       "\n",
       "       [[b'QR', b'RS', b'ST', b'TQ'],\n",
       "        [b'UV', b'VW', b'WX', b'XU'],\n",
       "        [b'YZ', b'Z[', b'[\\\\', b'\\\\Y'],\n",
       "        [b']^', b'^_', b'_`', b'`]']],\n",
       "\n",
       "       [[b'ab', b'bc', b'cd', b'da'],\n",
       "        [b'ef', b'fg', b'gh', b'he'],\n",
       "        [b'ij', b'jk', b'kl', b'li'],\n",
       "        [b'mn', b'no', b'op', b'pm']],\n",
       "\n",
       "       [[b'qr', b'rs', b'st', b'tq'],\n",
       "        [b'uv', b'vw', b'wx', b'xu'],\n",
       "        [b'yz', b'z{', b'{|', b'|y'],\n",
       "        [b'}~', b'~\\x7f', b'\\x7f\\x80', b'\\x80}']]], dtype='|S2')"
      ]
     },
     "metadata": {},
     "execution_count": 16
    }
   ],
   "metadata": {}
  },
  {
   "cell_type": "code",
   "execution_count": null,
   "source": [],
   "outputs": [],
   "metadata": {}
  }
 ],
 "metadata": {
  "interpreter": {
   "hash": "022bd4bbfecc8039a593343822acf020e7f3aad29134289ce44a53d4f0302060"
  },
  "kernelspec": {
   "name": "python3",
   "display_name": "Python 3.8.12 64-bit ('base': conda)"
  },
  "language_info": {
   "codemirror_mode": {
    "name": "ipython",
    "version": 3
   },
   "file_extension": ".py",
   "mimetype": "text/x-python",
   "name": "python",
   "nbconvert_exporter": "python",
   "pygments_lexer": "ipython3",
   "version": "3.8.12"
  }
 },
 "nbformat": 4,
 "nbformat_minor": 4
}