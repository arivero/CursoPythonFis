{
 "cells": [
  {
   "cell_type": "code",
   "execution_count": 21,
   "source": [
    "#https://stackoverflow.com/questions/35215161/most-efficient-way-to-map-function-over-numpy-array\n",
    "\n",
    "import timeit\n",
    "import numpy as np\n",
    "\n",
    "f = lambda x: x ** 2\n",
    "vf = np.vectorize(f)\n",
    "uf=np.frompyfunc(f, 1, 1)\n",
    "\n",
    "def test_direct(x, n):\n",
    "    t = timeit.timeit(\n",
    "        'f(x)',\n",
    "        'from __main__ import x, f', number=n)\n",
    "    print('direct: {0:.3f}'.format(t))\n",
    "\n",
    "def test_vectorized(x, n):\n",
    "    t = timeit.timeit(\n",
    "        'vf(x)',\n",
    "        'from __main__ import x, vf', number=n)\n",
    "    print('vectorized: {0:.3f}'.format(t))\n",
    "\n",
    "def test_ufunc(x, n):\n",
    "    t = timeit.timeit(\n",
    "        'uf(x)',\n",
    "        'from __main__ import x, uf', number=n)\n",
    "    print('universal: {0:.3f}'.format(t))"
   ],
   "outputs": [],
   "metadata": {}
  },
  {
   "cell_type": "code",
   "execution_count": 22,
   "source": [
    "x = np.arange(1000)\n",
    "n = 10000\n",
    "test_direct(x, n)      # 0.007\n",
    "test_vectorized(x, n)  # 0.945\n",
    "test_ufunc(x,n)\n"
   ],
   "outputs": [
    {
     "output_type": "stream",
     "name": "stdout",
     "text": [
      "direct: 0.041\n",
      "vectorized: 4.855\n",
      "universal: 4.084\n"
     ]
    }
   ],
   "metadata": {}
  },
  {
   "cell_type": "code",
   "execution_count": 6,
   "source": [
    "x = np.arange(1000)\n",
    "n = 10000\n",
    "t = timeit.timeit(\n",
    "        'for i in range(len(x)): x[i]=f(x[i])',\n",
    "        'from __main__ import np, x, f', number=n)\n",
    "print('t: {0:.3f}'.format(t))"
   ],
   "outputs": [
    {
     "output_type": "stream",
     "name": "stdout",
     "text": [
      "t: 5.356\n"
     ]
    }
   ],
   "metadata": {}
  },
  {
   "cell_type": "code",
   "execution_count": null,
   "source": [],
   "outputs": [],
   "metadata": {}
  }
 ],
 "metadata": {
  "orig_nbformat": 4,
  "language_info": {
   "name": "python",
   "version": "3.8.12",
   "mimetype": "text/x-python",
   "codemirror_mode": {
    "name": "ipython",
    "version": 3
   },
   "pygments_lexer": "ipython3",
   "nbconvert_exporter": "python",
   "file_extension": ".py"
  },
  "kernelspec": {
   "name": "python3",
   "display_name": "Python 3.8.12 64-bit ('base': conda)"
  },
  "interpreter": {
   "hash": "022bd4bbfecc8039a593343822acf020e7f3aad29134289ce44a53d4f0302060"
  }
 },
 "nbformat": 4,
 "nbformat_minor": 2
}