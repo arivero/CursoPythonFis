{
 "cells": [
  {
   "cell_type": "code",
   "execution_count": 1,
   "metadata": {},
   "outputs": [],
   "source": [
    "#https://stackoverflow.com/questions/35215161/most-efficient-way-to-map-function-over-numpy-array\n",
    "\n",
    "import timeit\n",
    "import numpy as np\n",
    "\n",
    "f = lambda x: x ** 2\n",
    "vf = np.vectorize(f)\n",
    "uf=np.frompyfunc(f, 1, 1)\n",
    "\n",
    "def test_direct(x, n):\n",
    "    t = timeit.timeit(\n",
    "        'f(x)',\n",
    "        'from __main__ import x, f', number=n)\n",
    "    print('direct: {0:.3f}'.format(t))\n",
    "\n",
    "def test_vectorized(x, n):\n",
    "    t = timeit.timeit(\n",
    "        'vf(x)',\n",
    "        'from __main__ import x, vf', number=n)\n",
    "    print('vectorized: {0:.3f}'.format(t))\n",
    "\n",
    "def test_ufunc(x, n):\n",
    "    t = timeit.timeit(\n",
    "        'uf(x)',\n",
    "        'from __main__ import x, uf', number=n)\n",
    "    print('universal: {0:.3f}'.format(t))"
   ]
  },
  {
   "cell_type": "code",
   "execution_count": 2,
   "metadata": {},
   "outputs": [
    {
     "name": "stdout",
     "output_type": "stream",
     "text": [
      "direct: 0.052\n",
      "vectorized: 4.732\n",
      "universal: 4.104\n"
     ]
    }
   ],
   "source": [
    "x = np.arange(1000)\n",
    "n = 10000\n",
    "test_direct(x, n)      # 0.007\n",
    "test_vectorized(x, n)  # 0.945\n",
    "test_ufunc(x,n)\n"
   ]
  },
  {
   "cell_type": "code",
   "execution_count": 3,
   "metadata": {},
   "outputs": [
    {
     "name": "stdout",
     "output_type": "stream",
     "text": [
      "t: 5.232\n"
     ]
    }
   ],
   "source": [
    "x = np.arange(1000)\n",
    "n = 10000\n",
    "t = timeit.timeit(\n",
    "        'for i in range(len(x)): x[i]=f(x[i])',\n",
    "        'from __main__ import np, x, f', number=n)\n",
    "print('t: {0:.3f}'.format(t))"
   ]
  },
  {
   "cell_type": "code",
   "execution_count": 4,
   "metadata": {},
   "outputs": [
    {
     "name": "stdout",
     "output_type": "stream",
     "text": [
      "[[ 0.  1.  2.  3.]\n",
      " [ 4.  5.  6.  7.]\n",
      " [ 8.  9. 10. 11.]\n",
      " [12. 13. 14. 15.]]\n"
     ]
    }
   ],
   "source": [
    "L=4\n",
    "base=np.arange(L*L,dtype=np.double).reshape([L,L])\n",
    "print(base)"
   ]
  },
  {
   "cell_type": "code",
   "execution_count": 5,
   "metadata": {},
   "outputs": [
    {
     "data": {
      "text/plain": [
       "(1, 2)"
      ]
     },
     "execution_count": 5,
     "metadata": {},
     "output_type": "execute_result"
    }
   ],
   "source": [
    "\"\"\"ravel y unravel son cosas que se hacen tipicamente en lattices cuando se usa C\"\"\"\n",
    "np.unravel_index(6,base.shape)"
   ]
  },
  {
   "cell_type": "code",
   "execution_count": 6,
   "metadata": {},
   "outputs": [
    {
     "data": {
      "text/plain": [
       "(0, 2, 0)"
      ]
     },
     "execution_count": 6,
     "metadata": {},
     "output_type": "execute_result"
    }
   ],
   "source": [
    "np.unravel_index(6,(3,3,3))"
   ]
  },
  {
   "cell_type": "code",
   "execution_count": 7,
   "metadata": {},
   "outputs": [
    {
     "data": {
      "text/plain": [
       "6"
      ]
     },
     "execution_count": 7,
     "metadata": {},
     "output_type": "execute_result"
    }
   ],
   "source": [
    "np.ravel_multi_index((1,2),base.shape)"
   ]
  },
  {
   "cell_type": "code",
   "execution_count": 8,
   "metadata": {},
   "outputs": [
    {
     "data": {
      "text/plain": [
       "8"
      ]
     },
     "execution_count": 8,
     "metadata": {},
     "output_type": "execute_result"
    }
   ],
   "source": [
    "np.ravel_multi_index((2,4),base.shape,mode='wrap')"
   ]
  },
  {
   "cell_type": "code",
   "execution_count": 9,
   "metadata": {},
   "outputs": [
    {
     "data": {
      "text/plain": [
       "(array([0, 0, 0, 0, 0, 0, 0, 0, 0, 1, 1, 1, 1, 1, 1, 1, 1, 1, 2, 2, 2, 2,\n",
       "        2, 2, 2, 2, 2]),\n",
       " array([0, 0, 0, 1, 1, 1, 2, 2, 2, 0, 0, 0, 1, 1, 1, 2, 2, 2, 0, 0, 0, 1,\n",
       "        1, 1, 2, 2, 2]),\n",
       " array([0, 1, 2, 0, 1, 2, 0, 1, 2, 0, 1, 2, 0, 1, 2, 0, 1, 2, 0, 1, 2, 0,\n",
       "        1, 2, 0, 1, 2]))"
      ]
     },
     "execution_count": 9,
     "metadata": {},
     "output_type": "execute_result"
    }
   ],
   "source": [
    "np.unravel_index(range(27),(3,3,3))"
   ]
  },
  {
   "cell_type": "code",
   "execution_count": 10,
   "metadata": {},
   "outputs": [
    {
     "data": {
      "text/plain": [
       "[(0, 0, 0),\n",
       " (0, 0, 1),\n",
       " (0, 0, 2),\n",
       " (0, 1, 0),\n",
       " (0, 1, 1),\n",
       " (0, 1, 2),\n",
       " (0, 2, 0),\n",
       " (0, 2, 1),\n",
       " (0, 2, 2),\n",
       " (1, 0, 0),\n",
       " (1, 0, 1),\n",
       " (1, 0, 2),\n",
       " (1, 1, 0),\n",
       " (1, 1, 1),\n",
       " (1, 1, 2),\n",
       " (1, 2, 0),\n",
       " (1, 2, 1),\n",
       " (1, 2, 2),\n",
       " (2, 0, 0),\n",
       " (2, 0, 1),\n",
       " (2, 0, 2),\n",
       " (2, 1, 0),\n",
       " (2, 1, 1),\n",
       " (2, 1, 2),\n",
       " (2, 2, 0),\n",
       " (2, 2, 1),\n",
       " (2, 2, 2)]"
      ]
     },
     "execution_count": 10,
     "metadata": {},
     "output_type": "execute_result"
    }
   ],
   "source": [
    "[np.unravel_index(i,(3,3,3)) for i in range(27)]"
   ]
  },
  {
   "cell_type": "code",
   "execution_count": 11,
   "metadata": {},
   "outputs": [],
   "source": [
    "L=4\n",
    "import numpy as np\n",
    "base=(np.arange(L*L*L,dtype=np.int8)+65).reshape([L,L,L]).view('S1')    "
   ]
  },
  {
   "cell_type": "code",
   "execution_count": 12,
   "metadata": {},
   "outputs": [
    {
     "data": {
      "text/plain": [
       "array([[[b'A', b'B', b'C', b'D'],\n",
       "        [b'E', b'F', b'G', b'H'],\n",
       "        [b'I', b'J', b'K', b'L'],\n",
       "        [b'M', b'N', b'O', b'P']],\n",
       "\n",
       "       [[b'Q', b'R', b'S', b'T'],\n",
       "        [b'U', b'V', b'W', b'X'],\n",
       "        [b'Y', b'Z', b'[', b'\\\\'],\n",
       "        [b']', b'^', b'_', b'`']],\n",
       "\n",
       "       [[b'a', b'b', b'c', b'd'],\n",
       "        [b'e', b'f', b'g', b'h'],\n",
       "        [b'i', b'j', b'k', b'l'],\n",
       "        [b'm', b'n', b'o', b'p']],\n",
       "\n",
       "       [[b'q', b'r', b's', b't'],\n",
       "        [b'u', b'v', b'w', b'x'],\n",
       "        [b'y', b'z', b'{', b'|'],\n",
       "        [b'}', b'~', b'\\x7f', b'\\x80']]], dtype='|S1')"
      ]
     },
     "execution_count": 12,
     "metadata": {},
     "output_type": "execute_result"
    }
   ],
   "source": [
    "base"
   ]
  },
  {
   "cell_type": "code",
   "execution_count": 13,
   "metadata": {},
   "outputs": [
    {
     "data": {
      "text/plain": [
       "(64, 3)"
      ]
     },
     "execution_count": 13,
     "metadata": {},
     "output_type": "execute_result"
    }
   ],
   "source": [
    "zplus=np.transpose(np.unravel_index(range(L*L*L),(L,L,L)))+(0,0,1)\n",
    "np.shape(zplus)"
   ]
  },
  {
   "cell_type": "code",
   "execution_count": 14,
   "metadata": {},
   "outputs": [],
   "source": [
    "zp=np.array([np.ravel_multi_index(i,(L,L,L),mode='wrap') for i in zplus])"
   ]
  },
  {
   "cell_type": "code",
   "execution_count": 15,
   "metadata": {},
   "outputs": [
    {
     "data": {
      "text/plain": [
       "array([[[b'B', b'C', b'D', b'A'],\n",
       "        [b'F', b'G', b'H', b'E'],\n",
       "        [b'J', b'K', b'L', b'I'],\n",
       "        [b'N', b'O', b'P', b'M']],\n",
       "\n",
       "       [[b'R', b'S', b'T', b'Q'],\n",
       "        [b'V', b'W', b'X', b'U'],\n",
       "        [b'Z', b'[', b'\\\\', b'Y'],\n",
       "        [b'^', b'_', b'`', b']']],\n",
       "\n",
       "       [[b'b', b'c', b'd', b'a'],\n",
       "        [b'f', b'g', b'h', b'e'],\n",
       "        [b'j', b'k', b'l', b'i'],\n",
       "        [b'n', b'o', b'p', b'm']],\n",
       "\n",
       "       [[b'r', b's', b't', b'q'],\n",
       "        [b'v', b'w', b'x', b'u'],\n",
       "        [b'z', b'{', b'|', b'y'],\n",
       "        [b'~', b'\\x7f', b'\\x80', b'}']]], dtype='|S1')"
      ]
     },
     "execution_count": 15,
     "metadata": {},
     "output_type": "execute_result"
    }
   ],
   "source": [
    "base.take(zp).reshape((L,L,L))"
   ]
  },
  {
   "cell_type": "code",
   "execution_count": 16,
   "metadata": {},
   "outputs": [
    {
     "data": {
      "text/plain": [
       "array([[[b'AB', b'BC', b'CD', b'DA'],\n",
       "        [b'EF', b'FG', b'GH', b'HE'],\n",
       "        [b'IJ', b'JK', b'KL', b'LI'],\n",
       "        [b'MN', b'NO', b'OP', b'PM']],\n",
       "\n",
       "       [[b'QR', b'RS', b'ST', b'TQ'],\n",
       "        [b'UV', b'VW', b'WX', b'XU'],\n",
       "        [b'YZ', b'Z[', b'[\\\\', b'\\\\Y'],\n",
       "        [b']^', b'^_', b'_`', b'`]']],\n",
       "\n",
       "       [[b'ab', b'bc', b'cd', b'da'],\n",
       "        [b'ef', b'fg', b'gh', b'he'],\n",
       "        [b'ij', b'jk', b'kl', b'li'],\n",
       "        [b'mn', b'no', b'op', b'pm']],\n",
       "\n",
       "       [[b'qr', b'rs', b'st', b'tq'],\n",
       "        [b'uv', b'vw', b'wx', b'xu'],\n",
       "        [b'yz', b'z{', b'{|', b'|y'],\n",
       "        [b'}~', b'~\\x7f', b'\\x7f\\x80', b'\\x80}']]], dtype='|S2')"
      ]
     },
     "execution_count": 16,
     "metadata": {},
     "output_type": "execute_result"
    }
   ],
   "source": [
    "np.char.add(base,base.take(zp).reshape((L,L,L)))"
   ]
  },
  {
   "cell_type": "code",
   "execution_count": 3,
   "metadata": {},
   "outputs": [
    {
     "data": {
      "text/plain": [
       "array([ 0. ,  0.5,  1. ,  1.5,  2. ,  2.5,  3. ,  3.5,  4. ,  4.5,  5. ,\n",
       "        5.5,  6. ,  6.5,  7. ,  7.5,  8. ,  8.5,  9. ,  9.5, 10. ])"
      ]
     },
     "execution_count": 3,
     "metadata": {},
     "output_type": "execute_result"
    }
   ],
   "source": [
    "#https://github.com/AeroPython/basic-python-packages-for-science/blob/master/Basic%20Python%20Packages%20for%20Science.ipynb\n",
    "np.linspace(0, 10, 21)\n"
   ]
  },
  {
   "cell_type": "code",
   "execution_count": 5,
   "metadata": {},
   "outputs": [
    {
     "data": {
      "text/plain": [
       "dtype('float64')"
      ]
     },
     "execution_count": 5,
     "metadata": {},
     "output_type": "execute_result"
    }
   ],
   "source": [
    "np.linspace(0, 10, 21).dtype"
   ]
  },
  {
   "cell_type": "code",
   "execution_count": 7,
   "metadata": {},
   "outputs": [
    {
     "data": {
      "text/plain": [
       "dtype('int64')"
      ]
     },
     "execution_count": 7,
     "metadata": {},
     "output_type": "execute_result"
    }
   ],
   "source": [
    "np.arange(0,20,2).dtype"
   ]
  },
  {
   "cell_type": "code",
   "execution_count": 8,
   "metadata": {},
   "outputs": [
    {
     "data": {
      "text/plain": [
       "array([[0, 1, 0, 1, 0, 1, 0, 1],\n",
       "       [1, 0, 1, 0, 1, 0, 1, 0],\n",
       "       [0, 1, 0, 1, 0, 1, 0, 1],\n",
       "       [1, 0, 1, 0, 1, 0, 1, 0],\n",
       "       [0, 1, 0, 1, 0, 1, 0, 1],\n",
       "       [1, 0, 1, 0, 1, 0, 1, 0],\n",
       "       [0, 1, 0, 1, 0, 1, 0, 1],\n",
       "       [1, 0, 1, 0, 1, 0, 1, 0]])"
      ]
     },
     "execution_count": 8,
     "metadata": {},
     "output_type": "execute_result"
    }
   ],
   "source": [
    "#start:stop:step\n",
    "chess_board = np.zeros([8, 8], dtype=int)\n",
    "\n",
    "chess_board[0::2, 1::2] = 1\n",
    "chess_board[1::2, 0::2] = 1\n",
    "\n",
    "chess_board"
   ]
  },
  {
   "cell_type": "code",
   "execution_count": 10,
   "metadata": {},
   "outputs": [
    {
     "data": {
      "text/plain": [
       "'hacer un ejempo usando .T @ inv eig'"
      ]
     },
     "execution_count": 10,
     "metadata": {},
     "output_type": "execute_result"
    }
   ],
   "source": [
    "\"\"\"hacer un ejempo usando .T @ (multiplicacion de matrices) linalg.inv linalg.eig\"\"\""
   ]
  },
  {
   "cell_type": "code",
   "execution_count": 4,
   "metadata": {},
   "outputs": [],
   "source": [
    "#es realmente el dot de numpy todavia mas lento que paralelizar?\n",
    "#vamos a ejecutar el ejemplo de johansson\n",
    "#https://nbviewer.org/github/jrjohansson/scientific-python-lectures/blob/master/Lecture-6B-HPC.ipynb\n",
    "%load_ext Cython\n"
   ]
  },
  {
   "cell_type": "code",
   "execution_count": 5,
   "metadata": {},
   "outputs": [],
   "source": [
    "# prepare some random data\n",
    "N_core=12\n",
    "N = 4 * N_core\n",
    "\n",
    "M = np.random.rand(N, N)\n",
    "x = np.random.rand(N)\n",
    "y = np.zeros_like(x)"
   ]
  },
  {
   "cell_type": "code",
   "execution_count": 6,
   "metadata": {},
   "outputs": [],
   "source": [
    "%%cython\n",
    "\n",
    "cimport cython\n",
    "cimport numpy\n",
    "import numpy\n",
    "\n",
    "@cython.boundscheck(False)\n",
    "@cython.wraparound(False)\n",
    "def cy_matvec(numpy.ndarray[numpy.float64_t, ndim=2] M, \n",
    "              numpy.ndarray[numpy.float64_t, ndim=1] x, \n",
    "              numpy.ndarray[numpy.float64_t, ndim=1] y):\n",
    "\n",
    "    cdef int i, j, n = len(x)\n",
    "\n",
    "    for i from 0 <= i < n:\n",
    "        for j from 0 <= j < n:\n",
    "            y[i] += M[i, j] * x[j]\n",
    "            \n",
    "    return y"
   ]
  },
  {
   "cell_type": "code",
   "execution_count": 7,
   "metadata": {},
   "outputs": [
    {
     "data": {
      "text/plain": [
       "array([ 3.55271368e-15,  1.77635684e-15, -3.55271368e-15, -1.77635684e-15,\n",
       "        3.55271368e-15,  5.32907052e-15, -3.55271368e-15,  0.00000000e+00,\n",
       "        0.00000000e+00, -5.32907052e-15,  0.00000000e+00, -1.77635684e-15,\n",
       "        1.77635684e-15, -1.77635684e-15, -1.77635684e-15, -1.77635684e-15,\n",
       "       -1.77635684e-15, -1.77635684e-15, -5.32907052e-15, -3.55271368e-15,\n",
       "        1.77635684e-15,  0.00000000e+00, -3.55271368e-15,  3.55271368e-15,\n",
       "        0.00000000e+00, -5.32907052e-15,  1.77635684e-15,  0.00000000e+00,\n",
       "       -8.88178420e-15,  1.77635684e-15, -7.10542736e-15, -5.32907052e-15,\n",
       "        1.77635684e-15,  0.00000000e+00, -1.77635684e-15, -3.55271368e-15,\n",
       "        0.00000000e+00, -3.55271368e-15,  0.00000000e+00, -5.32907052e-15,\n",
       "       -5.32907052e-15, -5.32907052e-15,  1.77635684e-15, -1.77635684e-15,\n",
       "        0.00000000e+00, -1.77635684e-15, -3.55271368e-15,  3.55271368e-15])"
      ]
     },
     "execution_count": 7,
     "metadata": {},
     "output_type": "execute_result"
    }
   ],
   "source": [
    "# check that we get the same results\n",
    "y = np.zeros_like(x)\n",
    "cy_matvec(M, x, y)\n",
    "np.dot(M, x) - y"
   ]
  },
  {
   "cell_type": "code",
   "execution_count": 8,
   "metadata": {},
   "outputs": [
    {
     "name": "stdout",
     "output_type": "stream",
     "text": [
      "3.2 µs ± 7.42 ns per loop (mean ± std. dev. of 7 runs, 100000 loops each)\n"
     ]
    }
   ],
   "source": [
    "%timeit numpy.dot(M, x)"
   ]
  },
  {
   "cell_type": "code",
   "execution_count": 9,
   "metadata": {},
   "outputs": [
    {
     "name": "stdout",
     "output_type": "stream",
     "text": [
      "3.9 µs ± 40.4 ns per loop (mean ± std. dev. of 7 runs, 100000 loops each)\n"
     ]
    }
   ],
   "source": [
    "%timeit cy_matvec(M, x, y)"
   ]
  },
  {
   "cell_type": "code",
   "execution_count": 11,
   "metadata": {},
   "outputs": [
    {
     "name": "stderr",
     "output_type": "stream",
     "text": [
      "In file included from /home/cursofis/anaconda3/lib/python3.8/site-packages/numpy/core/include/numpy/ndarraytypes.h:1944:0,\n",
      "                 from /home/cursofis/anaconda3/lib/python3.8/site-packages/numpy/core/include/numpy/ndarrayobject.h:12,\n",
      "                 from /home/cursofis/anaconda3/lib/python3.8/site-packages/numpy/core/include/numpy/arrayobject.h:4,\n",
      "                 from /home/cursofis/.cache/ipython/cython/_cython_magic_2f6784a0bf1b8c9f319b4003c998d5aa.c:651:\n",
      "/home/cursofis/anaconda3/lib/python3.8/site-packages/numpy/core/include/numpy/npy_1_7_deprecated_api.h:17:2: warning: #warning \"Using deprecated NumPy API, disable it with \" \"#define NPY_NO_DEPRECATED_API NPY_1_7_API_VERSION\" [-Wcpp]\n",
      " #warning \"Using deprecated NumPy API, disable it with \" \\\n",
      "  ^~~~~~~\n"
     ]
    }
   ],
   "source": [
    "%%cython -f -c-fopenmp --link-args=-fopenmp -c-g\n",
    "\n",
    "cimport cython\n",
    "cimport numpy\n",
    "from cython.parallel import parallel\n",
    "cimport openmp\n",
    "\n",
    "@cython.boundscheck(False)\n",
    "@cython.wraparound(False)\n",
    "def cy_matvec_omp(numpy.ndarray[numpy.float64_t, ndim=2] M, \n",
    "                  numpy.ndarray[numpy.float64_t, ndim=1] x, \n",
    "                  numpy.ndarray[numpy.float64_t, ndim=1] y):\n",
    "\n",
    "    cdef int i, j, n = len(x), N, r, m\n",
    "\n",
    "    # release GIL, so that we can use OpenMP\n",
    "    with nogil, parallel():\n",
    "        N = openmp.omp_get_num_threads()\n",
    "        r = openmp.omp_get_thread_num()\n",
    "        m = n // N  #ojo, quiere usar division entera\n",
    "        \n",
    "        for i from 0 <= i < m:\n",
    "            for j from 0 <= j < n:\n",
    "                y[r * m + i] += M[r * m + i, j] * x[j]\n",
    "\n",
    "    return y"
   ]
  },
  {
   "cell_type": "markdown",
   "metadata": {},
   "source": []
  },
  {
   "cell_type": "code",
   "execution_count": 12,
   "metadata": {},
   "outputs": [
    {
     "name": "stdout",
     "output_type": "stream",
     "text": [
      "501 µs ± 25.3 µs per loop (mean ± std. dev. of 7 runs, 1000 loops each)\n"
     ]
    }
   ],
   "source": [
    "%timeit cy_matvec_omp(M, x, y)"
   ]
  },
  {
   "cell_type": "code",
   "execution_count": 14,
   "metadata": {},
   "outputs": [],
   "source": [
    "import time\n",
    "import numpy\n",
    "import multiprocessing\n",
    "N_core = min(12,multiprocessing.cpu_count())\n",
    "N_vec  = numpy.arange(25, 2000, 25) * N_core\n",
    "duration_ref = numpy.zeros(len(N_vec))\n",
    "duration_cy = numpy.zeros(len(N_vec))\n",
    "duration_cy_omp = numpy.zeros(len(N_vec))\n",
    "\n",
    "for idx, N in enumerate(N_vec):\n",
    "    \n",
    "    M = numpy.random.rand(N, N)\n",
    "    x = numpy.random.rand(N)\n",
    "    y = numpy.zeros_like(x)\n",
    "    \n",
    "    t0 = time.time()\n",
    "    numpy.dot(M, x)\n",
    "    duration_ref[idx] = time.time() - t0\n",
    "    \n",
    "    t0 = time.time()\n",
    "    cy_matvec(M, x, y)\n",
    "    duration_cy[idx] = time.time() - t0\n",
    "    \n",
    "    t0 = time.time()\n",
    "    cy_matvec_omp(M, x, y)\n",
    "    duration_cy_omp[idx] = time.time() - t0\n"
   ]
  },
  {
   "cell_type": "code",
   "execution_count": 15,
   "metadata": {},
   "outputs": [
    {
     "data": {
      "image/png": "[encoded data removed]",
      "text/plain": [
       "<Figure size 864x432 with 1 Axes>"
      ]
     },
     "metadata": {
      "needs_background": "light"
     },
     "output_type": "display_data"
    }
   ],
   "source": [
    "%matplotlib inline\n",
    "import matplotlib.pyplot as plt\n",
    "fig, ax = plt.subplots(figsize=(12, 6))\n",
    "\n",
    "ax.loglog(N_vec, duration_ref, label='numpy')\n",
    "ax.loglog(N_vec, duration_cy, label='cython')\n",
    "ax.loglog(N_vec, duration_cy_omp, label='cython+openmp')\n",
    "\n",
    "ax.legend(loc=2)\n",
    "ax.set_yscale(\"log\")\n",
    "ax.set_ylabel(\"matrix-vector multiplication duration\")\n",
    "ax.set_xlabel(\"matrix size\");"
   ]
  },
  {
   "cell_type": "markdown",
   "metadata": {},
   "source": [
    "La version cython aqui iguala pero no gana, salvo sorprendentemente para valores pequeños"
   ]
  },
  {
   "cell_type": "code",
   "execution_count": 25,
   "metadata": {},
   "outputs": [],
   "source": [
    "import multiprocessing\n",
    "#N_core = multiprocessing.cpu_count()\n",
    "N_vec  = numpy.arange(2, 1000, 1)\n",
    "N_vec  = numpy.append(N_vec,numpy.arange(1000, 3000, 5))\n",
    "N_vec  = numpy.append(N_vec,numpy.arange(3000, 10000, 500))\n",
    "N_vec =  numpy.append(N_vec,numpy.arange(10000, 40000, 1000))\n",
    "duration_ref = numpy.zeros(len(N_vec))\n",
    "duration_cy = numpy.zeros(len(N_vec))\n",
    "duration_cy_omp = numpy.zeros(len(N_vec))\n",
    "\n",
    "for idx, N in enumerate(N_vec):\n",
    "    \n",
    "    M = numpy.random.rand(N, N)\n",
    "    x = numpy.random.rand(N)\n",
    "    y = numpy.zeros_like(x)\n",
    "    \n",
    "    t0 = time.time()\n",
    "    numpy.dot(M, x)\n",
    "    duration_ref[idx] = time.time() - t0\n",
    "\n",
    "    if N < 5000 or N in (1000,3000,10000):\n",
    "        t0 = time.time()\n",
    "        cy_matvec(M, x, y)\n",
    "        duration_cy[idx] = time.time() - t0\n",
    "    else:\n",
    "        duration_cy[idx] = numpy.NaN\n",
    "    \n",
    "    t0 = time.time()\n",
    "    cy_matvec_omp(M, x, y)\n",
    "    duration_cy_omp[idx] = time.time() - t0\n"
   ]
  },
  {
   "cell_type": "code",
   "execution_count": 27,
   "metadata": {},
   "outputs": [
    {
     "name": "stdout",
     "output_type": "stream",
     "text": [
      "Ncores: 24\n"
     ]
    },
    {
     "data": {
      "image/png": "[encoded data removed]",
      "text/plain": [
       "<Figure size 864x432 with 1 Axes>"
      ]
     },
     "metadata": {
      "needs_background": "light"
     },
     "output_type": "display_data"
    }
   ],
   "source": [
    "print(\"Ncores:\",multiprocessing.cpu_count())\n",
    "fig, ax = plt.subplots(figsize=(12, 6))\n",
    "\n",
    "ax.loglog(N_vec, duration_ref, label='numpy')\n",
    "ax.loglog(N_vec, duration_cy, label='cython')\n",
    "ax.loglog(N_vec, duration_cy_omp, label='cython+openmp')\n",
    "\n",
    "ax.legend(loc=2)\n",
    "ax.set_yscale(\"log\")\n",
    "ax.set_ylabel(\"matrix-vector multiplication duration\")\n",
    "ax.set_xlabel(\"matrix size\");"
   ]
  },
  {
   "cell_type": "code",
   "execution_count": null,
   "metadata": {},
   "outputs": [],
   "source": []
  },
  {
   "cell_type": "code",
   "execution_count": null,
   "metadata": {},
   "outputs": [],
   "source": []
  }
 ],
 "metadata": {
  "interpreter": {
   "hash": "3de448cab3e9e1fb8335bf3df677237b601577228366e67f0bbcb292b805168c"
  },
  "kernelspec": {
   "display_name": "Python 3.8.12 64-bit ('base': conda)",
   "name": "python3"
  },
  "language_info": {
   "codemirror_mode": {
    "name": "ipython",
    "version": 3
   },
   "file_extension": ".py",
   "mimetype": "text/x-python",
   "name": "python",
   "nbconvert_exporter": "python",
   "pygments_lexer": "ipython3",
   "version": "3.8.12"
  }
 },
 "nbformat": 4,
 "nbformat_minor": 4
}
