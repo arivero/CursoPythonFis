{
 "cells": [
  {
   "cell_type": "code",
   "execution_count": 1,
   "metadata": {},
   "outputs": [],
   "source": [
    "L=8\n",
    "import numpy as np\n",
    "import scipy as sp"
   ]
  },
  {
   "cell_type": "code",
   "execution_count": 2,
   "metadata": {},
   "outputs": [
    {
     "data": {
      "text/plain": [
       "130816.0"
      ]
     },
     "execution_count": 2,
     "metadata": {},
     "output_type": "execute_result"
    }
   ],
   "source": [
    "base=np.arange(L*L*L,dtype=np.double).reshape([L,L,L]) #double es float64 en linux\n",
    "sum(sum(sum(base)))"
   ]
  },
  {
   "cell_type": "code",
   "execution_count": 3,
   "metadata": {},
   "outputs": [
    {
     "data": {
      "text/plain": [
       "(512, 64, 8, 512, 64, 8)"
      ]
     },
     "execution_count": 3,
     "metadata": {},
     "output_type": "execute_result"
    }
   ],
   "source": [
    "#https://stackoverflow.com/questions/43086557/convolve2d-just-by-using-numpy\n",
    "base.strides*2"
   ]
  },
  {
   "cell_type": "code",
   "execution_count": 4,
   "metadata": {},
   "outputs": [
    {
     "data": {
      "text/plain": [
       "(6, 6, 6, 3, 3, 3)"
      ]
     },
     "execution_count": 4,
     "metadata": {},
     "output_type": "execute_result"
    }
   ],
   "source": [
    "t=np.lib.stride_tricks.as_strided(base,(L-2,L-2,L-2,3,3,3),base.strides*2)\n",
    "np.shape(t)"
   ]
  },
  {
   "cell_type": "code",
   "execution_count": 5,
   "metadata": {},
   "outputs": [
    {
     "data": {
      "text/plain": [
       "array([[[  0.,   1.,   2.],\n",
       "        [  8.,   9.,  10.],\n",
       "        [ 16.,  17.,  18.]],\n",
       "\n",
       "       [[ 64.,  65.,  66.],\n",
       "        [ 72.,  73.,  74.],\n",
       "        [ 80.,  81.,  82.]],\n",
       "\n",
       "       [[128., 129., 130.],\n",
       "        [136., 137., 138.],\n",
       "        [144., 145., 146.]]])"
      ]
     },
     "execution_count": 5,
     "metadata": {},
     "output_type": "execute_result"
    }
   ],
   "source": [
    "t[0,0,0]"
   ]
  },
  {
   "cell_type": "code",
   "execution_count": 6,
   "metadata": {},
   "outputs": [
    {
     "name": "stdout",
     "output_type": "stream",
     "text": [
      "[[ 0.  1.  2.  3.]\n",
      " [ 4.  5.  6.  7.]\n",
      " [ 8.  9. 10. 11.]\n",
      " [12. 13. 14. 15.]]\n"
     ]
    }
   ],
   "source": [
    "L=4\n",
    "base=np.arange(L*L,dtype=np.double).reshape([L,L])\n",
    "print(base)"
   ]
  },
  {
   "cell_type": "code",
   "execution_count": 7,
   "metadata": {},
   "outputs": [
    {
     "data": {
      "text/plain": [
       "array([[ 0.,  0.,  0.,  0.,  0.,  0.],\n",
       "       [ 0.,  0.,  1.,  2.,  3.,  0.],\n",
       "       [ 0.,  4.,  5.,  6.,  7.,  0.],\n",
       "       [ 0.,  8.,  9., 10., 11.,  0.],\n",
       "       [ 0., 12., 13., 14., 15.,  0.],\n",
       "       [ 0.,  0.,  0.,  0.,  0.,  0.]])"
      ]
     },
     "execution_count": 7,
     "metadata": {},
     "output_type": "execute_result"
    }
   ],
   "source": [
    "np.pad(base,1)"
   ]
  },
  {
   "cell_type": "code",
   "execution_count": 8,
   "metadata": {},
   "outputs": [
    {
     "data": {
      "text/plain": [
       "array([[15., 12., 13., 14., 15., 12.],\n",
       "       [ 3.,  0.,  1.,  2.,  3.,  0.],\n",
       "       [ 7.,  4.,  5.,  6.,  7.,  4.],\n",
       "       [11.,  8.,  9., 10., 11.,  8.],\n",
       "       [15., 12., 13., 14., 15., 12.],\n",
       "       [ 3.,  0.,  1.,  2.,  3.,  0.]])"
      ]
     },
     "execution_count": 8,
     "metadata": {},
     "output_type": "execute_result"
    }
   ],
   "source": [
    "np.pad(base,1,mode='wrap')"
   ]
  },
  {
   "cell_type": "code",
   "execution_count": 9,
   "metadata": {},
   "outputs": [
    {
     "data": {
      "text/plain": [
       "array([[ 2.,  4.],\n",
       "       [15.,  1.]])"
      ]
     },
     "execution_count": 9,
     "metadata": {},
     "output_type": "execute_result"
    }
   ],
   "source": [
    "base.take(((2,4),(-1,1)),mode='wrap')"
   ]
  },
  {
   "cell_type": "code",
   "execution_count": 10,
   "metadata": {},
   "outputs": [
    {
     "data": {
      "text/plain": [
       "array([[0.],\n",
       "       [4.]])"
      ]
     },
     "execution_count": 10,
     "metadata": {},
     "output_type": "execute_result"
    }
   ],
   "source": [
    "base.take([[0],[4]],mode='wrap')"
   ]
  },
  {
   "cell_type": "code",
   "execution_count": 11,
   "metadata": {},
   "outputs": [],
   "source": [
    "x=np.pad(base,1,mode='wrap')"
   ]
  },
  {
   "cell_type": "code",
   "execution_count": 12,
   "metadata": {},
   "outputs": [
    {
     "data": {
      "text/plain": [
       "array([[15., 12., 13., 14., 15., 12.],\n",
       "       [ 3.,  0.,  1.,  2.,  3.,  0.],\n",
       "       [ 7.,  4.,  5.,  6.,  7.,  4.],\n",
       "       [11.,  8.,  9., 10., 11.,  8.],\n",
       "       [15., 12., 13., 14., 15., 12.],\n",
       "       [ 3.,  0.,  1.,  2.,  3.,  0.]])"
      ]
     },
     "execution_count": 12,
     "metadata": {},
     "output_type": "execute_result"
    }
   ],
   "source": [
    "x"
   ]
  },
  {
   "cell_type": "code",
   "execution_count": 13,
   "metadata": {},
   "outputs": [],
   "source": [
    "base[0,0]=48"
   ]
  },
  {
   "cell_type": "code",
   "execution_count": 14,
   "metadata": {},
   "outputs": [
    {
     "data": {
      "text/plain": [
       "array([[48.,  1.,  2.,  3.],\n",
       "       [ 4.,  5.,  6.,  7.],\n",
       "       [ 8.,  9., 10., 11.],\n",
       "       [12., 13., 14., 15.]])"
      ]
     },
     "execution_count": 14,
     "metadata": {},
     "output_type": "execute_result"
    }
   ],
   "source": [
    "base"
   ]
  },
  {
   "cell_type": "code",
   "execution_count": 15,
   "metadata": {},
   "outputs": [
    {
     "data": {
      "text/plain": [
       "array([[15., 12., 13., 14., 15., 12.],\n",
       "       [ 3.,  0.,  1.,  2.,  3.,  0.],\n",
       "       [ 7.,  4.,  5.,  6.,  7.,  4.],\n",
       "       [11.,  8.,  9., 10., 11.,  8.],\n",
       "       [15., 12., 13., 14., 15., 12.],\n",
       "       [ 3.,  0.,  1.,  2.,  3.,  0.]])"
      ]
     },
     "execution_count": 15,
     "metadata": {},
     "output_type": "execute_result"
    }
   ],
   "source": [
    "x"
   ]
  },
  {
   "cell_type": "code",
   "execution_count": 16,
   "metadata": {},
   "outputs": [
    {
     "data": {
      "text/plain": [
       "array([[[511., 504., 505.],\n",
       "        [455., 448., 449.],\n",
       "        [463., 456., 457.]],\n",
       "\n",
       "       [[ 63.,  56.,  57.],\n",
       "        [  7.,   0.,   1.],\n",
       "        [ 15.,   8.,   9.]],\n",
       "\n",
       "       [[127., 120., 121.],\n",
       "        [ 71.,  64.,  65.],\n",
       "        [ 79.,  72.,  73.]]])"
      ]
     },
     "execution_count": 16,
     "metadata": {},
     "output_type": "execute_result"
    }
   ],
   "source": [
    "L=8\n",
    "base=np.arange(L*L*L,dtype=np.double).reshape([L,L,L])\n",
    "basepad=np.pad(base,1,mode='wrap')\n",
    "t=np.lib.stride_tricks.as_strided(np.pad(base,1,mode='wrap'),(L,L,L,3,3,3),basepad.strides*2)\n",
    "t[0,0,0]"
   ]
  },
  {
   "cell_type": "code",
   "execution_count": 17,
   "metadata": {},
   "outputs": [
    {
     "data": {
      "text/plain": [
       "array([[15., 12., 13.],\n",
       "       [ 3.,  0.,  1.],\n",
       "       [ 7.,  4.,  5.]])"
      ]
     },
     "execution_count": 17,
     "metadata": {},
     "output_type": "execute_result"
    }
   ],
   "source": [
    "L=4\n",
    "base=np.arange(L*L,dtype=np.double).reshape([L,L])\n",
    "basepad=np.pad(base,1,mode='wrap')\n",
    "t=np.lib.stride_tricks.as_strided(np.pad(base,1,mode='wrap'),(L,L,3,3),basepad.strides*2)\n",
    "t[0,0]"
   ]
  },
  {
   "cell_type": "code",
   "execution_count": 18,
   "metadata": {},
   "outputs": [
    {
     "data": {
      "text/plain": [
       "(4, 4, 3, 3)"
      ]
     },
     "execution_count": 18,
     "metadata": {},
     "output_type": "execute_result"
    }
   ],
   "source": [
    "w=np.lib.stride_tricks.sliding_window_view(basepad,(3,3))\n",
    "w.shape"
   ]
  },
  {
   "cell_type": "code",
   "execution_count": 19,
   "metadata": {},
   "outputs": [
    {
     "data": {
      "text/plain": [
       "array([[15., 12., 13.],\n",
       "       [ 3.,  0.,  1.],\n",
       "       [ 7.,  4.,  5.]])"
      ]
     },
     "execution_count": 19,
     "metadata": {},
     "output_type": "execute_result"
    }
   ],
   "source": [
    "w[0,0]"
   ]
  },
  {
   "cell_type": "code",
   "execution_count": 20,
   "metadata": {},
   "outputs": [
    {
     "data": {
      "text/plain": [
       "array([[60., 57., 66., 63.],\n",
       "       [48., 45., 54., 51.],\n",
       "       [84., 81., 90., 87.],\n",
       "       [72., 69., 78., 75.]])"
      ]
     },
     "execution_count": 20,
     "metadata": {},
     "output_type": "execute_result"
    }
   ],
   "source": [
    "np.sum(w,axis=(2,3))"
   ]
  },
  {
   "cell_type": "code",
   "execution_count": 21,
   "metadata": {},
   "outputs": [
    {
     "data": {
      "text/plain": [
       "60.0"
      ]
     },
     "execution_count": 21,
     "metadata": {},
     "output_type": "execute_result"
    }
   ],
   "source": [
    "sum(sum(w[0,0]))"
   ]
  },
  {
   "cell_type": "code",
   "execution_count": 22,
   "metadata": {},
   "outputs": [
    {
     "data": {
      "text/plain": [
       "True"
      ]
     },
     "execution_count": 22,
     "metadata": {},
     "output_type": "execute_result"
    }
   ],
   "source": [
    "np.shares_memory(w,basepad)"
   ]
  },
  {
   "cell_type": "code",
   "execution_count": 23,
   "metadata": {},
   "outputs": [
    {
     "data": {
      "text/plain": [
       "False"
      ]
     },
     "execution_count": 23,
     "metadata": {},
     "output_type": "execute_result"
    }
   ],
   "source": [
    "np.shares_memory(basepad,base)"
   ]
  },
  {
   "cell_type": "code",
   "execution_count": 24,
   "metadata": {},
   "outputs": [
    {
     "data": {
      "text/plain": [
       "array([[ 0.,  1.,  2.,  3.],\n",
       "       [ 4.,  5.,  6.,  7.],\n",
       "       [ 8.,  9., 10., 11.],\n",
       "       [12., 13., 14., 15.]])"
      ]
     },
     "execution_count": 24,
     "metadata": {},
     "output_type": "execute_result"
    }
   ],
   "source": [
    "rebase=basepad[1:-1,1:-1]\n",
    "rebase"
   ]
  },
  {
   "cell_type": "code",
   "execution_count": 25,
   "metadata": {},
   "outputs": [
    {
     "data": {
      "text/plain": [
       "True"
      ]
     },
     "execution_count": 25,
     "metadata": {},
     "output_type": "execute_result"
    }
   ],
   "source": [
    "np.shares_memory(rebase,basepad)"
   ]
  },
  {
   "cell_type": "code",
   "execution_count": 26,
   "metadata": {},
   "outputs": [
    {
     "data": {
      "text/plain": [
       "'see \\nhttps://gist.github.com/slode/013331d35a816c864674b968ac9a9859\\npara una alternativa a np.pad()\\n'"
      ]
     },
     "execution_count": 26,
     "metadata": {},
     "output_type": "execute_result"
    }
   ],
   "source": [
    "\"\"\"see \n",
    "https://gist.github.com/slode/013331d35a816c864674b968ac9a9859\n",
    "para una alternativa a np.pad()\n",
    "\"\"\""
   ]
  },
  {
   "cell_type": "code",
   "execution_count": 27,
   "metadata": {},
   "outputs": [
    {
     "data": {
      "text/plain": [
       "array([[15., 12., 13., 14., 15., 12.],\n",
       "       [ 3.,  0.,  1.,  2.,  3.,  0.],\n",
       "       [ 7.,  4.,  5.,  6.,  7.,  4.],\n",
       "       [11.,  8.,  9., 10., 11.,  8.],\n",
       "       [15., 12., 13., 14., 15., 12.],\n",
       "       [ 3.,  0.,  1.,  2.,  3.,  0.]])"
      ]
     },
     "execution_count": 27,
     "metadata": {},
     "output_type": "execute_result"
    }
   ],
   "source": [
    "basepad"
   ]
  },
  {
   "cell_type": "code",
   "execution_count": 28,
   "metadata": {},
   "outputs": [],
   "source": [
    "basepad[0]=3434"
   ]
  },
  {
   "cell_type": "code",
   "execution_count": 29,
   "metadata": {},
   "outputs": [
    {
     "data": {
      "text/plain": [
       "array([[3.434e+03, 3.434e+03, 3.434e+03, 3.434e+03, 3.434e+03, 3.434e+03],\n",
       "       [3.000e+00, 0.000e+00, 1.000e+00, 2.000e+00, 3.000e+00, 0.000e+00],\n",
       "       [7.000e+00, 4.000e+00, 5.000e+00, 6.000e+00, 7.000e+00, 4.000e+00],\n",
       "       [1.100e+01, 8.000e+00, 9.000e+00, 1.000e+01, 1.100e+01, 8.000e+00],\n",
       "       [1.500e+01, 1.200e+01, 1.300e+01, 1.400e+01, 1.500e+01, 1.200e+01],\n",
       "       [3.000e+00, 0.000e+00, 1.000e+00, 2.000e+00, 3.000e+00, 0.000e+00]])"
      ]
     },
     "execution_count": 29,
     "metadata": {},
     "output_type": "execute_result"
    }
   ],
   "source": [
    "basepad"
   ]
  },
  {
   "cell_type": "code",
   "execution_count": 30,
   "metadata": {},
   "outputs": [
    {
     "data": {
      "text/plain": [
       "'¿qué es mejor, pad, take con wrap, take con modulo...? '"
      ]
     },
     "execution_count": 30,
     "metadata": {},
     "output_type": "execute_result"
    }
   ],
   "source": [
    "\"\"\"¿qué es mejor, pad, take con wrap, take con modulo...? \"\"\""
   ]
  },
  {
   "cell_type": "code",
   "execution_count": 31,
   "metadata": {},
   "outputs": [
    {
     "data": {
      "text/plain": [
       "array([[[0., 0., 0.],\n",
       "        [0., 1., 0.],\n",
       "        [0., 0., 0.]],\n",
       "\n",
       "       [[0., 1., 0.],\n",
       "        [1., 0., 1.],\n",
       "        [0., 1., 0.]],\n",
       "\n",
       "       [[0., 0., 0.],\n",
       "        [0., 1., 0.],\n",
       "        [0., 0., 0.]]])"
      ]
     },
     "execution_count": 31,
     "metadata": {},
     "output_type": "execute_result"
    }
   ],
   "source": [
    "\"\"\"si el objetivo de la ventana es usar kernels de convolucion, scipy\n",
    "tiene wrap\n",
    "https://docs.scipy.org/doc/scipy/reference/generated/scipy.ndimage.convolve.html\n",
    "\"\"\"\n",
    "pesos=np.zeros((3,3,3))#,dtype=int)\n",
    "pesos[1,2,1]=1\n",
    "pesos[1,0,1]=1\n",
    "pesos[0,1,1]=1\n",
    "pesos[2,1,1]=1\n",
    "pesos[1,1,0]=1\n",
    "pesos[1,1,2]=1\n",
    "pesos"
   ]
  },
  {
   "cell_type": "code",
   "execution_count": 32,
   "metadata": {},
   "outputs": [
    {
     "name": "stdout",
     "output_type": "stream",
     "text": [
      "912 ms ± 2.34 ms per loop (mean ± std. dev. of 7 runs, 1 loop each)\n"
     ]
    }
   ],
   "source": [
    "%%timeit L=128; base=np.arange(L*L*L,dtype=np.double).reshape([L,L,L])\n",
    "basepad=np.pad(base,1,mode='wrap')\n",
    "t=np.lib.stride_tricks.as_strided(basepad,(L,L,L,3,3,3),basepad.strides*2)\n",
    "t=np.sum(t*pesos,axis=(3,4,5))\n"
   ]
  },
  {
   "cell_type": "code",
   "execution_count": 33,
   "metadata": {},
   "outputs": [
    {
     "name": "stdout",
     "output_type": "stream",
     "text": [
      "911 ms ± 6.51 ms per loop (mean ± std. dev. of 7 runs, 1 loop each)\n"
     ]
    }
   ],
   "source": [
    "%%timeit L=128; base=np.arange(L*L*L,dtype=np.double).reshape([L,L,L])\n",
    "basepad=np.pad(base,1,mode='wrap')\n",
    "t=np.lib.stride_tricks.sliding_window_view(basepad,(3,3,3))\n",
    "t=np.sum(t*pesos,axis=(3,4,5))"
   ]
  },
  {
   "cell_type": "code",
   "execution_count": 34,
   "metadata": {},
   "outputs": [
    {
     "data": {
      "text/plain": [
       "2113664.0"
      ]
     },
     "execution_count": 34,
     "metadata": {},
     "output_type": "execute_result"
    }
   ],
   "source": [
    "import scipy.ndimage\n",
    "L=128\n",
    "base=np.arange(L*L*L,dtype=np.double).reshape([L,L,L]);\n",
    "t=sp.ndimage.convolve(base,pesos,mode='wrap')\n",
    "t[0,0,0]"
   ]
  },
  {
   "cell_type": "code",
   "execution_count": 35,
   "metadata": {},
   "outputs": [
    {
     "name": "stdout",
     "output_type": "stream",
     "text": [
      "41.4 ms ± 283 µs per loop (mean ± std. dev. of 7 runs, 10 loops each)\n"
     ]
    }
   ],
   "source": [
    "%%timeit L=128; base=np.arange(L*L*L,dtype=np.double).reshape([L,L,L])\n",
    "t=sp.ndimage.convolve(base,pesos,mode='wrap')"
   ]
  },
  {
   "cell_type": "code",
   "execution_count": 36,
   "metadata": {},
   "outputs": [
    {
     "data": {
      "text/plain": [
       "2113664.0"
      ]
     },
     "execution_count": 36,
     "metadata": {},
     "output_type": "execute_result"
    }
   ],
   "source": [
    "base=np.arange(L*L*L,dtype=np.double).reshape([L,L,L])\n",
    "t=sp.ndimage.convolve(base,pesos,mode='wrap')\n",
    "t[0,0,0]"
   ]
  },
  {
   "cell_type": "code",
   "execution_count": 37,
   "metadata": {},
   "outputs": [
    {
     "name": "stdout",
     "output_type": "stream",
     "text": [
      "40 ms ± 316 µs per loop (mean ± std. dev. of 7 runs, 10 loops each)\n"
     ]
    }
   ],
   "source": [
    "%%timeit L=128; base=np.arange(L*L*L,dtype=np.double).reshape([L,L,L])\n",
    "t=sp.ndimage.correlate(base,pesos,mode='wrap')"
   ]
  },
  {
   "cell_type": "code",
   "execution_count": 38,
   "metadata": {},
   "outputs": [
    {
     "data": {
      "text/plain": [
       "''"
      ]
     },
     "execution_count": 38,
     "metadata": {},
     "output_type": "execute_result"
    }
   ],
   "source": [
    "\"\"\"convolve/correlate gana por goleada a los stride_tricks, queda por ver si tambien gana a los indices a secas\"\"\"\n",
    "\"\"\"(que se pueden hacer preindexando o calculando modulo\"\"\"\n",
    "\"\""
   ]
  },
  {
   "cell_type": "code",
   "execution_count": 39,
   "metadata": {},
   "outputs": [],
   "source": [
    "zplus=np.transpose(np.unravel_index(range(L*L*L),(L,L,L)))+(0,0,1)\n",
    "zp=np.array([np.ravel_multi_index(i,(L,L,L),mode='wrap') for i in zplus])"
   ]
  },
  {
   "cell_type": "code",
   "execution_count": 40,
   "metadata": {},
   "outputs": [
    {
     "name": "stdout",
     "output_type": "stream",
     "text": [
      "21 ms ± 40.9 µs per loop (mean ± std. dev. of 7 runs, 100 loops each)\n"
     ]
    }
   ],
   "source": [
    "%%timeit\n",
    "t=base+base.take(zp).reshape((L,L,L))"
   ]
  },
  {
   "cell_type": "code",
   "execution_count": 41,
   "metadata": {},
   "outputs": [],
   "source": [
    "def move(L,step):\n",
    "    unravel=np.transpose(np.unravel_index(range(L*L*L),(L,L,L)))+step\n",
    "    return np.array([np.ravel_multi_index(i,(L,L,L),mode='wrap') for i in unravel])"
   ]
  },
  {
   "cell_type": "code",
   "execution_count": 42,
   "metadata": {},
   "outputs": [],
   "source": [
    "xp=move(L,(1,0,0))\n",
    "xm=move(L,(-1,0,0))\n",
    "yp=move(L,(0,1,0))\n",
    "ym=move(L,(0,-1,0))\n",
    "zp=move(L,(0,0,1))\n",
    "zm=move(L,(0,0,-1))"
   ]
  },
  {
   "cell_type": "code",
   "execution_count": 43,
   "metadata": {},
   "outputs": [
    {
     "name": "stdout",
     "output_type": "stream",
     "text": [
      "62.3 ms ± 370 µs per loop (mean ± std. dev. of 7 runs, 10 loops each)\n"
     ]
    }
   ],
   "source": [
    "%%timeit\n",
    "t=base+base.take(xp).reshape((L,L,L))+base.take(xm).reshape((L,L,L))+ \\\n",
    "base.take(yp).reshape((L,L,L))+base.take(ym).reshape((L,L,L))+ \\\n",
    "base.take(zp).reshape((L,L,L))+base.take(zm).reshape((L,L,L))"
   ]
  },
  {
   "cell_type": "code",
   "execution_count": 44,
   "metadata": {},
   "outputs": [
    {
     "name": "stdout",
     "output_type": "stream",
     "text": [
      "58.8 ms ± 113 µs per loop (mean ± std. dev. of 7 runs, 10 loops each)\n"
     ]
    }
   ],
   "source": [
    "%%timeit\n",
    "t=base.reshape(L*L*L)+base.take(xp)+base.take(xm)+ \\\n",
    "base.take(yp)+base.take(ym)+ \\\n",
    "base.take(zp)+base.take(zm)"
   ]
  },
  {
   "cell_type": "code",
   "execution_count": 45,
   "metadata": {},
   "outputs": [
    {
     "name": "stdout",
     "output_type": "stream",
     "text": [
      "58.5 ms ± 110 µs per loop (mean ± std. dev. of 7 runs, 10 loops each)\n"
     ]
    }
   ],
   "source": [
    "%%timeit\n",
    "t=(base.reshape(L*L*L)+base.take(xp)+base.take(xm)+ \\\n",
    "base.take(yp)+base.take(ym)+ \\\n",
    "base.take(zp)+base.take(zm)).reshape((L,L,L))"
   ]
  },
  {
   "cell_type": "code",
   "execution_count": 46,
   "metadata": {},
   "outputs": [
    {
     "name": "stdout",
     "output_type": "stream",
     "text": [
      "58.9 ms ± 42.2 µs per loop (mean ± std. dev. of 7 runs, 10 loops each)\n"
     ]
    }
   ],
   "source": [
    "%%timeit\n",
    "t=base+np.roll(base,+1,0)+np.roll(base,-1,0)+ \\\n",
    "    +np.roll(base,+1,1)+np.roll(base,-1,1) + \\\n",
    "    +np.roll(base,+1,2)+np.roll(base,-1,2)"
   ]
  },
  {
   "cell_type": "code",
   "execution_count": 47,
   "metadata": {},
   "outputs": [
    {
     "name": "stdout",
     "output_type": "stream",
     "text": [
      "55.5 ms ± 179 µs per loop (mean ± std. dev. of 7 runs, 10 loops each)\n"
     ]
    }
   ],
   "source": [
    "%%timeit t=np.zeros((L,L,L))\n",
    "np.copyto(t,base)\n",
    "for eje in 0,1,2:\n",
    "    for d in -1,1:\n",
    "        t+=np.roll(base,d,eje)"
   ]
  },
  {
   "cell_type": "code",
   "execution_count": 48,
   "metadata": {},
   "outputs": [
    {
     "name": "stdout",
     "output_type": "stream",
     "text": [
      "2.38 ms ± 3.72 µs per loop (mean ± std. dev. of 7 runs, 100 loops each)\n"
     ]
    }
   ],
   "source": [
    "%timeit t=np.zeros((L,L,L))\n",
    "np.copyto(t,base)\n",
    "for i in (xp,xm,yp,ym,zp,zm):\n",
    "    t+=base.take(i).reshape((L,L,L))"
   ]
  },
  {
   "cell_type": "code",
   "execution_count": 49,
   "metadata": {},
   "outputs": [],
   "source": [
    "import numexpr #esto es para usar luego con evaluate"
   ]
  },
  {
   "cell_type": "code",
   "execution_count": 50,
   "metadata": {},
   "outputs": [
    {
     "data": {
      "text/plain": [
       "True"
      ]
     },
     "execution_count": 50,
     "metadata": {},
     "output_type": "execute_result"
    }
   ],
   "source": [
    "\"\"\"es sorprendente, pero parece que funciona\"\"\"\n",
    "t=np.zeros((L,L,L))\n",
    "np.copyto(t,base)\n",
    "t*=1\n",
    "for eje in 0,1,2:\n",
    "    for d in -1,1:\n",
    "        t+=np.roll(base,d,eje)\n",
    "v=np.zeros((L,L,L))\n",
    "np.copyto(v,base)\n",
    "for i in (xp,xm,yp,ym,zp,zm):\n",
    "    v+=base.take(i).reshape((L,L,L))\n",
    "np.allclose(v,t)"
   ]
  },
  {
   "cell_type": "code",
   "execution_count": 51,
   "metadata": {},
   "outputs": [
    {
     "name": "stdout",
     "output_type": "stream",
     "text": [
      "38.5 ms ± 712 µs per loop (mean ± std. dev. of 7 runs, 10 loops each)\n"
     ]
    }
   ],
   "source": [
    "%%timeit t=np.zeros((L,L,L))\n",
    "np.copyto(t,base)\n",
    "t[1:,:,:]+=base[:-1,:,:]\n",
    "t[0,:,:]+=base[-1,:,:]\n",
    "t[:-1,:,:]+=base[1:,:,:]\n",
    "t[-1,:,:]+=base[0,:,:]\n",
    "\n",
    "t[:,1:,:]+=base[:,:-1,:]\n",
    "t[:,0,:]+=base[:,-1,:]\n",
    "t[:,:-1,:]+=base[:,1:,:]\n",
    "t[:,-1,:]+=base[:,0,:]\n",
    "\n",
    "t[:,:,1:]+=base[:,:,:-1]\n",
    "t[:,:,0]+=base[:,:,-1]\n",
    "t[:,:,:-1]+=base[:,:,1:]\n",
    "t[:,:,-1]+=base[:,:,0]"
   ]
  },
  {
   "cell_type": "code",
   "execution_count": 52,
   "metadata": {},
   "outputs": [],
   "source": [
    "def paso(x,y,z):#,base=None,step=None)\n",
    "    return base[(x + 1) % L,y % L, z % L] #base[tuple((np.array([x,y,z])+step )%L )]\n",
    "#print( paso(0,0,0,base=None,step=(0,-1,0)))\n",
    "t=np.zeros((L,L,L))\n",
    "np.copyto(t,base)\n",
    "#for i in ((0,-1,0),(0,1,0)):\n",
    "#    t+=np.fromfunction(paso,base=base,step=i,shape=(L,L,L))\n",
    "t+=np.fromfunction(np.vectorize(paso),shape=(L,L,L),dtype=int)"
   ]
  },
  {
   "cell_type": "code",
   "execution_count": 53,
   "metadata": {},
   "outputs": [
    {
     "data": {
      "text/plain": [
       "' For example, a[[0,0]] += 1 will only increment the first element once because of buffering, whereas add.at(a, [0,0], 1) will increment the first element twice.'"
      ]
     },
     "execution_count": 53,
     "metadata": {},
     "output_type": "execute_result"
    }
   ],
   "source": [
    "\"\"\" For example, a[[0,0]] += 1 will only increment the first element once because of buffering, whereas add.at(a, [0,0], 1) will increment the first element twice.\"\"\""
   ]
  },
  {
   "cell_type": "code",
   "execution_count": 54,
   "metadata": {},
   "outputs": [
    {
     "name": "stdout",
     "output_type": "stream",
     "text": [
      "1.3 s ± 1.06 ms per loop (mean ± std. dev. of 7 runs, 1 loop each)\n"
     ]
    }
   ],
   "source": [
    "%%timeit\n",
    "t=np.zeros((L,L,L))\n",
    "np.copyto(t,base)\n",
    "t+=np.fromfunction(np.vectorize(paso),shape=(L,L,L),dtype=int)"
   ]
  },
  {
   "cell_type": "code",
   "execution_count": 55,
   "metadata": {},
   "outputs": [
    {
     "data": {
      "text/plain": [
       "array([[  127,     0,     1, ...,   124,   125,   126],\n",
       "       [  255,   128,   129, ...,   252,   253,   254],\n",
       "       [  383,   256,   257, ...,   380,   381,   382],\n",
       "       ...,\n",
       "       [16127, 16000, 16001, ..., 16124, 16125, 16126],\n",
       "       [16255, 16128, 16129, ..., 16252, 16253, 16254],\n",
       "       [16383, 16256, 16257, ..., 16380, 16381, 16382]])"
      ]
     },
     "execution_count": 55,
     "metadata": {},
     "output_type": "execute_result"
    }
   ],
   "source": [
    "def paso(x,y,z, inc=(0,0,0)):\n",
    "    return base[(x + inc[0] ) % L, (y + inc[1]) % L, (z+inc[2])%L ]\n",
    "np.fromfunction(paso,shape=(L,L,L),inc=(0,0,-1),dtype=int).astype(int)[0]\n"
   ]
  },
  {
   "cell_type": "code",
   "execution_count": 56,
   "metadata": {},
   "outputs": [
    {
     "name": "stdout",
     "output_type": "stream",
     "text": [
      "1 s ± 3.74 ms per loop (mean ± std. dev. of 7 runs, 1 loop each)\n"
     ]
    }
   ],
   "source": [
    "%%timeit\n",
    "t=np.zeros((L,L,L))\n",
    "np.copyto(t,base)\n",
    "t+=np.fromfunction(paso,shape=(L,L,L),inc=(0,0,-1),dtype=int)\n",
    "t+=np.fromfunction(paso,shape=(L,L,L),inc=(0,0,1),dtype=int)\n",
    "t+=np.fromfunction(paso,shape=(L,L,L),inc=(0,1,0),dtype=int)\n",
    "t+=np.fromfunction(paso,shape=(L,L,L),inc=(0,-1,0),dtype=int)\n",
    "t+=np.fromfunction(paso,shape=(L,L,L),inc=(1,0,0),dtype=int)\n",
    "t+=np.fromfunction(paso,shape=(L,L,L),inc=(-1,0,0),dtype=int)"
   ]
  },
  {
   "cell_type": "code",
   "execution_count": 57,
   "metadata": {},
   "outputs": [
    {
     "name": "stdout",
     "output_type": "stream",
     "text": [
      "383 ms ± 1.16 ms per loop (mean ± std. dev. of 7 runs, 1 loop each)\n"
     ]
    }
   ],
   "source": [
    "%%timeit x,y,z=np.indices((L,L,L))\n",
    "t=np.zeros((L,L,L))\n",
    "np.copyto(t,base)\n",
    "t+=base[(x+1) %L,y,z]\n",
    "t+=base[(x-1) %L,y,z]\n",
    "t+=base[x,(y+1) %L,z]\n",
    "t+=base[x,(y-1) %L,z]\n",
    "t+=base[x,y,(z+1) %L]\n",
    "t+=base[x,y,(z-1) %L] \n"
   ]
  },
  {
   "cell_type": "code",
   "execution_count": 58,
   "metadata": {},
   "outputs": [
    {
     "data": {
      "text/plain": [
       "2097152"
      ]
     },
     "execution_count": 58,
     "metadata": {},
     "output_type": "execute_result"
    }
   ],
   "source": [
    "len(xp)"
   ]
  },
  {
   "cell_type": "code",
   "execution_count": 59,
   "metadata": {},
   "outputs": [
    {
     "data": {
      "text/plain": [
       "8"
      ]
     },
     "execution_count": 59,
     "metadata": {},
     "output_type": "execute_result"
    }
   ],
   "source": [
    "xp.itemsize"
   ]
  },
  {
   "cell_type": "code",
   "execution_count": 60,
   "metadata": {},
   "outputs": [],
   "source": [
    "def move(L,step):\n",
    "    unravel=np.transpose(np.unravel_index(range(L*L*L),(L,L,L)))+step\n",
    "    return np.array([np.ravel_multi_index(i,(L,L,L),mode='wrap') for i in unravel], dtype=np.int32)\n",
    "\n",
    "xp=move(L,(1,0,0))\n",
    "xm=move(L,(-1,0,0))\n",
    "yp=move(L,(0,1,0))\n",
    "ym=move(L,(0,-1,0))\n",
    "zp=move(L,(0,0,1))\n",
    "zm=move(L,(0,0,-1))"
   ]
  },
  {
   "cell_type": "code",
   "execution_count": 61,
   "metadata": {},
   "outputs": [
    {
     "data": {
      "text/plain": [
       "4"
      ]
     },
     "execution_count": 61,
     "metadata": {},
     "output_type": "execute_result"
    }
   ],
   "source": [
    "xp.itemsize"
   ]
  },
  {
   "cell_type": "code",
   "execution_count": 62,
   "metadata": {},
   "outputs": [
    {
     "name": "stdout",
     "output_type": "stream",
     "text": [
      "2.35 ms ± 5.04 µs per loop (mean ± std. dev. of 7 runs, 100 loops each)\n"
     ]
    }
   ],
   "source": [
    "%timeit t=np.zeros((L,L,L))\n",
    "np.copyto(t,base)\n",
    "for i in (xp,xm,yp,ym,zp,zm):\n",
    "    t+=base.take(i).reshape((L,L,L))"
   ]
  },
  {
   "cell_type": "code",
   "execution_count": 63,
   "metadata": {},
   "outputs": [
    {
     "name": "stdout",
     "output_type": "stream",
     "text": [
      "2.38 ms ± 3.81 µs per loop (mean ± std. dev. of 7 runs, 100 loops each)\n"
     ]
    }
   ],
   "source": [
    "%timeit t=np.zeros((L,L,L))\n",
    "np.copyto(t,base)\n",
    "t+=base.take(xp).reshape((L,L,L))\n",
    "t+=base.take(xm).reshape((L,L,L))\n",
    "t+=base.take(yp).reshape((L,L,L))\n",
    "t+=base.take(ym).reshape((L,L,L))\n",
    "t+=base.take(zp).reshape((L,L,L))\n",
    "t+=base.take(zm).reshape((L,L,L))"
   ]
  },
  {
   "cell_type": "code",
   "execution_count": 64,
   "metadata": {},
   "outputs": [
    {
     "data": {
      "text/plain": [
       "(8388608, 2097152, 65536, 4294967296)"
      ]
     },
     "execution_count": 64,
     "metadata": {},
     "output_type": "execute_result"
    }
   ],
   "source": [
    "base.size*xp.itemsize,base.size,2**16,2**32"
   ]
  },
  {
   "cell_type": "code",
   "execution_count": 65,
   "metadata": {},
   "outputs": [
    {
     "data": {
      "text/plain": [
       "array([127,   0,   1,   2,   3,   4,   5,   6,   7,   8,   9,  10,  11,\n",
       "        12,  13,  14,  15,  16,  17,  18,  19,  20,  21,  22,  23,  24,\n",
       "        25,  26,  27,  28], dtype=int32)"
      ]
     },
     "execution_count": 65,
     "metadata": {},
     "output_type": "execute_result"
    }
   ],
   "source": [
    "zm[:30]"
   ]
  },
  {
   "cell_type": "code",
   "execution_count": 66,
   "metadata": {},
   "outputs": [],
   "source": [
    "baseflat=base.flatten('K') #o C???"
   ]
  },
  {
   "cell_type": "code",
   "execution_count": 67,
   "metadata": {},
   "outputs": [
    {
     "name": "stdout",
     "output_type": "stream",
     "text": [
      "3.63 s ± 4.1 ms per loop (mean ± std. dev. of 7 runs, 1 loop each)\n"
     ]
    }
   ],
   "source": [
    "%%timeit t=np.zeros((L,L,L))\n",
    "np.copyto(t,base)\n",
    "t+=np.fromiter( (baseflat[i] for i in xp), dtype=float).reshape(L,L,L)\n",
    "t+=np.fromiter( (baseflat[i] for i in xm), dtype=float).reshape(L,L,L)\n",
    "t+=np.fromiter( (baseflat[i] for i in yp), dtype=float).reshape(L,L,L)\n",
    "t+=np.fromiter( (baseflat[i] for i in ym), dtype=float).reshape(L,L,L)\n",
    "t+=np.fromiter( (baseflat[i] for i in zp), dtype=float).reshape(L,L,L)\n",
    "t+=np.fromiter( (baseflat[i] for i in zm), dtype=float).reshape(L,L,L)"
   ]
  },
  {
   "cell_type": "code",
   "execution_count": 68,
   "metadata": {},
   "outputs": [
    {
     "name": "stdout",
     "output_type": "stream",
     "text": [
      "3.65 s ± 6.47 ms per loop (mean ± std. dev. of 7 runs, 1 loop each)\n"
     ]
    }
   ],
   "source": [
    "%%timeit t=np.zeros(L*L*L)\n",
    "np.copyto(t,base.reshape(L*L*L))\n",
    "t+=np.fromiter( (baseflat[i] for i in xp), dtype=float)\n",
    "t+=np.fromiter( (baseflat[i] for i in xm), dtype=float)\n",
    "t+=np.fromiter( (baseflat[i] for i in yp), dtype=float)\n",
    "t+=np.fromiter( (baseflat[i] for i in ym), dtype=float)\n",
    "t+=np.fromiter( (baseflat[i] for i in zp), dtype=float)\n",
    "t+=np.fromiter( (baseflat[i] for i in zm), dtype=float)"
   ]
  },
  {
   "cell_type": "code",
   "execution_count": 69,
   "metadata": {},
   "outputs": [
    {
     "data": {
      "text/plain": [
       "array([127.,   0.,   1.,   2.,   3.,   4.,   5.,   6.,   7.,   8.])"
      ]
     },
     "execution_count": 69,
     "metadata": {},
     "output_type": "execute_result"
    }
   ],
   "source": [
    "baseflat[zm][:10]"
   ]
  },
  {
   "cell_type": "code",
   "execution_count": 70,
   "metadata": {},
   "outputs": [
    {
     "name": "stdout",
     "output_type": "stream",
     "text": [
      "70.1 ms ± 42.5 µs per loop (mean ± std. dev. of 7 runs, 10 loops each)\n"
     ]
    }
   ],
   "source": [
    "%%timeit t=np.zeros(L*L*L)\n",
    "np.copyto(t,base.reshape(L*L*L))\n",
    "t+=baseflat[xp]\n",
    "t+=baseflat[xm]\n",
    "t+=baseflat[yp]\n",
    "t+=baseflat[ym]\n",
    "t+=baseflat[zp]\n",
    "t+=baseflat[zm]"
   ]
  },
  {
   "cell_type": "code",
   "execution_count": 71,
   "metadata": {},
   "outputs": [
    {
     "data": {
      "text/plain": [
       "'el problema es mas bien usar la stride para definir xp como iterador'"
      ]
     },
     "execution_count": 71,
     "metadata": {},
     "output_type": "execute_result"
    }
   ],
   "source": [
    "\"\"\"el problema es mas bien usar la stride para definir xp como iterador\"\"\""
   ]
  },
  {
   "cell_type": "code",
   "execution_count": 72,
   "metadata": {},
   "outputs": [
    {
     "name": "stdout",
     "output_type": "stream",
     "text": [
      "1.22 s ± 48.3 ms per loop (mean ± std. dev. of 7 runs, 1 loop each)\n"
     ]
    }
   ],
   "source": [
    "%%timeit t=np.zeros(L*L*L)\n",
    "np.copyto(t,base.reshape(L*L*L))\n",
    "t+=np.take(baseflat,np.fromiter((i for i in range(L*L*L)),dtype=np.int32))\n",
    "t+=np.take(baseflat,np.fromiter((i for i in range(L*L*L)),dtype=np.int32))\n",
    "t+=np.take(baseflat,np.fromiter((i for i in range(L*L*L)),dtype=np.int32))\n",
    "t+=np.take(baseflat,np.fromiter((i for i in range(L*L*L)),dtype=np.int32))\n",
    "t+=np.take(baseflat,np.fromiter((i for i in range(L*L*L)),dtype=np.int32))\n",
    "t+=np.take(baseflat,np.fromiter((i for i in range(L*L*L)),dtype=np.int32))"
   ]
  },
  {
   "cell_type": "code",
   "execution_count": null,
   "metadata": {},
   "outputs": [],
   "source": []
  }
 ],
 "metadata": {
  "interpreter": {
   "hash": "022bd4bbfecc8039a593343822acf020e7f3aad29134289ce44a53d4f0302060"
  },
  "kernelspec": {
   "display_name": "Python 3.8.12 64-bit ('base': conda)",
   "name": "python3"
  },
  "language_info": {
   "codemirror_mode": {
    "name": "ipython",
    "version": 3
   },
   "file_extension": ".py",
   "mimetype": "text/x-python",
   "name": "python",
   "nbconvert_exporter": "python",
   "pygments_lexer": "ipython3",
   "version": "3.8.12"
  },
  "orig_nbformat": 4
 },
 "nbformat": 4,
 "nbformat_minor": 2
}
