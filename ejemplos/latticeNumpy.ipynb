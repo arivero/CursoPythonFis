{
 "cells": [
  {
   "cell_type": "code",
   "execution_count": 53,
   "source": [
    "L=8\n",
    "import numpy as np\n",
    "import scipy as sp"
   ],
   "outputs": [],
   "metadata": {}
  },
  {
   "cell_type": "code",
   "execution_count": 54,
   "source": [
    "base=np.arange(L*L*L,dtype=np.double).reshape([L,L,L]) #double es float64 en linux\n",
    "sum(sum(sum(base)))"
   ],
   "outputs": [
    {
     "output_type": "execute_result",
     "data": {
      "text/plain": [
       "130816.0"
      ]
     },
     "metadata": {},
     "execution_count": 54
    }
   ],
   "metadata": {}
  },
  {
   "cell_type": "code",
   "execution_count": 55,
   "source": [
    "#https://stackoverflow.com/questions/43086557/convolve2d-just-by-using-numpy\n",
    "base.strides*2"
   ],
   "outputs": [
    {
     "output_type": "execute_result",
     "data": {
      "text/plain": [
       "(512, 64, 8, 512, 64, 8)"
      ]
     },
     "metadata": {},
     "execution_count": 55
    }
   ],
   "metadata": {}
  },
  {
   "cell_type": "code",
   "execution_count": 56,
   "source": [
    "t=np.lib.stride_tricks.as_strided(base,(L-2,L-2,L-2,3,3,3),base.strides*2)\n",
    "np.shape(t)"
   ],
   "outputs": [
    {
     "output_type": "execute_result",
     "data": {
      "text/plain": [
       "(6, 6, 6, 3, 3, 3)"
      ]
     },
     "metadata": {},
     "execution_count": 56
    }
   ],
   "metadata": {}
  },
  {
   "cell_type": "code",
   "execution_count": 57,
   "source": [
    "t[0,0,0]"
   ],
   "outputs": [
    {
     "output_type": "execute_result",
     "data": {
      "text/plain": [
       "array([[[  0.,   1.,   2.],\n",
       "        [  8.,   9.,  10.],\n",
       "        [ 16.,  17.,  18.]],\n",
       "\n",
       "       [[ 64.,  65.,  66.],\n",
       "        [ 72.,  73.,  74.],\n",
       "        [ 80.,  81.,  82.]],\n",
       "\n",
       "       [[128., 129., 130.],\n",
       "        [136., 137., 138.],\n",
       "        [144., 145., 146.]]])"
      ]
     },
     "metadata": {},
     "execution_count": 57
    }
   ],
   "metadata": {}
  },
  {
   "cell_type": "code",
   "execution_count": 73,
   "source": [
    "L=4\n",
    "base=np.arange(L*L,dtype=np.double).reshape([L,L])\n",
    "print(base)"
   ],
   "outputs": [
    {
     "output_type": "stream",
     "name": "stdout",
     "text": [
      "[[ 0.  1.  2.  3.]\n",
      " [ 4.  5.  6.  7.]\n",
      " [ 8.  9. 10. 11.]\n",
      " [12. 13. 14. 15.]]\n"
     ]
    }
   ],
   "metadata": {}
  },
  {
   "cell_type": "code",
   "execution_count": 74,
   "source": [
    "np.pad(base,1)"
   ],
   "outputs": [
    {
     "output_type": "execute_result",
     "data": {
      "text/plain": [
       "array([[ 0.,  0.,  0.,  0.,  0.,  0.],\n",
       "       [ 0.,  0.,  1.,  2.,  3.,  0.],\n",
       "       [ 0.,  4.,  5.,  6.,  7.,  0.],\n",
       "       [ 0.,  8.,  9., 10., 11.,  0.],\n",
       "       [ 0., 12., 13., 14., 15.,  0.],\n",
       "       [ 0.,  0.,  0.,  0.,  0.,  0.]])"
      ]
     },
     "metadata": {},
     "execution_count": 74
    }
   ],
   "metadata": {}
  },
  {
   "cell_type": "code",
   "execution_count": 75,
   "source": [
    "np.pad(base,1,mode='wrap')"
   ],
   "outputs": [
    {
     "output_type": "execute_result",
     "data": {
      "text/plain": [
       "array([[15., 12., 13., 14., 15., 12.],\n",
       "       [ 3.,  0.,  1.,  2.,  3.,  0.],\n",
       "       [ 7.,  4.,  5.,  6.,  7.,  4.],\n",
       "       [11.,  8.,  9., 10., 11.,  8.],\n",
       "       [15., 12., 13., 14., 15., 12.],\n",
       "       [ 3.,  0.,  1.,  2.,  3.,  0.]])"
      ]
     },
     "metadata": {},
     "execution_count": 75
    }
   ],
   "metadata": {}
  },
  {
   "cell_type": "code",
   "execution_count": 76,
   "source": [
    "base.take(((2,4),(-1,1)),mode='wrap')"
   ],
   "outputs": [
    {
     "output_type": "execute_result",
     "data": {
      "text/plain": [
       "array([[ 2.,  4.],\n",
       "       [15.,  1.]])"
      ]
     },
     "metadata": {},
     "execution_count": 76
    }
   ],
   "metadata": {}
  },
  {
   "cell_type": "code",
   "execution_count": 77,
   "source": [
    "base.take([[0],[4]],mode='wrap')"
   ],
   "outputs": [
    {
     "output_type": "execute_result",
     "data": {
      "text/plain": [
       "array([[0.],\n",
       "       [4.]])"
      ]
     },
     "metadata": {},
     "execution_count": 77
    }
   ],
   "metadata": {}
  },
  {
   "cell_type": "code",
   "execution_count": 78,
   "source": [
    "x=np.pad(base,1,mode='wrap')"
   ],
   "outputs": [],
   "metadata": {}
  },
  {
   "cell_type": "code",
   "execution_count": 79,
   "source": [
    "x"
   ],
   "outputs": [
    {
     "output_type": "execute_result",
     "data": {
      "text/plain": [
       "array([[15., 12., 13., 14., 15., 12.],\n",
       "       [ 3.,  0.,  1.,  2.,  3.,  0.],\n",
       "       [ 7.,  4.,  5.,  6.,  7.,  4.],\n",
       "       [11.,  8.,  9., 10., 11.,  8.],\n",
       "       [15., 12., 13., 14., 15., 12.],\n",
       "       [ 3.,  0.,  1.,  2.,  3.,  0.]])"
      ]
     },
     "metadata": {},
     "execution_count": 79
    }
   ],
   "metadata": {}
  },
  {
   "cell_type": "code",
   "execution_count": 80,
   "source": [
    "base[0,0]=48"
   ],
   "outputs": [],
   "metadata": {}
  },
  {
   "cell_type": "code",
   "execution_count": 81,
   "source": [
    "base"
   ],
   "outputs": [
    {
     "output_type": "execute_result",
     "data": {
      "text/plain": [
       "array([[48.,  1.,  2.,  3.],\n",
       "       [ 4.,  5.,  6.,  7.],\n",
       "       [ 8.,  9., 10., 11.],\n",
       "       [12., 13., 14., 15.]])"
      ]
     },
     "metadata": {},
     "execution_count": 81
    }
   ],
   "metadata": {}
  },
  {
   "cell_type": "code",
   "execution_count": 82,
   "source": [
    "x"
   ],
   "outputs": [
    {
     "output_type": "execute_result",
     "data": {
      "text/plain": [
       "array([[15., 12., 13., 14., 15., 12.],\n",
       "       [ 3.,  0.,  1.,  2.,  3.,  0.],\n",
       "       [ 7.,  4.,  5.,  6.,  7.,  4.],\n",
       "       [11.,  8.,  9., 10., 11.,  8.],\n",
       "       [15., 12., 13., 14., 15., 12.],\n",
       "       [ 3.,  0.,  1.,  2.,  3.,  0.]])"
      ]
     },
     "metadata": {},
     "execution_count": 82
    }
   ],
   "metadata": {}
  },
  {
   "cell_type": "code",
   "execution_count": 87,
   "source": [
    "L=8\n",
    "base=np.arange(L*L*L,dtype=np.double).reshape([L,L,L])\n",
    "basepad=np.pad(base,1,mode='wrap')\n",
    "t=np.lib.stride_tricks.as_strided(np.pad(base,1,mode='wrap'),(L,L,L,3,3,3),basepad.strides*2)\n",
    "t[0,0,0]"
   ],
   "outputs": [
    {
     "output_type": "execute_result",
     "data": {
      "text/plain": [
       "array([[[511., 504., 505.],\n",
       "        [455., 448., 449.],\n",
       "        [463., 456., 457.]],\n",
       "\n",
       "       [[ 63.,  56.,  57.],\n",
       "        [  7.,   0.,   1.],\n",
       "        [ 15.,   8.,   9.]],\n",
       "\n",
       "       [[127., 120., 121.],\n",
       "        [ 71.,  64.,  65.],\n",
       "        [ 79.,  72.,  73.]]])"
      ]
     },
     "metadata": {},
     "execution_count": 87
    }
   ],
   "metadata": {}
  },
  {
   "cell_type": "code",
   "execution_count": 89,
   "source": [
    "L=4\n",
    "base=np.arange(L*L,dtype=np.double).reshape([L,L])\n",
    "basepad=np.pad(base,1,mode='wrap')\n",
    "t=np.lib.stride_tricks.as_strided(np.pad(base,1,mode='wrap'),(L,L,3,3),basepad.strides*2)\n",
    "t[0,0]"
   ],
   "outputs": [
    {
     "output_type": "execute_result",
     "data": {
      "text/plain": [
       "array([[15., 12., 13.],\n",
       "       [ 3.,  0.,  1.],\n",
       "       [ 7.,  4.,  5.]])"
      ]
     },
     "metadata": {},
     "execution_count": 89
    }
   ],
   "metadata": {}
  },
  {
   "cell_type": "code",
   "execution_count": 93,
   "source": [
    "w=np.lib.stride_tricks.sliding_window_view(basepad,(3,3))\n",
    "w.shape"
   ],
   "outputs": [
    {
     "output_type": "execute_result",
     "data": {
      "text/plain": [
       "(4, 4, 3, 3)"
      ]
     },
     "metadata": {},
     "execution_count": 93
    }
   ],
   "metadata": {}
  },
  {
   "cell_type": "code",
   "execution_count": 94,
   "source": [
    "w[0,0]"
   ],
   "outputs": [
    {
     "output_type": "execute_result",
     "data": {
      "text/plain": [
       "array([[15., 12., 13.],\n",
       "       [ 3.,  0.,  1.],\n",
       "       [ 7.,  4.,  5.]])"
      ]
     },
     "metadata": {},
     "execution_count": 94
    }
   ],
   "metadata": {}
  },
  {
   "cell_type": "code",
   "execution_count": 99,
   "source": [
    "np.sum(w,axis=(2,3))"
   ],
   "outputs": [
    {
     "output_type": "execute_result",
     "data": {
      "text/plain": [
       "array([[60., 57., 66., 63.],\n",
       "       [48., 45., 54., 51.],\n",
       "       [84., 81., 90., 87.],\n",
       "       [72., 69., 78., 75.]])"
      ]
     },
     "metadata": {},
     "execution_count": 99
    }
   ],
   "metadata": {}
  },
  {
   "cell_type": "code",
   "execution_count": 101,
   "source": [
    "sum(sum(w[0,0]))"
   ],
   "outputs": [
    {
     "output_type": "execute_result",
     "data": {
      "text/plain": [
       "60.0"
      ]
     },
     "metadata": {},
     "execution_count": 101
    }
   ],
   "metadata": {}
  },
  {
   "cell_type": "code",
   "execution_count": 103,
   "source": [
    "np.shares_memory(w,basepad)"
   ],
   "outputs": [
    {
     "output_type": "execute_result",
     "data": {
      "text/plain": [
       "True"
      ]
     },
     "metadata": {},
     "execution_count": 103
    }
   ],
   "metadata": {}
  },
  {
   "cell_type": "code",
   "execution_count": 104,
   "source": [
    "np.shares_memory(basepad,base)"
   ],
   "outputs": [
    {
     "output_type": "execute_result",
     "data": {
      "text/plain": [
       "False"
      ]
     },
     "metadata": {},
     "execution_count": 104
    }
   ],
   "metadata": {}
  },
  {
   "cell_type": "code",
   "execution_count": 108,
   "source": [
    "rebase=basepad[1:-1,1:-1]\n",
    "rebase"
   ],
   "outputs": [
    {
     "output_type": "execute_result",
     "data": {
      "text/plain": [
       "array([[ 0.,  1.,  2.,  3.],\n",
       "       [ 4.,  5.,  6.,  7.],\n",
       "       [ 8.,  9., 10., 11.],\n",
       "       [12., 13., 14., 15.]])"
      ]
     },
     "metadata": {},
     "execution_count": 108
    }
   ],
   "metadata": {}
  },
  {
   "cell_type": "code",
   "execution_count": 109,
   "source": [
    "np.shares_memory(rebase,basepad)"
   ],
   "outputs": [
    {
     "output_type": "execute_result",
     "data": {
      "text/plain": [
       "True"
      ]
     },
     "metadata": {},
     "execution_count": 109
    }
   ],
   "metadata": {}
  },
  {
   "cell_type": "code",
   "execution_count": 110,
   "source": [
    "\"\"\"see \n",
    "https://gist.github.com/slode/013331d35a816c864674b968ac9a9859\n",
    "para una alternativa a np.pad()\n",
    "\"\"\""
   ],
   "outputs": [
    {
     "output_type": "execute_result",
     "data": {
      "text/plain": [
       "'see \\nhttps://gist.github.com/slode/013331d35a816c864674b968ac9a9859\\npara una alternativa a np.pad()\\n'"
      ]
     },
     "metadata": {},
     "execution_count": 110
    }
   ],
   "metadata": {}
  },
  {
   "cell_type": "code",
   "execution_count": 111,
   "source": [
    "basepad"
   ],
   "outputs": [
    {
     "output_type": "execute_result",
     "data": {
      "text/plain": [
       "array([[15., 12., 13., 14., 15., 12.],\n",
       "       [ 3.,  0.,  1.,  2.,  3.,  0.],\n",
       "       [ 7.,  4.,  5.,  6.,  7.,  4.],\n",
       "       [11.,  8.,  9., 10., 11.,  8.],\n",
       "       [15., 12., 13., 14., 15., 12.],\n",
       "       [ 3.,  0.,  1.,  2.,  3.,  0.]])"
      ]
     },
     "metadata": {},
     "execution_count": 111
    }
   ],
   "metadata": {}
  },
  {
   "cell_type": "code",
   "execution_count": 112,
   "source": [
    "basepad[0]=3434"
   ],
   "outputs": [],
   "metadata": {}
  },
  {
   "cell_type": "code",
   "execution_count": 113,
   "source": [
    "basepad"
   ],
   "outputs": [
    {
     "output_type": "execute_result",
     "data": {
      "text/plain": [
       "array([[3.434e+03, 3.434e+03, 3.434e+03, 3.434e+03, 3.434e+03, 3.434e+03],\n",
       "       [3.000e+00, 0.000e+00, 1.000e+00, 2.000e+00, 3.000e+00, 0.000e+00],\n",
       "       [7.000e+00, 4.000e+00, 5.000e+00, 6.000e+00, 7.000e+00, 4.000e+00],\n",
       "       [1.100e+01, 8.000e+00, 9.000e+00, 1.000e+01, 1.100e+01, 8.000e+00],\n",
       "       [1.500e+01, 1.200e+01, 1.300e+01, 1.400e+01, 1.500e+01, 1.200e+01],\n",
       "       [3.000e+00, 0.000e+00, 1.000e+00, 2.000e+00, 3.000e+00, 0.000e+00]])"
      ]
     },
     "metadata": {},
     "execution_count": 113
    }
   ],
   "metadata": {}
  },
  {
   "cell_type": "code",
   "execution_count": 116,
   "source": [
    "\"\"\"¿qué es mejor, pad, take con wrap, take con modulo...? \"\"\""
   ],
   "outputs": [
    {
     "output_type": "execute_result",
     "data": {
      "text/plain": [
       "'¿qué es mejor, pad, take con wrap, take con modulo...? '"
      ]
     },
     "metadata": {},
     "execution_count": 116
    }
   ],
   "metadata": {}
  },
  {
   "cell_type": "code",
   "execution_count": null,
   "source": [
    "\"\"\"si el objetivo de la ventana es usar kernels de convolucion, scipy\n",
    "tiene wrap\n",
    "https://docs.scipy.org/doc/scipy/reference/generated/scipy.ndimage.convolve.html\n",
    "\"\"\""
   ],
   "outputs": [],
   "metadata": {}
  }
 ],
 "metadata": {
  "orig_nbformat": 4,
  "language_info": {
   "name": "python",
   "version": "3.8.12",
   "mimetype": "text/x-python",
   "codemirror_mode": {
    "name": "ipython",
    "version": 3
   },
   "pygments_lexer": "ipython3",
   "nbconvert_exporter": "python",
   "file_extension": ".py"
  },
  "kernelspec": {
   "name": "python3",
   "display_name": "Python 3.8.12 64-bit ('base': conda)"
  },
  "interpreter": {
   "hash": "022bd4bbfecc8039a593343822acf020e7f3aad29134289ce44a53d4f0302060"
  }
 },
 "nbformat": 4,
 "nbformat_minor": 2
}