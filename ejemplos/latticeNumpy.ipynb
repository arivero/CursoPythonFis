{
 "cells": [
  {
   "cell_type": "code",
   "execution_count": 1,
   "source": [
    "L=8\n",
    "import numpy as np\n",
    "import scipy as sp"
   ],
   "outputs": [],
   "metadata": {}
  },
  {
   "cell_type": "code",
   "execution_count": 2,
   "source": [
    "base=np.arange(L*L*L,dtype=np.double).reshape([L,L,L]) #double es float64 en linux\n",
    "sum(sum(sum(base)))"
   ],
   "outputs": [
    {
     "output_type": "execute_result",
     "data": {
      "text/plain": [
       "130816.0"
      ]
     },
     "metadata": {},
     "execution_count": 2
    }
   ],
   "metadata": {}
  },
  {
   "cell_type": "code",
   "execution_count": 3,
   "source": [
    "#https://stackoverflow.com/questions/43086557/convolve2d-just-by-using-numpy\n",
    "base.strides*2"
   ],
   "outputs": [
    {
     "output_type": "execute_result",
     "data": {
      "text/plain": [
       "(512, 64, 8, 512, 64, 8)"
      ]
     },
     "metadata": {},
     "execution_count": 3
    }
   ],
   "metadata": {}
  },
  {
   "cell_type": "code",
   "execution_count": 4,
   "source": [
    "t=np.lib.stride_tricks.as_strided(base,(L-2,L-2,L-2,3,3,3),base.strides*2)\n",
    "np.shape(t)"
   ],
   "outputs": [
    {
     "output_type": "execute_result",
     "data": {
      "text/plain": [
       "(6, 6, 6, 3, 3, 3)"
      ]
     },
     "metadata": {},
     "execution_count": 4
    }
   ],
   "metadata": {}
  },
  {
   "cell_type": "code",
   "execution_count": 5,
   "source": [
    "t[0,0,0]"
   ],
   "outputs": [
    {
     "output_type": "execute_result",
     "data": {
      "text/plain": [
       "array([[[  0.,   1.,   2.],\n",
       "        [  8.,   9.,  10.],\n",
       "        [ 16.,  17.,  18.]],\n",
       "\n",
       "       [[ 64.,  65.,  66.],\n",
       "        [ 72.,  73.,  74.],\n",
       "        [ 80.,  81.,  82.]],\n",
       "\n",
       "       [[128., 129., 130.],\n",
       "        [136., 137., 138.],\n",
       "        [144., 145., 146.]]])"
      ]
     },
     "metadata": {},
     "execution_count": 5
    }
   ],
   "metadata": {}
  },
  {
   "cell_type": "code",
   "execution_count": 6,
   "source": [
    "L=4\n",
    "base=np.arange(L*L,dtype=np.double).reshape([L,L])\n",
    "print(base)"
   ],
   "outputs": [
    {
     "output_type": "stream",
     "name": "stdout",
     "text": [
      "[[ 0.  1.  2.  3.]\n",
      " [ 4.  5.  6.  7.]\n",
      " [ 8.  9. 10. 11.]\n",
      " [12. 13. 14. 15.]]\n"
     ]
    }
   ],
   "metadata": {}
  },
  {
   "cell_type": "code",
   "execution_count": 7,
   "source": [
    "np.pad(base,1)"
   ],
   "outputs": [
    {
     "output_type": "execute_result",
     "data": {
      "text/plain": [
       "array([[ 0.,  0.,  0.,  0.,  0.,  0.],\n",
       "       [ 0.,  0.,  1.,  2.,  3.,  0.],\n",
       "       [ 0.,  4.,  5.,  6.,  7.,  0.],\n",
       "       [ 0.,  8.,  9., 10., 11.,  0.],\n",
       "       [ 0., 12., 13., 14., 15.,  0.],\n",
       "       [ 0.,  0.,  0.,  0.,  0.,  0.]])"
      ]
     },
     "metadata": {},
     "execution_count": 7
    }
   ],
   "metadata": {}
  },
  {
   "cell_type": "code",
   "execution_count": 8,
   "source": [
    "np.pad(base,1,mode='wrap')"
   ],
   "outputs": [
    {
     "output_type": "execute_result",
     "data": {
      "text/plain": [
       "array([[15., 12., 13., 14., 15., 12.],\n",
       "       [ 3.,  0.,  1.,  2.,  3.,  0.],\n",
       "       [ 7.,  4.,  5.,  6.,  7.,  4.],\n",
       "       [11.,  8.,  9., 10., 11.,  8.],\n",
       "       [15., 12., 13., 14., 15., 12.],\n",
       "       [ 3.,  0.,  1.,  2.,  3.,  0.]])"
      ]
     },
     "metadata": {},
     "execution_count": 8
    }
   ],
   "metadata": {}
  },
  {
   "cell_type": "code",
   "execution_count": 9,
   "source": [
    "base.take(((2,4),(-1,1)),mode='wrap')"
   ],
   "outputs": [
    {
     "output_type": "execute_result",
     "data": {
      "text/plain": [
       "array([[ 2.,  4.],\n",
       "       [15.,  1.]])"
      ]
     },
     "metadata": {},
     "execution_count": 9
    }
   ],
   "metadata": {}
  },
  {
   "cell_type": "code",
   "execution_count": 10,
   "source": [
    "base.take([[0],[4]],mode='wrap')"
   ],
   "outputs": [
    {
     "output_type": "execute_result",
     "data": {
      "text/plain": [
       "array([[0.],\n",
       "       [4.]])"
      ]
     },
     "metadata": {},
     "execution_count": 10
    }
   ],
   "metadata": {}
  },
  {
   "cell_type": "code",
   "execution_count": 11,
   "source": [
    "x=np.pad(base,1,mode='wrap')"
   ],
   "outputs": [],
   "metadata": {}
  },
  {
   "cell_type": "code",
   "execution_count": 12,
   "source": [
    "x"
   ],
   "outputs": [
    {
     "output_type": "execute_result",
     "data": {
      "text/plain": [
       "array([[15., 12., 13., 14., 15., 12.],\n",
       "       [ 3.,  0.,  1.,  2.,  3.,  0.],\n",
       "       [ 7.,  4.,  5.,  6.,  7.,  4.],\n",
       "       [11.,  8.,  9., 10., 11.,  8.],\n",
       "       [15., 12., 13., 14., 15., 12.],\n",
       "       [ 3.,  0.,  1.,  2.,  3.,  0.]])"
      ]
     },
     "metadata": {},
     "execution_count": 12
    }
   ],
   "metadata": {}
  },
  {
   "cell_type": "code",
   "execution_count": 13,
   "source": [
    "base[0,0]=48"
   ],
   "outputs": [],
   "metadata": {}
  },
  {
   "cell_type": "code",
   "execution_count": 14,
   "source": [
    "base"
   ],
   "outputs": [
    {
     "output_type": "execute_result",
     "data": {
      "text/plain": [
       "array([[48.,  1.,  2.,  3.],\n",
       "       [ 4.,  5.,  6.,  7.],\n",
       "       [ 8.,  9., 10., 11.],\n",
       "       [12., 13., 14., 15.]])"
      ]
     },
     "metadata": {},
     "execution_count": 14
    }
   ],
   "metadata": {}
  },
  {
   "cell_type": "code",
   "execution_count": 15,
   "source": [
    "x"
   ],
   "outputs": [
    {
     "output_type": "execute_result",
     "data": {
      "text/plain": [
       "array([[15., 12., 13., 14., 15., 12.],\n",
       "       [ 3.,  0.,  1.,  2.,  3.,  0.],\n",
       "       [ 7.,  4.,  5.,  6.,  7.,  4.],\n",
       "       [11.,  8.,  9., 10., 11.,  8.],\n",
       "       [15., 12., 13., 14., 15., 12.],\n",
       "       [ 3.,  0.,  1.,  2.,  3.,  0.]])"
      ]
     },
     "metadata": {},
     "execution_count": 15
    }
   ],
   "metadata": {}
  },
  {
   "cell_type": "code",
   "execution_count": 16,
   "source": [
    "L=8\n",
    "base=np.arange(L*L*L,dtype=np.double).reshape([L,L,L])\n",
    "basepad=np.pad(base,1,mode='wrap')\n",
    "t=np.lib.stride_tricks.as_strided(np.pad(base,1,mode='wrap'),(L,L,L,3,3,3),basepad.strides*2)\n",
    "t[0,0,0]"
   ],
   "outputs": [
    {
     "output_type": "execute_result",
     "data": {
      "text/plain": [
       "array([[[511., 504., 505.],\n",
       "        [455., 448., 449.],\n",
       "        [463., 456., 457.]],\n",
       "\n",
       "       [[ 63.,  56.,  57.],\n",
       "        [  7.,   0.,   1.],\n",
       "        [ 15.,   8.,   9.]],\n",
       "\n",
       "       [[127., 120., 121.],\n",
       "        [ 71.,  64.,  65.],\n",
       "        [ 79.,  72.,  73.]]])"
      ]
     },
     "metadata": {},
     "execution_count": 16
    }
   ],
   "metadata": {}
  },
  {
   "cell_type": "code",
   "execution_count": 17,
   "source": [
    "L=4\n",
    "base=np.arange(L*L,dtype=np.double).reshape([L,L])\n",
    "basepad=np.pad(base,1,mode='wrap')\n",
    "t=np.lib.stride_tricks.as_strided(np.pad(base,1,mode='wrap'),(L,L,3,3),basepad.strides*2)\n",
    "t[0,0]"
   ],
   "outputs": [
    {
     "output_type": "execute_result",
     "data": {
      "text/plain": [
       "array([[15., 12., 13.],\n",
       "       [ 3.,  0.,  1.],\n",
       "       [ 7.,  4.,  5.]])"
      ]
     },
     "metadata": {},
     "execution_count": 17
    }
   ],
   "metadata": {}
  },
  {
   "cell_type": "code",
   "execution_count": 18,
   "source": [
    "w=np.lib.stride_tricks.sliding_window_view(basepad,(3,3))\n",
    "w.shape"
   ],
   "outputs": [
    {
     "output_type": "execute_result",
     "data": {
      "text/plain": [
       "(4, 4, 3, 3)"
      ]
     },
     "metadata": {},
     "execution_count": 18
    }
   ],
   "metadata": {}
  },
  {
   "cell_type": "code",
   "execution_count": 19,
   "source": [
    "w[0,0]"
   ],
   "outputs": [
    {
     "output_type": "execute_result",
     "data": {
      "text/plain": [
       "array([[15., 12., 13.],\n",
       "       [ 3.,  0.,  1.],\n",
       "       [ 7.,  4.,  5.]])"
      ]
     },
     "metadata": {},
     "execution_count": 19
    }
   ],
   "metadata": {}
  },
  {
   "cell_type": "code",
   "execution_count": 20,
   "source": [
    "np.sum(w,axis=(2,3))"
   ],
   "outputs": [
    {
     "output_type": "execute_result",
     "data": {
      "text/plain": [
       "array([[60., 57., 66., 63.],\n",
       "       [48., 45., 54., 51.],\n",
       "       [84., 81., 90., 87.],\n",
       "       [72., 69., 78., 75.]])"
      ]
     },
     "metadata": {},
     "execution_count": 20
    }
   ],
   "metadata": {}
  },
  {
   "cell_type": "code",
   "execution_count": 21,
   "source": [
    "sum(sum(w[0,0]))"
   ],
   "outputs": [
    {
     "output_type": "execute_result",
     "data": {
      "text/plain": [
       "60.0"
      ]
     },
     "metadata": {},
     "execution_count": 21
    }
   ],
   "metadata": {}
  },
  {
   "cell_type": "code",
   "execution_count": 22,
   "source": [
    "np.shares_memory(w,basepad)"
   ],
   "outputs": [
    {
     "output_type": "execute_result",
     "data": {
      "text/plain": [
       "True"
      ]
     },
     "metadata": {},
     "execution_count": 22
    }
   ],
   "metadata": {}
  },
  {
   "cell_type": "code",
   "execution_count": 23,
   "source": [
    "np.shares_memory(basepad,base)"
   ],
   "outputs": [
    {
     "output_type": "execute_result",
     "data": {
      "text/plain": [
       "False"
      ]
     },
     "metadata": {},
     "execution_count": 23
    }
   ],
   "metadata": {}
  },
  {
   "cell_type": "code",
   "execution_count": 24,
   "source": [
    "rebase=basepad[1:-1,1:-1]\n",
    "rebase"
   ],
   "outputs": [
    {
     "output_type": "execute_result",
     "data": {
      "text/plain": [
       "array([[ 0.,  1.,  2.,  3.],\n",
       "       [ 4.,  5.,  6.,  7.],\n",
       "       [ 8.,  9., 10., 11.],\n",
       "       [12., 13., 14., 15.]])"
      ]
     },
     "metadata": {},
     "execution_count": 24
    }
   ],
   "metadata": {}
  },
  {
   "cell_type": "code",
   "execution_count": 25,
   "source": [
    "np.shares_memory(rebase,basepad)"
   ],
   "outputs": [
    {
     "output_type": "execute_result",
     "data": {
      "text/plain": [
       "True"
      ]
     },
     "metadata": {},
     "execution_count": 25
    }
   ],
   "metadata": {}
  },
  {
   "cell_type": "code",
   "execution_count": 26,
   "source": [
    "\"\"\"see \n",
    "https://gist.github.com/slode/013331d35a816c864674b968ac9a9859\n",
    "para una alternativa a np.pad()\n",
    "\"\"\""
   ],
   "outputs": [
    {
     "output_type": "execute_result",
     "data": {
      "text/plain": [
       "'see \\nhttps://gist.github.com/slode/013331d35a816c864674b968ac9a9859\\npara una alternativa a np.pad()\\n'"
      ]
     },
     "metadata": {},
     "execution_count": 26
    }
   ],
   "metadata": {}
  },
  {
   "cell_type": "code",
   "execution_count": 27,
   "source": [
    "basepad"
   ],
   "outputs": [
    {
     "output_type": "execute_result",
     "data": {
      "text/plain": [
       "array([[15., 12., 13., 14., 15., 12.],\n",
       "       [ 3.,  0.,  1.,  2.,  3.,  0.],\n",
       "       [ 7.,  4.,  5.,  6.,  7.,  4.],\n",
       "       [11.,  8.,  9., 10., 11.,  8.],\n",
       "       [15., 12., 13., 14., 15., 12.],\n",
       "       [ 3.,  0.,  1.,  2.,  3.,  0.]])"
      ]
     },
     "metadata": {},
     "execution_count": 27
    }
   ],
   "metadata": {}
  },
  {
   "cell_type": "code",
   "execution_count": 28,
   "source": [
    "basepad[0]=3434"
   ],
   "outputs": [],
   "metadata": {}
  },
  {
   "cell_type": "code",
   "execution_count": 29,
   "source": [
    "basepad"
   ],
   "outputs": [
    {
     "output_type": "execute_result",
     "data": {
      "text/plain": [
       "array([[3.434e+03, 3.434e+03, 3.434e+03, 3.434e+03, 3.434e+03, 3.434e+03],\n",
       "       [3.000e+00, 0.000e+00, 1.000e+00, 2.000e+00, 3.000e+00, 0.000e+00],\n",
       "       [7.000e+00, 4.000e+00, 5.000e+00, 6.000e+00, 7.000e+00, 4.000e+00],\n",
       "       [1.100e+01, 8.000e+00, 9.000e+00, 1.000e+01, 1.100e+01, 8.000e+00],\n",
       "       [1.500e+01, 1.200e+01, 1.300e+01, 1.400e+01, 1.500e+01, 1.200e+01],\n",
       "       [3.000e+00, 0.000e+00, 1.000e+00, 2.000e+00, 3.000e+00, 0.000e+00]])"
      ]
     },
     "metadata": {},
     "execution_count": 29
    }
   ],
   "metadata": {}
  },
  {
   "cell_type": "code",
   "execution_count": 30,
   "source": [
    "\"\"\"¿qué es mejor, pad, take con wrap, take con modulo...? \"\"\""
   ],
   "outputs": [
    {
     "output_type": "execute_result",
     "data": {
      "text/plain": [
       "'¿qué es mejor, pad, take con wrap, take con modulo...? '"
      ]
     },
     "metadata": {},
     "execution_count": 30
    }
   ],
   "metadata": {}
  },
  {
   "cell_type": "code",
   "execution_count": 31,
   "source": [
    "\"\"\"si el objetivo de la ventana es usar kernels de convolucion, scipy\n",
    "tiene wrap\n",
    "https://docs.scipy.org/doc/scipy/reference/generated/scipy.ndimage.convolve.html\n",
    "\"\"\""
   ],
   "outputs": [
    {
     "output_type": "execute_result",
     "data": {
      "text/plain": [
       "'si el objetivo de la ventana es usar kernels de convolucion, scipy\\ntiene wrap\\nhttps://docs.scipy.org/doc/scipy/reference/generated/scipy.ndimage.convolve.html\\n'"
      ]
     },
     "metadata": {},
     "execution_count": 31
    }
   ],
   "metadata": {}
  },
  {
   "cell_type": "code",
   "execution_count": 32,
   "source": [
    "%%timeit L=128; base=np.arange(L*L*L,dtype=np.double).reshape([L,L,L]);pesos=np.ones((3,3,3));\n",
    "basepad=np.pad(base,1,mode='wrap')\n",
    "t=np.lib.stride_tricks.as_strided(basepad,(L,L,L,3,3,3),basepad.strides*2)\n",
    "t=np.sum(t*pesos,axis=(3,4,5))\n"
   ],
   "outputs": [
    {
     "output_type": "stream",
     "name": "stdout",
     "text": [
      "1e+03 ms ± 102 ms per loop (mean ± std. dev. of 7 runs, 1 loop each)\n"
     ]
    }
   ],
   "metadata": {}
  },
  {
   "cell_type": "code",
   "execution_count": 33,
   "source": [
    "%%timeit L=128; base=np.arange(L*L*L,dtype=np.double).reshape([L,L,L]);pesos=np.ones((3,3,3));\n",
    "basepad=np.pad(base,1,mode='wrap')\n",
    "t=np.lib.stride_tricks.sliding_window_view(basepad,(3,3,3))\n",
    "t=np.sum(t*pesos,axis=(3,4,5))"
   ],
   "outputs": [
    {
     "output_type": "stream",
     "name": "stdout",
     "text": [
      "909 ms ± 5.81 ms per loop (mean ± std. dev. of 7 runs, 1 loop each)\n"
     ]
    }
   ],
   "metadata": {}
  },
  {
   "cell_type": "code",
   "execution_count": 34,
   "source": [
    "import scipy.ndimage\n",
    "L=128\n",
    "base=np.arange(L*L*L,dtype=np.double).reshape([L,L,L]);\n",
    "pesos=np.ones((3,3,3))\n",
    "t=sp.ndimage.convolve(base,pesos,mode='wrap')\n",
    "t[0,0,0]"
   ],
   "outputs": [
    {
     "output_type": "execute_result",
     "data": {
      "text/plain": [
       "19022976.0"
      ]
     },
     "metadata": {},
     "execution_count": 34
    }
   ],
   "metadata": {}
  },
  {
   "cell_type": "code",
   "execution_count": 35,
   "source": [
    "%%timeit L=128; base=np.arange(L*L*L,dtype=np.double).reshape([L,L,L]); pesos=np.ones((3,3,3))\n",
    "t=sp.ndimage.convolve(base,pesos,mode='wrap')"
   ],
   "outputs": [
    {
     "output_type": "stream",
     "name": "stdout",
     "text": [
      "96.1 ms ± 498 µs per loop (mean ± std. dev. of 7 runs, 10 loops each)\n"
     ]
    }
   ],
   "metadata": {}
  },
  {
   "cell_type": "code",
   "execution_count": 36,
   "source": [
    "base=np.arange(L*L*L,dtype=np.double).reshape([L,L,L]); pesos=np.ones((3,3,3))\n",
    "t=sp.ndimage.convolve(base,pesos,mode='wrap')\n",
    "t[0,0,0]"
   ],
   "outputs": [
    {
     "output_type": "execute_result",
     "data": {
      "text/plain": [
       "19022976.0"
      ]
     },
     "metadata": {},
     "execution_count": 36
    }
   ],
   "metadata": {}
  },
  {
   "cell_type": "code",
   "execution_count": 37,
   "source": [
    "%%timeit L=128; base=np.arange(L*L*L,dtype=np.double).reshape([L,L,L]); pesos=np.ones((3,3,3))\n",
    "t=sp.ndimage.correlate(base,pesos,mode='wrap')"
   ],
   "outputs": [
    {
     "output_type": "stream",
     "name": "stdout",
     "text": [
      "97.1 ms ± 5.44 ms per loop (mean ± std. dev. of 7 runs, 10 loops each)\n"
     ]
    }
   ],
   "metadata": {}
  },
  {
   "cell_type": "code",
   "execution_count": 38,
   "source": [
    "\"\"\"convolve gana por goleada a los stride_tricks, queda por ver si tambien gana a los indices a secas\"\"\"\n",
    "\"\"\"(que se pueden hacer preindexando o calculando modulo\"\"\""
   ],
   "outputs": [
    {
     "output_type": "execute_result",
     "data": {
      "text/plain": [
       "'(que se pueden hacer preindexando o calculando modulo'"
      ]
     },
     "metadata": {},
     "execution_count": 38
    }
   ],
   "metadata": {}
  },
  {
   "cell_type": "code",
   "execution_count": 39,
   "source": [
    "zplus=np.transpose(np.unravel_index(range(L*L*L),(L,L,L)))+(0,0,1)\n",
    "zp=np.array([np.ravel_multi_index(i,(L,L,L),mode='wrap') for i in zplus])"
   ],
   "outputs": [],
   "metadata": {}
  },
  {
   "cell_type": "code",
   "execution_count": 40,
   "source": [
    "%%timeit\n",
    "t=base+base.take(zp).reshape((L,L,L))"
   ],
   "outputs": [
    {
     "output_type": "stream",
     "name": "stdout",
     "text": [
      "21.5 ms ± 608 µs per loop (mean ± std. dev. of 7 runs, 100 loops each)\n"
     ]
    }
   ],
   "metadata": {}
  },
  {
   "cell_type": "code",
   "execution_count": 41,
   "source": [
    "def move(L,step):\n",
    "    unravel=np.transpose(np.unravel_index(range(L*L*L),(L,L,L)))+step\n",
    "    return np.array([np.ravel_multi_index(i,(L,L,L),mode='wrap') for i in unravel])"
   ],
   "outputs": [],
   "metadata": {}
  },
  {
   "cell_type": "code",
   "execution_count": 42,
   "source": [
    "xp=move(L,(1,0,0))\n",
    "xm=move(L,(-1,0,0))\n",
    "yp=move(L,(0,1,0))\n",
    "ym=move(L,(0,-1,0))\n",
    "zp=move(L,(0,0,1))\n",
    "zm=move(L,(0,0,-1))"
   ],
   "outputs": [],
   "metadata": {}
  },
  {
   "cell_type": "code",
   "execution_count": 43,
   "source": [
    "%%timeit\n",
    "t=base+base.take(xp).reshape((L,L,L))+base.take(xm).reshape((L,L,L))+ \\\n",
    "base.take(yp).reshape((L,L,L))+base.take(ym).reshape((L,L,L))+ \\\n",
    "base.take(zp).reshape((L,L,L))+base.take(zm).reshape((L,L,L))"
   ],
   "outputs": [
    {
     "output_type": "stream",
     "name": "stdout",
     "text": [
      "59.8 ms ± 158 µs per loop (mean ± std. dev. of 7 runs, 10 loops each)\n"
     ]
    }
   ],
   "metadata": {}
  },
  {
   "cell_type": "code",
   "execution_count": 44,
   "source": [
    "%%timeit\n",
    "t=base.reshape(L*L*L)+base.take(xp)+base.take(xm)+ \\\n",
    "base.take(yp)+base.take(ym)+ \\\n",
    "base.take(zp)+base.take(zm)"
   ],
   "outputs": [
    {
     "output_type": "stream",
     "name": "stdout",
     "text": [
      "57 ms ± 922 µs per loop (mean ± std. dev. of 7 runs, 10 loops each)\n"
     ]
    }
   ],
   "metadata": {}
  },
  {
   "cell_type": "code",
   "execution_count": 45,
   "source": [
    "%%timeit\n",
    "t=(base.reshape(L*L*L)+base.take(xp)+base.take(xm)+ \\\n",
    "base.take(yp)+base.take(ym)+ \\\n",
    "base.take(zp)+base.take(zm)).reshape((L,L,L))"
   ],
   "outputs": [
    {
     "output_type": "stream",
     "name": "stdout",
     "text": [
      "56.6 ms ± 116 µs per loop (mean ± std. dev. of 7 runs, 10 loops each)\n"
     ]
    }
   ],
   "metadata": {}
  },
  {
   "cell_type": "code",
   "execution_count": 46,
   "source": [
    "%%timeit\n",
    "t=base+np.roll(base,+1,0)+np.roll(base,-1,0)+ \\\n",
    "    +np.roll(base,+1,1)+np.roll(base,-1,1) + \\\n",
    "    +np.roll(base,+1,2)+np.roll(base,-1,2)"
   ],
   "outputs": [
    {
     "output_type": "stream",
     "name": "stdout",
     "text": [
      "57.9 ms ± 621 µs per loop (mean ± std. dev. of 7 runs, 10 loops each)\n"
     ]
    }
   ],
   "metadata": {}
  },
  {
   "cell_type": "code",
   "execution_count": 47,
   "source": [
    "%%timeit t=np.zeros((L,L,L))\n",
    "np.copyto(t,base)\n",
    "for eje in 0,1,2:\n",
    "    for d in -1,1:\n",
    "        t+=np.roll(base,d,eje)"
   ],
   "outputs": [
    {
     "output_type": "stream",
     "name": "stdout",
     "text": [
      "54.5 ms ± 96.7 µs per loop (mean ± std. dev. of 7 runs, 10 loops each)\n"
     ]
    }
   ],
   "metadata": {}
  },
  {
   "cell_type": "code",
   "execution_count": 48,
   "source": [
    "%timeit t=np.zeros((L,L,L))\n",
    "np.copyto(t,base)\n",
    "for i in (xp,xm,yp,ym,zp,zm):\n",
    "    t+=base.take(i).reshape((L,L,L))"
   ],
   "outputs": [
    {
     "output_type": "stream",
     "name": "stdout",
     "text": [
      "2.37 ms ± 2.2 µs per loop (mean ± std. dev. of 7 runs, 100 loops each)\n"
     ]
    }
   ],
   "metadata": {}
  },
  {
   "cell_type": "code",
   "execution_count": 49,
   "source": [
    "import numexpr #esto es para usar luego con evaluate"
   ],
   "outputs": [],
   "metadata": {}
  },
  {
   "cell_type": "code",
   "execution_count": 50,
   "source": [
    "\"\"\"es sorprendente, pero parece que funciona\"\"\"\n",
    "t=np.zeros((L,L,L))\n",
    "np.copyto(t,base)\n",
    "t*=1\n",
    "for eje in 0,1,2:\n",
    "    for d in -1,1:\n",
    "        t+=np.roll(base,d,eje)\n",
    "v=np.zeros((L,L,L))\n",
    "np.copyto(v,base)\n",
    "for i in (xp,xm,yp,ym,zp,zm):\n",
    "    v+=base.take(i).reshape((L,L,L))\n",
    "np.allclose(v,t)"
   ],
   "outputs": [
    {
     "output_type": "execute_result",
     "data": {
      "text/plain": [
       "True"
      ]
     },
     "metadata": {},
     "execution_count": 50
    }
   ],
   "metadata": {}
  },
  {
   "cell_type": "code",
   "execution_count": 51,
   "source": [
    "%%timeit t=np.zeros((L,L,L))\n",
    "np.copyto(t,base)\n",
    "t[1:,:,:]+=base[:-1,:,:]\n",
    "t[0,:,:]+=base[-1,:,:]"
   ],
   "outputs": [
    {
     "output_type": "stream",
     "name": "stdout",
     "text": [
      "8.09 ms ± 22 µs per loop (mean ± std. dev. of 7 runs, 100 loops each)\n"
     ]
    }
   ],
   "metadata": {}
  },
  {
   "cell_type": "code",
   "execution_count": 52,
   "source": [
    "%%timeit t=np.zeros((L,L,L))\n",
    "np.copyto(t,base)\n",
    "t[1:,:,:]+=base[:-1,:,:]\n",
    "t[0,:,:]+=base[-1,:,:]\n",
    "t[:-1,:,:]+=base[1:,:,:]\n",
    "t[-1,:,:]+=base[0,:,:]"
   ],
   "outputs": [
    {
     "output_type": "stream",
     "name": "stdout",
     "text": [
      "11.5 ms ± 23.8 µs per loop (mean ± std. dev. of 7 runs, 100 loops each)\n"
     ]
    }
   ],
   "metadata": {}
  },
  {
   "cell_type": "code",
   "execution_count": 53,
   "source": [
    "%%timeit t=np.zeros((L,L,L))\n",
    "np.copyto(t,base)\n",
    "t[1:,:,:]+=base[:-1,:,:]\n",
    "t[0,:,:]+=base[-1,:,:]\n",
    "t[:-1,:,:]+=base[1:,:,:]\n",
    "t[-1,:,:]+=base[0,:,:]\n",
    "\n",
    "t[:,1:,:]+=base[:,:-1,:]\n",
    "t[:,0,:]+=base[:,-1,:]\n",
    "t[:,:-1,:]+=base[:,1:,:]\n",
    "t[:,-1,:]+=base[:,0,:]\n",
    "\n",
    "t[:,:,1:]+=base[:,:,:-1]\n",
    "t[:,:,0]+=base[:,:,-1]\n",
    "t[:,:,:-1]+=base[:,:,1:]\n",
    "t[:,:,-1]+=base[:,:,0]"
   ],
   "outputs": [
    {
     "output_type": "stream",
     "name": "stdout",
     "text": [
      "38.5 ms ± 17.9 µs per loop (mean ± std. dev. of 7 runs, 10 loops each)\n"
     ]
    }
   ],
   "metadata": {}
  },
  {
   "cell_type": "code",
   "execution_count": null,
   "source": [],
   "outputs": [],
   "metadata": {}
  }
 ],
 "metadata": {
  "orig_nbformat": 4,
  "language_info": {
   "name": "python",
   "version": "3.8.12",
   "mimetype": "text/x-python",
   "codemirror_mode": {
    "name": "ipython",
    "version": 3
   },
   "pygments_lexer": "ipython3",
   "nbconvert_exporter": "python",
   "file_extension": ".py"
  },
  "kernelspec": {
   "name": "python3",
   "display_name": "Python 3.8.12 64-bit ('base': conda)"
  },
  "interpreter": {
   "hash": "022bd4bbfecc8039a593343822acf020e7f3aad29134289ce44a53d4f0302060"
  }
 },
 "nbformat": 4,
 "nbformat_minor": 2
}