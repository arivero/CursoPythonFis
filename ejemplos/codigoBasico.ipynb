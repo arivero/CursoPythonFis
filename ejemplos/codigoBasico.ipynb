{
 "cells": [
  {
   "cell_type": "code",
   "execution_count": 10,
   "id": "f280d8bf-68ad-463a-a2a3-c588bf1244e4",
   "metadata": {},
   "outputs": [
    {
     "name": "stdout",
     "output_type": "stream",
     "text": [
      "0-3-6-9-12-1\n",
      "1\n",
      "15-18-21-24-27-30-33-3\n",
      "3\n",
      "36-39-42-45-48-51-54-4\n",
      "4\n",
      "57-60-63-66-69-72-75-6\n",
      "6\n",
      "78-81-84-87-90-93-96-8\n",
      "8\n",
      "99-ya esta\n"
     ]
    }
   ],
   "source": [
    "\"\"\"la caracteristica principal de python es que los bloques se organizan utilizando el sangrado,\n",
    "   que puede ser tanto de tabulacion como por espacios, con un minimo de dos espacios\"\"\"\n",
    "j=0\n",
    "for i in range(100):\n",
    "    if i%3 == 0:\n",
    "        print(i,end='-')\n",
    "        j=j+1\n",
    "    elif j %7 == 5:\n",
    "        print(j // 4)\n",
    "print(\"ya esta\")"
   ]
  },
  {
   "cell_type": "code",
   "execution_count": 17,
   "id": "8ce41b65-33ef-44c1-98ef-9d0280615714",
   "metadata": {},
   "outputs": [
    {
     "name": "stdout",
     "output_type": "stream",
     "text": [
      "39:5:5.571428571428571--40:5:5.714285714285714--41:5:5.857142857142857--42:6:6.0--43\n"
     ]
    }
   ],
   "source": [
    "a= True\n",
    "t=0\n",
    "while a:  \n",
    "    t += 1\n",
    "    if t < 39: continue #salta al siguiente paso del bucle\n",
    "    if t % 9 == 7: break #sale del bucle, aunque no se cumpla la condicion\n",
    "    print(t,t//7, t/7, sep=':', end='--')\n",
    "print(t)"
   ]
  },
  {
   "cell_type": "code",
   "execution_count": 18,
   "id": "d78e8f47-7d42-47f1-bf46-acf96e347834",
   "metadata": {},
   "outputs": [
    {
     "data": {
      "text/plain": [
       "'abcjk'"
      ]
     },
     "execution_count": 18,
     "metadata": {},
     "output_type": "execute_result"
    }
   ],
   "source": [
    "\"abc\"+\"jk\""
   ]
  },
  {
   "cell_type": "code",
   "execution_count": 19,
   "id": "f4338551-da5c-48d0-b070-31f42e1a28da",
   "metadata": {},
   "outputs": [
    {
     "data": {
      "text/plain": [
       "'b'"
      ]
     },
     "execution_count": 19,
     "metadata": {},
     "output_type": "execute_result"
    }
   ],
   "source": [
    "v=\"abc\"\n",
    "v[1]"
   ]
  },
  {
   "cell_type": "code",
   "execution_count": 20,
   "id": "33f3609b-02fd-488a-a59f-a38350246351",
   "metadata": {},
   "outputs": [
    {
     "ename": "TypeError",
     "evalue": "'str' object does not support item assignment",
     "output_type": "error",
     "traceback": [
      "\u001b[0;31m---------------------------------------------------------------------------\u001b[0m",
      "\u001b[0;31mTypeError\u001b[0m                                 Traceback (most recent call last)",
      "\u001b[0;32m/tmp/ipykernel_2022614/2648280078.py\u001b[0m in \u001b[0;36m<module>\u001b[0;34m\u001b[0m\n\u001b[0;32m----> 1\u001b[0;31m \u001b[0mv\u001b[0m\u001b[0;34m[\u001b[0m\u001b[0;36m1\u001b[0m\u001b[0;34m]\u001b[0m\u001b[0;34m=\u001b[0m\u001b[0;34m\"k\"\u001b[0m\u001b[0;34m\u001b[0m\u001b[0;34m\u001b[0m\u001b[0m\n\u001b[0m",
      "\u001b[0;31mTypeError\u001b[0m: 'str' object does not support item assignment"
     ]
    }
   ],
   "source": [
    "v[1]=\"k\""
   ]
  },
  {
   "cell_type": "code",
   "execution_count": 28,
   "id": "3ae21fce-1aaa-4371-aed1-70c633d70054",
   "metadata": {},
   "outputs": [
    {
     "data": {
      "text/plain": [
       "['a', 'b', 'c']"
      ]
     },
     "execution_count": 28,
     "metadata": {},
     "output_type": "execute_result"
    }
   ],
   "source": [
    "v=list(\"abc\")\n",
    "v"
   ]
  },
  {
   "cell_type": "code",
   "execution_count": 25,
   "id": "c0b59f65-2035-4555-8583-6cdb4c0eed07",
   "metadata": {},
   "outputs": [
    {
     "data": {
      "text/plain": [
       "'akc'"
      ]
     },
     "execution_count": 25,
     "metadata": {},
     "output_type": "execute_result"
    }
   ],
   "source": [
    "v[1]='k'\n",
    "\"\".join(v)"
   ]
  },
  {
   "cell_type": "code",
   "execution_count": 27,
   "id": "b08e81dc-31c1-40f9-a70d-f9ed5aa5edfd",
   "metadata": {},
   "outputs": [
    {
     "data": {
      "text/plain": [
       "'en python, las strings, los enteros y los float son \"datos inmutables\". \\nExiste tambien una lista inmutable, la \"tuple\" '"
      ]
     },
     "execution_count": 27,
     "metadata": {},
     "output_type": "execute_result"
    }
   ],
   "source": [
    "\"\"\"en python, las strings, los enteros y los float son \"datos inmutables\". \n",
    "Existe tambien una lista inmutable, la \"tuple\" \"\"\""
   ]
  },
  {
   "cell_type": "code",
   "execution_count": 30,
   "id": "28c0f86d-42fd-4579-8c73-a27df7ffc974",
   "metadata": {},
   "outputs": [
    {
     "data": {
      "text/plain": [
       "('a', 'b', 'c')"
      ]
     },
     "execution_count": 30,
     "metadata": {},
     "output_type": "execute_result"
    }
   ],
   "source": [
    "v=tuple(\"abc\")\n",
    "v"
   ]
  },
  {
   "cell_type": "code",
   "execution_count": 31,
   "id": "b99baff1-a971-4bb3-964d-ec9e01d0f7c4",
   "metadata": {},
   "outputs": [
    {
     "ename": "TypeError",
     "evalue": "'tuple' object does not support item assignment",
     "output_type": "error",
     "traceback": [
      "\u001b[0;31m---------------------------------------------------------------------------\u001b[0m",
      "\u001b[0;31mTypeError\u001b[0m                                 Traceback (most recent call last)",
      "\u001b[0;32m/tmp/ipykernel_2022614/594211883.py\u001b[0m in \u001b[0;36m<module>\u001b[0;34m\u001b[0m\n\u001b[0;32m----> 1\u001b[0;31m \u001b[0mv\u001b[0m\u001b[0;34m[\u001b[0m\u001b[0;36m1\u001b[0m\u001b[0;34m]\u001b[0m\u001b[0;34m=\u001b[0m\u001b[0;34m'k'\u001b[0m\u001b[0;34m\u001b[0m\u001b[0;34m\u001b[0m\u001b[0m\n\u001b[0m",
      "\u001b[0;31mTypeError\u001b[0m: 'tuple' object does not support item assignment"
     ]
    }
   ],
   "source": [
    "v[1]='k'"
   ]
  },
  {
   "cell_type": "code",
   "execution_count": 33,
   "id": "e90f26ba-ccea-47a9-aebe-e89da874aced",
   "metadata": {},
   "outputs": [
    {
     "data": {
      "text/plain": [
       "['1', 'b', 34, 'd']"
      ]
     },
     "execution_count": 33,
     "metadata": {},
     "output_type": "execute_result"
    }
   ],
   "source": [
    "\"\"\"no solo las variables admiten multiples tipos, tambien las listas y tuplas pueden ser heterogeneas\"\"\"\n",
    "v=list(\"1bcd\")\n",
    "v[2]=34\n",
    "v"
   ]
  },
  {
   "cell_type": "code",
   "execution_count": 34,
   "id": "7ae1b40e-4c26-45b4-a7b4-e3bcf692a81b",
   "metadata": {},
   "outputs": [
    {
     "data": {
      "text/plain": [
       "139648408114928"
      ]
     },
     "execution_count": 34,
     "metadata": {},
     "output_type": "execute_result"
    }
   ],
   "source": [
    "id('1')"
   ]
  },
  {
   "cell_type": "code",
   "execution_count": 35,
   "id": "4f4880e2-72bd-4664-8a1a-25aa4235e8b4",
   "metadata": {},
   "outputs": [
    {
     "data": {
      "text/plain": [
       "139648364018496"
      ]
     },
     "execution_count": 35,
     "metadata": {},
     "output_type": "execute_result"
    }
   ],
   "source": [
    "id(v)"
   ]
  },
  {
   "cell_type": "code",
   "execution_count": 38,
   "id": "f6ac4c6b-fa73-4d0a-ba8b-d6b6f29e5e9a",
   "metadata": {},
   "outputs": [
    {
     "data": {
      "text/plain": [
       "139648408114928"
      ]
     },
     "execution_count": 38,
     "metadata": {},
     "output_type": "execute_result"
    }
   ],
   "source": [
    "id(v[0])"
   ]
  },
  {
   "cell_type": "code",
   "execution_count": 39,
   "id": "6febcef1-124a-4dd7-87ce-e112cc43d2f7",
   "metadata": {},
   "outputs": [
    {
     "data": {
      "text/plain": [
       "[139648408114928, 139648407997552, 94686543790368, 139648408418736]"
      ]
     },
     "execution_count": 39,
     "metadata": {},
     "output_type": "execute_result"
    }
   ],
   "source": [
    "[id(x) for x in v]"
   ]
  },
  {
   "cell_type": "code",
   "execution_count": 43,
   "id": "dd3a36e4-e380-4389-ba61-2b61de32c6d6",
   "metadata": {},
   "outputs": [
    {
     "data": {
      "text/plain": [
       "[16, 36, 144, 441, 4]"
      ]
     },
     "execution_count": 43,
     "metadata": {},
     "output_type": "execute_result"
    }
   ],
   "source": [
    "\"\"\"esto es una 'list comprehension'\"\"\"\n",
    "[ a * a for a in (4,6,12,21,-2)]"
   ]
  },
  {
   "cell_type": "code",
   "execution_count": 45,
   "id": "79ca9b60-d87f-466e-ade9-296b29f0431e",
   "metadata": {},
   "outputs": [
    {
     "data": {
      "text/plain": [
       "{2, 3, 4, 5}"
      ]
     },
     "execution_count": 45,
     "metadata": {},
     "output_type": "execute_result"
    }
   ],
   "source": [
    "#conjuntos\n",
    "{4,5,2}.union({3,2})"
   ]
  },
  {
   "cell_type": "code",
   "execution_count": 47,
   "id": "c0311d5d-7e43-475e-8b59-e50b571703ca",
   "metadata": {},
   "outputs": [
    {
     "data": {
      "text/plain": [
       "'vocal'"
      ]
     },
     "execution_count": 47,
     "metadata": {},
     "output_type": "execute_result"
    }
   ],
   "source": [
    "#diccionarios. Pueden usar como clave cualquier inmutable\n",
    "d={'a':'vocal',1:'foo',2:'bar'}\n",
    "d['a']"
   ]
  },
  {
   "cell_type": "code",
   "execution_count": null,
   "id": "48d380a3-aa9f-407a-9247-20bc4c76209b",
   "metadata": {},
   "outputs": [],
   "source": [
    "#funciones, sin sorpresas. Las inmutables corresponderian a \"por valor\", las mutables a \"por referencia\"\n",
    "def a(x):\n",
    "    global guarda\n",
    "    guarda=x\n",
    "    c=x*x\n",
    "    return 2*c\n",
    "def b(x,y,v, named0=None, named1=''):\n",
    "    x0,y0=v\n",
    "    print(x+x0,named1)\n",
    "\n"
   ]
  },
  {
   "cell_type": "code",
   "execution_count": null,
   "metadata": {},
   "outputs": [],
   "source": []
  }
 ],
 "metadata": {
  "kernelspec": {
   "display_name": "Python 3 (ipykernel)",
   "language": "python",
   "name": "python3"
  },
  "language_info": {
   "codemirror_mode": {
    "name": "ipython",
    "version": 3
   },
   "file_extension": ".py",
   "mimetype": "text/x-python",
   "name": "python",
   "nbconvert_exporter": "python",
   "pygments_lexer": "ipython3",
   "version": "3.8.12"
  }
 },
 "nbformat": 4,
 "nbformat_minor": 5
}
