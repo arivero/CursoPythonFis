{
 "cells": [
  {
   "cell_type": "code",
   "execution_count": 23,
   "metadata": {},
   "outputs": [
    {
     "name": "stdout",
     "output_type": "stream",
     "text": [
      "'que' is not a number.\n"
     ]
    },
    {
     "data": {
      "text/plain": [
       "('hola', 34.3)"
      ]
     },
     "execution_count": 23,
     "metadata": {},
     "output_type": "execute_result"
    }
   ],
   "source": [
    "\"\"\"lo peor del I/O de python es la funcion input(), que antiguamente evaluaba, y quizas consecuencia tener que improvisar el parsing\"\"\"\n",
    "#si existe aun la tentacion o necesidad, mejor instalar una libreria mas avanzada:\n",
    "import pyinputplus as iplus #no estandar en conda, pero recomendada en libros de texto\n",
    "a=iplus.inputStr()\n",
    "#x=iplus.inputPassword() #no funciona en notebooks\n",
    "n=iplus.inputNum()\n",
    "a,n\n"
   ]
  },
  {
   "cell_type": "code",
   "execution_count": null,
   "metadata": {},
   "outputs": [],
   "source": [
    "\"\"\"la expresion with es un quiero y no puedo, pero permite al menos esconder la llamada a close()\"\"\"\n"
   ]
  },
  {
   "cell_type": "markdown",
   "metadata": {},
   "source": [
    "### ficheros de texto"
   ]
  },
  {
   "cell_type": "markdown",
   "metadata": {},
   "source": [
    "##### Escritura."
   ]
  },
  {
   "cell_type": "code",
   "execution_count": 17,
   "metadata": {},
   "outputs": [
    {
     "data": {
      "text/markdown": [
       "> **n** es 3"
      ],
      "text/plain": [
       "<IPython.core.display.Markdown object>"
      ]
     },
     "execution_count": 17,
     "metadata": {},
     "output_type": "execute_result"
    }
   ],
   "source": [
    "\"\"\"un caso muy particular es si el output es al notebook, donde podemos\n",
    "tener la tentacion de usar markdown\"\"\"\n",
    "\n",
    "from IPython.display import Markdown as md\n",
    "n=3\n",
    "md(\"> **n** es {}\".format(n))"
   ]
  },
  {
   "cell_type": "code",
   "execution_count": 25,
   "metadata": {},
   "outputs": [
    {
     "name": "stdout",
     "output_type": "stream",
     "text": [
      "2 3 1\n",
      "2 3 4\n"
     ]
    },
    {
     "data": {
      "text/plain": [
       "array([[2., 3., 1.],\n",
       "       [2., 3., 4.]])"
      ]
     },
     "execution_count": 25,
     "metadata": {},
     "output_type": "execute_result"
    }
   ],
   "source": [
    "import numpy as np\n",
    "a=np.array([[2,3,1],[2,3,4]],dtype=np.int64)\n",
    "np.savetxt(\"/tmp/np.txt\",a,fmt=\"%d\")#hay tambien un binario, save()\n",
    "!cat /tmp/np.txt \n",
    "b=np.loadtxt(\"/tmp/np.txt\")\n",
    "#np.genfromtxt si faltaran datos\n",
    "b"
   ]
  },
  {
   "cell_type": "markdown",
   "metadata": {},
   "source": [
    "##### lectura\n",
    "\n",
    "###### con split\n",
    "###### con expresiones regulares\n",
    "###### numpy\n",
    "###### pandas "
   ]
  },
  {
   "cell_type": "markdown",
   "metadata": {},
   "source": [
    "### ficheros binarios\n"
   ]
  },
  {
   "cell_type": "markdown",
   "metadata": {},
   "source": [
    "### estilo python\n",
    "\n",
    "Son mas bien ficheros \"de codigo precompilado\", asi que tienen el peligro de que se ejecutan cuando se cargan"
   ]
  },
  {
   "cell_type": "markdown",
   "metadata": {},
   "source": [
    "##### guardando en clave valor"
   ]
  },
  {
   "cell_type": "markdown",
   "metadata": {},
   "source": [
    "#### guardando en pickle"
   ]
  },
  {
   "cell_type": "markdown",
   "metadata": {},
   "source": [
    "### estilo c"
   ]
  },
  {
   "cell_type": "markdown",
   "metadata": {},
   "source": [
    "###trucos etc"
   ]
  },
  {
   "cell_type": "code",
   "execution_count": 2,
   "metadata": {},
   "outputs": [
    {
     "name": "stdout",
     "output_type": "stream",
     "text": [
      "codigoAvanzado.ipynb  ficheros.ipynb\t  numpy.ipynb\tscipy.ipynb\n",
      "codigoBasico.ipynb    imports\t\t  pandas.ipynb\n",
      "display.ipynb\t      latticeNumpy.ipynb  __pycache__\n"
     ]
    }
   ],
   "source": [
    "#ipython admite el bang para ir a la shell\n",
    "!ls"
   ]
  },
  {
   "cell_type": "code",
   "execution_count": 6,
   "metadata": {},
   "outputs": [
    {
     "name": "stdout",
     "output_type": "stream",
     "text": [
      "['codigoAvanzado.ipynb', 'codigoBasico.ipynb', 'display.ipynb', 'ficheros.ipynb', 'imports', 'latticeNumpy.ipynb', 'numpy.ipynb', 'pandas.ipynb', '__pycache__', 'scipy.ipynb']\n"
     ]
    }
   ],
   "source": [
    "a=!ls\n",
    "print(a)"
   ]
  },
  {
   "cell_type": "code",
   "execution_count": 14,
   "metadata": {},
   "outputs": [
    {
     "data": {
      "text/html": [
       "<iframe src=\"https://www.unizar.es\"></iframe>"
      ],
      "text/plain": [
       "<IPython.core.display.HTML object>"
      ]
     },
     "execution_count": 14,
     "metadata": {},
     "output_type": "execute_result"
    }
   ],
   "source": [
    "#este truco era majo pero ya no funciona por culpa de CORS\n",
    "from IPython.display import HTML\n",
    "HTML('<iframe src=\"https://www.unizar.es\"></iframe>')"
   ]
  },
  {
   "cell_type": "code",
   "execution_count": null,
   "metadata": {},
   "outputs": [],
   "source": []
  }
 ],
 "metadata": {
  "interpreter": {
   "hash": "3de448cab3e9e1fb8335bf3df677237b601577228366e67f0bbcb292b805168c"
  },
  "kernelspec": {
   "display_name": "Python 3.8.12 64-bit ('base': conda)",
   "name": "python3"
  },
  "language_info": {
   "codemirror_mode": {
    "name": "ipython",
    "version": 3
   },
   "file_extension": ".py",
   "mimetype": "text/x-python",
   "name": "python",
   "nbconvert_exporter": "python",
   "pygments_lexer": "ipython3",
   "version": "3.8.12"
  },
  "orig_nbformat": 4
 },
 "nbformat": 4,
 "nbformat_minor": 2
}
