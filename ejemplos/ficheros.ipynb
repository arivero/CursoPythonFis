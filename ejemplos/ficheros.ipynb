{
 "cells": [
  {
   "cell_type": "code",
   "execution_count": 23,
   "metadata": {},
   "outputs": [
    {
     "name": "stdout",
     "output_type": "stream",
     "text": [
      "'que' is not a number.\n"
     ]
    },
    {
     "data": {
      "text/plain": [
       "('hola', 34.3)"
      ]
     },
     "execution_count": 23,
     "metadata": {},
     "output_type": "execute_result"
    }
   ],
   "source": [
    "\"\"\"lo peor del I/O de python es la funcion input(), que antiguamente evaluaba, y quizas consecuencia tener que improvisar el parsing\"\"\"\n",
    "#si existe aun la tentacion o necesidad, mejor instalar una libreria mas avanzada:\n",
    "import pyinputplus as iplus #no estandar en conda, pero recomendada en libros de texto\n",
    "a=iplus.inputStr()\n",
    "#x=iplus.inputPassword() #no funciona en notebooks\n",
    "n=iplus.inputNum()\n",
    "a,n\n"
   ]
  },
  {
   "cell_type": "code",
   "execution_count": null,
   "metadata": {},
   "outputs": [],
   "source": [
    "\"\"\"la expresion with es un quiero y no puedo, pero permite al menos esconder la llamada a close()\"\"\"\n"
   ]
  },
  {
   "cell_type": "markdown",
   "metadata": {},
   "source": [
    "### ficheros de texto"
   ]
  },
  {
   "cell_type": "markdown",
   "metadata": {},
   "source": [
    "##### Escritura."
   ]
  },
  {
   "cell_type": "code",
   "execution_count": 17,
   "metadata": {},
   "outputs": [
    {
     "data": {
      "text/markdown": [
       "> **n** es 3"
      ],
      "text/plain": [
       "<IPython.core.display.Markdown object>"
      ]
     },
     "execution_count": 17,
     "metadata": {},
     "output_type": "execute_result"
    }
   ],
   "source": [
    "\"\"\"un caso muy particular es si el output es al notebook, donde podemos\n",
    "tener la tentacion de usar markdown\"\"\"\n",
    "\n",
    "from IPython.display import Markdown as md\n",
    "n=3\n",
    "md(\"> **n** es {}\".format(n))"
   ]
  },
  {
   "cell_type": "markdown",
   "metadata": {},
   "source": [
    "##### lectura\n",
    "\n",
    "###### con split\n",
    "###### con expresiones regulares"
   ]
  },
  {
   "cell_type": "markdown",
   "metadata": {},
   "source": [
    "### ficheros binarios\n"
   ]
  },
  {
   "cell_type": "markdown",
   "metadata": {},
   "source": []
  }
 ],
 "metadata": {
  "interpreter": {
   "hash": "3de448cab3e9e1fb8335bf3df677237b601577228366e67f0bbcb292b805168c"
  },
  "kernelspec": {
   "display_name": "Python 3.8.12 64-bit ('base': conda)",
   "name": "python3"
  },
  "language_info": {
   "codemirror_mode": {
    "name": "ipython",
    "version": 3
   },
   "file_extension": ".py",
   "mimetype": "text/x-python",
   "name": "python",
   "nbconvert_exporter": "python",
   "pygments_lexer": "ipython3",
   "version": "3.8.12"
  },
  "orig_nbformat": 4
 },
 "nbformat": 4,
 "nbformat_minor": 2
}
