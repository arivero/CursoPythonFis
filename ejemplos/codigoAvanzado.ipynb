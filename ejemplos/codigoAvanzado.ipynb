{
 "cells": [
  {
   "cell_type": "code",
   "execution_count": 1,
   "metadata": {},
   "outputs": [],
   "source": [
    "#si tienes un problema y lo resuelves con expresiones regulares...\n",
    "import re"
   ]
  },
  {
   "cell_type": "code",
   "execution_count": null,
   "metadata": {},
   "outputs": [],
   "source": [
    "#demasiadas maneras de hacer un tipo estructurado\n",
    "#clases\n",
    "#named tuples\n",
    "#c_types\n",
    "#dataclasses\n",
    "#named dicts\n",
    "\n",
    "#y una mas en numpy"
   ]
  }
 ],
 "metadata": {
  "interpreter": {
   "hash": "022bd4bbfecc8039a593343822acf020e7f3aad29134289ce44a53d4f0302060"
  },
  "kernelspec": {
   "display_name": "Python 3 (ipykernel)",
   "language": "python",
   "name": "python3"
  },
  "language_info": {
   "codemirror_mode": {
    "name": "ipython",
    "version": 3
   },
   "file_extension": ".py",
   "mimetype": "text/x-python",
   "name": "python",
   "nbconvert_exporter": "python",
   "pygments_lexer": "ipython3",
   "version": "3.8.12"
  }
 },
 "nbformat": 4,
 "nbformat_minor": 4
}
