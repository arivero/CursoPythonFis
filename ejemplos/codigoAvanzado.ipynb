{
 "cells": [
  {
   "cell_type": "code",
   "execution_count": 1,
   "metadata": {},
   "outputs": [],
   "source": [
    "#si tienes un problema y lo resuelves con expresiones regulares...\n",
    "import re"
   ]
  },
  {
   "cell_type": "code",
   "execution_count": 1,
   "metadata": {},
   "outputs": [],
   "source": [
    "#demasiadas maneras de hacer un tipo estructurado\n",
    "#clases\n",
    "#named tuples\n",
    "#c_types\n",
    "#dataclasses\n",
    "#named dicts\n",
    "\n",
    "#y una mas en numpy"
   ]
  },
  {
   "cell_type": "code",
   "execution_count": 2,
   "metadata": {},
   "outputs": [
    {
     "data": {
      "text/plain": [
       "2"
      ]
     },
     "execution_count": 2,
     "metadata": {},
     "output_type": "execute_result"
    }
   ],
   "source": [
    "\"\"\"entretenimiento recomendado: darse una vuelta por los code golf de python,\n",
    "por ejemplo esta pregunta:\n",
    "https://codegolf.stackexchange.com/questions/54/tips-for-golfing-in-python\n",
    "\"\"\"\n",
    "\n",
    "[1,2,3,4]['b' > 'a']"
   ]
  },
  {
   "cell_type": "code",
   "execution_count": 18,
   "metadata": {},
   "outputs": [
    {
     "name": "stdout",
     "output_type": "stream",
     "text": [
      "1666666 0.8266545227570512\n",
      "99 298\n"
     ]
    },
    {
     "data": {
      "text/plain": [
       "{0, 1, 2, 3}"
      ]
     },
     "execution_count": 18,
     "metadata": {},
     "output_type": "execute_result"
    }
   ],
   "source": [
    "pi=3\n",
    "import numpy as np\n",
    "from math import sin\n",
    "for v in    [  sin(t) for t in np.arange(0,1000,2*pi/10000)  ] :\n",
    "    pass\n",
    "for v  in    (  sin(t) for t in np.arange(0,1000,2*pi/10000) )  : \n",
    "    pass\n",
    "for k, i in enumerate(sin(t) for t in np.arange(0,1000,2*pi/10000) )  :\n",
    "    pass\n",
    "print(k,i)\n",
    "#y tambien las dict {k:v for k,v in…} \n",
    "for key, value in { k: 3*k+1 for k in range(0,100,3)}.items()  :\n",
    "    pass\n",
    "print(key,value)\n",
    "#y set \n",
    "a={ i % 4 for i in range(0,100)}\n",
    "a"
   ]
  },
  {
   "cell_type": "code",
   "execution_count": null,
   "metadata": {},
   "outputs": [],
   "source": []
  }
 ],
 "metadata": {
  "interpreter": {
   "hash": "3de448cab3e9e1fb8335bf3df677237b601577228366e67f0bbcb292b805168c"
  },
  "kernelspec": {
   "display_name": "Python 3.8.12 64-bit ('base': conda)",
   "name": "python3"
  },
  "language_info": {
   "codemirror_mode": {
    "name": "ipython",
    "version": 3
   },
   "file_extension": ".py",
   "mimetype": "text/x-python",
   "name": "python",
   "nbconvert_exporter": "python",
   "pygments_lexer": "ipython3",
   "version": "3.8.12"
  }
 },
 "nbformat": 4,
 "nbformat_minor": 4
}
