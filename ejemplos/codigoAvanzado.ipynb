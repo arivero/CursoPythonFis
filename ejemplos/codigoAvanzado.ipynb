{
 "cells": [
  {
   "cell_type": "code",
   "execution_count": 1,
   "metadata": {},
   "outputs": [],
   "source": [
    "#si tienes un problema y lo resuelves con expresiones regulares...\n",
    "import re"
   ]
  },
  {
   "cell_type": "code",
   "execution_count": 1,
   "metadata": {},
   "outputs": [],
   "source": [
    "#demasiadas maneras de hacer un tipo estructurado\n",
    "#clases\n",
    "#named tuples\n",
    "#c_types\n",
    "#dataclasses\n",
    "#named dicts\n",
    "\n",
    "#y una mas en numpy"
   ]
  },
  {
   "cell_type": "code",
   "execution_count": 2,
   "metadata": {},
   "outputs": [
    {
     "data": {
      "text/plain": [
       "2"
      ]
     },
     "execution_count": 2,
     "metadata": {},
     "output_type": "execute_result"
    }
   ],
   "source": [
    "\"\"\"entretenimiento recomendado: darse una vuelta por los code golf de python,\n",
    "por ejemplo esta pregunta:\n",
    "https://codegolf.stackexchange.com/questions/54/tips-for-golfing-in-python\n",
    "\"\"\"\n",
    "\n",
    "[1,2,3,4]['b' > 'a']"
   ]
  },
  {
   "cell_type": "code",
   "execution_count": 18,
   "metadata": {},
   "outputs": [
    {
     "name": "stdout",
     "output_type": "stream",
     "text": [
      "1666666 0.8266545227570512\n",
      "99 298\n"
     ]
    },
    {
     "data": {
      "text/plain": [
       "{0, 1, 2, 3}"
      ]
     },
     "execution_count": 18,
     "metadata": {},
     "output_type": "execute_result"
    }
   ],
   "source": [
    "pi=3\n",
    "import numpy as np\n",
    "from math import sin\n",
    "for v in    [  sin(t) for t in np.arange(0,1000,2*pi/10000)  ] :\n",
    "    pass\n",
    "for v  in    (  sin(t) for t in np.arange(0,1000,2*pi/10000) )  : \n",
    "    pass\n",
    "for k, i in enumerate(sin(t) for t in np.arange(0,1000,2*pi/10000) )  :\n",
    "    pass\n",
    "print(k,i)\n",
    "#y tambien las dict {k:v for k,v in…} \n",
    "for key, value in { k: 3*k+1 for k in range(0,100,3)}.items()  :\n",
    "    pass\n",
    "print(key,value)\n",
    "#y set \n",
    "a={ i % 4 for i in range(0,100)}\n",
    "a"
   ]
  },
  {
   "cell_type": "code",
   "execution_count": 4,
   "metadata": {},
   "outputs": [
    {
     "name": "stdout",
     "output_type": "stream",
     "text": [
      "Using existing profile dir: '/home/cursofis/.ipython/profile_default'\n",
      "Starting 24 engines with <class 'ipyparallel.cluster.launcher.LocalEngineSetLauncher'>\n"
     ]
    },
    {
     "data": {
      "application/vnd.jupyter.widget-view+json": {
       "model_id": "e5f7196c1c0a41759b5422e35c9fc51b",
       "version_major": 2,
       "version_minor": 0
      },
      "text/plain": [
       "sleep:   0%|          | 0/250 [00:00<?, ?tasks/s]"
      ]
     },
     "metadata": {},
     "output_type": "display_data"
    },
    {
     "name": "stdout",
     "output_type": "stream",
     "text": [
      "Stopping engine(s): 1634507384\n",
      "engine set stopped 1634507384: {'engines': {'0': {'exit_code': 0, 'pid': 2924168, 'identifier': '0'}, '1': {'exit_code': 0, 'pid': 2924194, 'identifier': '1'}, '2': {'exit_code': 0, 'pid': 2924196, 'identifier': '2'}, '3': {'exit_code': 0, 'pid': 2924198, 'identifier': '3'}, '4': {'exit_code': 0, 'pid': 2924202, 'identifier': '4'}, '5': {'exit_code': 0, 'pid': 2924205, 'identifier': '5'}, '6': {'exit_code': 0, 'pid': 2924209, 'identifier': '6'}, '7': {'exit_code': 0, 'pid': 2924212, 'identifier': '7'}, '8': {'exit_code': 0, 'pid': 2924214, 'identifier': '8'}, '9': {'exit_code': 0, 'pid': 2924218, 'identifier': '9'}, '10': {'exit_code': 0, 'pid': 2924221, 'identifier': '10'}, '11': {'exit_code': 0, 'pid': 2924233, 'identifier': '11'}, '12': {'exit_code': 0, 'pid': 2924240, 'identifier': '12'}, '13': {'exit_code': 0, 'pid': 2924242, 'identifier': '13'}, '14': {'exit_code': 0, 'pid': 2924249, 'identifier': '14'}, '15': {'exit_code': 0, 'pid': 2924260, 'identifier': '15'}, '16': {'exit_code': 0, 'pid': 2924270, 'identifier': '16'}, '17': {'exit_code': 0, 'pid': 2924288, 'identifier': '17'}, '18': {'exit_code': 0, 'pid': 2924313, 'identifier': '18'}, '19': {'exit_code': 0, 'pid': 2924323, 'identifier': '19'}, '20': {'exit_code': 0, 'pid': 2924328, 'identifier': '20'}, '21': {'exit_code': 0, 'pid': 2924330, 'identifier': '21'}, '22': {'exit_code': 0, 'pid': 2924345, 'identifier': '22'}, '23': {'exit_code': 0, 'pid': 2924370, 'identifier': '23'}}, 'exit_code': 0}\n",
      "Stopping controller\n",
      "Controller stopped: {'exit_code': 0, 'pid': 2924157, 'identifier': 'ipcontroller-1634507383-lnwg-2918476'}\n"
     ]
    }
   ],
   "source": [
    "#paralelismo dentro de jupyter/ipython\n",
    "#conda install ipyparallel\n",
    "#vease https://nbviewer.org/github/jrjohansson/scientific-python-lectures/blob/master/Lecture-6B-HPC.ipynb\n",
    "#y https://ipyparallel.readthedocs.io/en/latest/\n",
    "#from ipyparallel import Client\n",
    "import time\n",
    "import ipyparallel as ipp\n",
    "\n",
    "task_durations = [1] * 250\n",
    "# request a cluster\n",
    "with ipp.Cluster() as rc:\n",
    "    # get a view on the cluster\n",
    "    view = rc.load_balanced_view()\n",
    "    # submit the tasks\n",
    "    asyncresult = view.map_async(time.sleep, task_durations)\n",
    "    # wait interactively for results\n",
    "    asyncresult.wait_interactive()\n",
    "    # retrieve actual results\n",
    "    result = asyncresult.get()"
   ]
  },
  {
   "cell_type": "code",
   "execution_count": null,
   "metadata": {},
   "outputs": [],
   "source": []
  }
 ],
 "metadata": {
  "interpreter": {
   "hash": "3de448cab3e9e1fb8335bf3df677237b601577228366e67f0bbcb292b805168c"
  },
  "kernelspec": {
   "display_name": "Python 3.8.12 64-bit ('base': conda)",
   "name": "python3"
  },
  "language_info": {
   "codemirror_mode": {
    "name": "ipython",
    "version": 3
   },
   "file_extension": ".py",
   "mimetype": "text/x-python",
   "name": "python",
   "nbconvert_exporter": "python",
   "pygments_lexer": "ipython3",
   "version": "3.8.12"
  }
 },
 "nbformat": 4,
 "nbformat_minor": 4
}
