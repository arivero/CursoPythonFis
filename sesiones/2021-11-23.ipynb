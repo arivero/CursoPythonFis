{
 "cells": [
  {
   "cell_type": "code",
   "execution_count": 15,
   "id": "18920241-ac4e-484c-9381-2047a986daf4",
   "metadata": {},
   "outputs": [],
   "source": [
    "%matplotlib inline\n",
    "import matplotlib.pyplot as plt"
   ]
  },
  {
   "cell_type": "code",
   "execution_count": 3,
   "id": "8f39d1d2-cfe9-4dc4-964f-525ec7817c9e",
   "metadata": {},
   "outputs": [],
   "source": [
    "from scipy.stats import norm"
   ]
  },
  {
   "cell_type": "code",
   "execution_count": 4,
   "id": "70592c99-85fd-42dd-bd44-bf5d6842512a",
   "metadata": {},
   "outputs": [
    {
     "data": {
      "text/plain": [
       "<scipy.stats._continuous_distns.norm_gen at 0x7f445cfd9370>"
      ]
     },
     "execution_count": 4,
     "metadata": {},
     "output_type": "execute_result"
    }
   ],
   "source": [
    "import scipy as sp\n",
    "sp.stats.norm"
   ]
  },
  {
   "cell_type": "code",
   "execution_count": 8,
   "id": "3329c56b-a564-4fd5-831d-da13fbec63f7",
   "metadata": {},
   "outputs": [
    {
     "data": {
      "text/plain": [
       "(1.2815515655446004, -1.2815515655446004)"
      ]
     },
     "execution_count": 8,
     "metadata": {},
     "output_type": "execute_result"
    }
   ],
   "source": [
    "norm.ppf(0.9), norm.ppf(0.1)\n"
   ]
  },
  {
   "cell_type": "code",
   "execution_count": 9,
   "id": "7c15493b-08b1-4e4d-a9e3-08bd837a126f",
   "metadata": {},
   "outputs": [],
   "source": [
    "import numpy as np"
   ]
  },
  {
   "cell_type": "code",
   "execution_count": 17,
   "id": "ff4c5639-d1bb-4ef3-9e8c-3df349bfee2a",
   "metadata": {},
   "outputs": [],
   "source": [
    "x=np.linspace( -10.28, 10.28, 100)"
   ]
  },
  {
   "cell_type": "code",
   "execution_count": 22,
   "id": "c7adc9e2-c7f6-4405-8bb6-7d5a74b75829",
   "metadata": {},
   "outputs": [
    {
     "data": {
      "text/plain": [
       "[<matplotlib.lines.Line2D at 0x7f445c0ac4f0>]"
      ]
     },
     "execution_count": 22,
     "metadata": {},
     "output_type": "execute_result"
    },
    {
     "data": {
      "image/png": "[encoded data removed]",
      "text/plain": [
       "<Figure size 432x288 with 1 Axes>"
      ]
     },
     "metadata": {
      "needs_background": "light"
     },
     "output_type": "display_data"
    }
   ],
   "source": [
    "plt.plot(x,norm.pdf(x))"
   ]
  },
  {
   "cell_type": "code",
   "execution_count": 26,
   "id": "0a85bd1f-a4bf-4ef6-8b92-9f671677f683",
   "metadata": {},
   "outputs": [
    {
     "data": {
      "text/plain": [
       "[<matplotlib.lines.Line2D at 0x7f445bfcb940>]"
      ]
     },
     "execution_count": 26,
     "metadata": {},
     "output_type": "execute_result"
    },
    {
     "data": {
      "image/png": "[encoded data removed]",
      "text/plain": [
       "<Figure size 432x288 with 1 Axes>"
      ]
     },
     "metadata": {
      "needs_background": "light"
     },
     "output_type": "display_data"
    }
   ],
   "source": [
    "plt.plot(x,norm.pdf(x,scale=2, loc=4))"
   ]
  },
  {
   "cell_type": "code",
   "execution_count": 33,
   "id": "969ee000-3e6d-4b03-bf0d-d62b1de11442",
   "metadata": {},
   "outputs": [
    {
     "data": {
      "text/plain": [
       "(array(4.), 1.5)"
      ]
     },
     "execution_count": 33,
     "metadata": {},
     "output_type": "execute_result"
    }
   ],
   "source": [
    "mean,varianza,kurtosis=norm.stats(scale=1.5,loc=4,moments=\"mvk\")\n",
    "from math import sqrt\n",
    "mean, sqrt(varianza)"
   ]
  },
  {
   "cell_type": "markdown",
   "id": "d20c85bb-aee9-49ec-8c36-06f393e190c0",
   "metadata": {},
   "source": [
    "mean"
   ]
  },
  {
   "cell_type": "code",
   "execution_count": 35,
   "id": "83cde4cc-b4bc-439c-bb17-5c04c8c35b22",
   "metadata": {},
   "outputs": [
    {
     "data": {
      "text/plain": [
       "array([3.3484637 , 5.02049731, 3.68710589, 3.1241695 , 3.43437414,\n",
       "       4.09701898, 5.5771751 , 4.52273757, 6.00129193, 2.34297757,\n",
       "       5.72817083, 4.16413171, 4.31874887, 4.00917545, 3.70743846,\n",
       "       4.18796681, 4.20827583, 4.05649661, 5.28302998, 4.224848  ,\n",
       "       2.94222624, 5.73740388, 3.90979157, 3.13793262, 3.48311404,\n",
       "       4.50036265, 4.87939313, 5.6495438 , 5.45106341, 5.67416789,\n",
       "       4.09791921, 4.30873241, 4.23901671, 3.56730429, 3.77714119,\n",
       "       4.39155274, 2.01162603, 1.95405633, 3.97554211, 4.95412364,\n",
       "       3.26931723, 2.21906723, 4.32836452, 3.4707458 , 4.60812692,\n",
       "       4.5030075 , 3.195056  , 3.42708066, 2.76246286, 2.24829504,\n",
       "       3.07352325, 2.86021281, 5.8250893 , 2.4496951 , 2.75085366,\n",
       "       4.04754066, 3.54560406, 1.00794477, 2.75574829, 5.15664604,\n",
       "       4.68304749, 4.62799738, 3.93517068, 4.61996422, 4.20034657,\n",
       "       4.83861041, 2.77910477, 4.32622201, 5.38507722, 4.66408463,\n",
       "       4.53814832, 5.1511634 , 3.40762652, 4.11272396, 3.32947519,\n",
       "       3.68340181, 3.5878372 , 5.34706164, 3.28399019, 4.57901654,\n",
       "       4.67146058, 4.12842486, 5.04266927, 3.62385135, 3.09476819,\n",
       "       3.43247314, 5.03636652, 5.59544937, 4.32088244, 6.03605901,\n",
       "       3.52205266, 5.10431722, 3.90133568, 3.9925461 , 3.59678478,\n",
       "       3.30345372, 4.38247455, 4.3321866 , 5.11736128, 2.87600658])"
      ]
     },
     "execution_count": 35,
     "metadata": {},
     "output_type": "execute_result"
    }
   ],
   "source": [
    "norm.rvs(size=100,loc=4)"
   ]
  },
  {
   "cell_type": "code",
   "execution_count": 36,
   "id": "7f124c33-edc9-4006-b84e-2ae40401b825",
   "metadata": {},
   "outputs": [
    {
     "data": {
      "text/plain": [
       "3.9932406663504554"
      ]
     },
     "execution_count": 36,
     "metadata": {},
     "output_type": "execute_result"
    }
   ],
   "source": [
    "sum(norm.rvs(size=100,loc=4))/100"
   ]
  },
  {
   "cell_type": "code",
   "execution_count": 38,
   "id": "19972fb7-1c0e-484c-897a-6e423c58fa20",
   "metadata": {},
   "outputs": [],
   "source": [
    "secuencia=norm.rvs(size=1000,loc=4)"
   ]
  },
  {
   "cell_type": "code",
   "execution_count": 39,
   "id": "6bb8ed60-b55e-47e5-91cb-715095d79cb5",
   "metadata": {},
   "outputs": [
    {
     "data": {
      "text/plain": [
       "1000"
      ]
     },
     "execution_count": 39,
     "metadata": {},
     "output_type": "execute_result"
    }
   ],
   "source": [
    "len(secuencia)"
   ]
  },
  {
   "cell_type": "code",
   "execution_count": 40,
   "id": "bec0f10f-603c-4e69-a5a0-a3724dd2ce28",
   "metadata": {},
   "outputs": [
    {
     "data": {
      "text/plain": [
       "array([3.7041536 , 6.05695816, 4.09101978])"
      ]
     },
     "execution_count": 40,
     "metadata": {},
     "output_type": "execute_result"
    }
   ],
   "source": [
    "secuencia[:3]"
   ]
  },
  {
   "cell_type": "code",
   "execution_count": 46,
   "id": "7ea8fa5f-4084-43bc-aeb7-bbc8ced1c2c9",
   "metadata": {},
   "outputs": [
    {
     "data": {
      "text/plain": [
       "[<matplotlib.lines.Line2D at 0x7f445bb3fdc0>]"
      ]
     },
     "execution_count": 46,
     "metadata": {},
     "output_type": "execute_result"
    },
    {
     "data": {
      "image/png": "[encoded data removed]",
      "text/plain": [
       "<Figure size 432x288 with 1 Axes>"
      ]
     },
     "metadata": {
      "needs_background": "light"
     },
     "output_type": "display_data"
    }
   ],
   "source": [
    "plt.hist(secuencia,bins=70, density=True)\n",
    "x=np.linspace(0,8,1000)\n",
    "plt.plot(x,norm.pdf(x,loc=4))"
   ]
  },
  {
   "cell_type": "code",
   "execution_count": 51,
   "id": "ce7009da-51d6-4c28-87f0-b452c88fdb19",
   "metadata": {},
   "outputs": [
    {
     "data": {
      "text/plain": [
       "[<matplotlib.lines.Line2D at 0x7f445b744ee0>]"
      ]
     },
     "execution_count": 51,
     "metadata": {},
     "output_type": "execute_result"
    },
    {
     "data": {
      "image/png": "[encoded data removed]",
      "text/plain": [
       "<Figure size 432x288 with 1 Axes>"
      ]
     },
     "metadata": {
      "needs_background": "light"
     },
     "output_type": "display_data"
    }
   ],
   "source": [
    "plt.hist(norm.rvs(size=10000,loc=4),bins=70, density=True)\n",
    "x=np.linspace(0,8,1000)\n",
    "plt.plot(x,norm.pdf(x,loc=4))"
   ]
  },
  {
   "cell_type": "code",
   "execution_count": 52,
   "id": "e4fbbc24-9843-473a-87f2-7e6ca6518485",
   "metadata": {},
   "outputs": [],
   "source": [
    "n4_3=norm(scale=3,loc=4)"
   ]
  },
  {
   "cell_type": "code",
   "execution_count": 53,
   "id": "5435d17b-6e13-4ef6-97e2-37dff5b377de",
   "metadata": {},
   "outputs": [
    {
     "data": {
      "text/plain": [
       "scipy.stats._distn_infrastructure.rv_frozen"
      ]
     },
     "execution_count": 53,
     "metadata": {},
     "output_type": "execute_result"
    }
   ],
   "source": [
    "type(n4_3)"
   ]
  },
  {
   "cell_type": "code",
   "execution_count": 57,
   "id": "06923a22-0272-46c2-beeb-22511e28fc0a",
   "metadata": {},
   "outputs": [
    {
     "data": {
      "text/plain": [
       "[<matplotlib.lines.Line2D at 0x7f445b5b0250>]"
      ]
     },
     "execution_count": 57,
     "metadata": {},
     "output_type": "execute_result"
    },
    {
     "data": {
      "image/png": "[encoded data removed]",
      "text/plain": [
       "<Figure size 432x288 with 1 Axes>"
      ]
     },
     "metadata": {
      "needs_background": "light"
     },
     "output_type": "display_data"
    }
   ],
   "source": [
    "x=np.linspace(-2,12,1000)\n",
    "plt.plot(x,n4_3.pdf(x))"
   ]
  },
  {
   "cell_type": "code",
   "execution_count": 58,
   "id": "e38117d8-b4ca-44a1-b140-84dab78fd3fc",
   "metadata": {},
   "outputs": [
    {
     "data": {
      "text/plain": [
       "array([2.92570078, 4.22700084, 4.22606471, 5.41778732, 3.064192  ,\n",
       "       2.34148133, 8.14830507, 6.15389141, 3.31450538, 7.23105822])"
      ]
     },
     "execution_count": 58,
     "metadata": {},
     "output_type": "execute_result"
    }
   ],
   "source": [
    "n4_3.rvs(size=10)"
   ]
  },
  {
   "cell_type": "code",
   "execution_count": 59,
   "id": "179c58ae-77d5-498b-bcad-2c82a321de9a",
   "metadata": {},
   "outputs": [
    {
     "data": {
      "text/plain": [
       "18"
      ]
     },
     "execution_count": 59,
     "metadata": {},
     "output_type": "execute_result"
    }
   ],
   "source": [
    "from functools import partial\n",
    "basetwo = partial(int, base=2)\n",
    "basetwo.__doc__ = 'Convert base 2 string to an int.'\n",
    "basetwo('10010')"
   ]
  },
  {
   "cell_type": "code",
   "execution_count": 62,
   "id": "227e6ddf-5112-4e77-a3ed-b2042b71000f",
   "metadata": {},
   "outputs": [],
   "source": [
    "gauss4_3pdf=partial(norm.pdf,scale=3,loc=4)"
   ]
  },
  {
   "cell_type": "code",
   "execution_count": 63,
   "id": "b9f5eb3b-5760-427c-9bb7-b7ddfafaf499",
   "metadata": {},
   "outputs": [
    {
     "data": {
      "text/plain": [
       "[<matplotlib.lines.Line2D at 0x7f445b596820>]"
      ]
     },
     "execution_count": 63,
     "metadata": {},
     "output_type": "execute_result"
    },
    {
     "data": {
      "image/png": "[encoded data removed]",
      "text/plain": [
       "<Figure size 432x288 with 1 Axes>"
      ]
     },
     "metadata": {
      "needs_background": "light"
     },
     "output_type": "display_data"
    }
   ],
   "source": [
    "x=np.linspace(-2,12,1000)\n",
    "plt.plot(x,gauss4_3pdf(x))"
   ]
  },
  {
   "cell_type": "code",
   "execution_count": 64,
   "id": "10371686-8e7c-4ca6-8d46-3271d14370c7",
   "metadata": {},
   "outputs": [
    {
     "data": {
      "text/plain": [
       "4.0"
      ]
     },
     "execution_count": 64,
     "metadata": {},
     "output_type": "execute_result"
    }
   ],
   "source": [
    "n4_3.median()"
   ]
  },
  {
   "cell_type": "code",
   "execution_count": 65,
   "id": "5be5a9fa-b098-46b5-9555-62f0c8f7936e",
   "metadata": {},
   "outputs": [
    {
     "data": {
      "text/plain": [
       "3.0"
      ]
     },
     "execution_count": 65,
     "metadata": {},
     "output_type": "execute_result"
    }
   ],
   "source": [
    "n4_3.std()"
   ]
  },
  {
   "cell_type": "code",
   "execution_count": 66,
   "id": "0528410f-f669-4236-9142-1fa8e11ceea7",
   "metadata": {},
   "outputs": [
    {
     "data": {
      "text/plain": [
       "[<matplotlib.lines.Line2D at 0x7f445b501df0>]"
      ]
     },
     "execution_count": 66,
     "metadata": {},
     "output_type": "execute_result"
    },
    {
     "data": {
      "image/png": "[encoded data removed]",
      "text/plain": [
       "<Figure size 432x288 with 1 Axes>"
      ]
     },
     "metadata": {
      "needs_background": "light"
     },
     "output_type": "display_data"
    }
   ],
   "source": [
    "x=np.linspace(-2,12,1000)\n",
    "plt.plot(x,n4_3.cdf(x))"
   ]
  },
  {
   "cell_type": "code",
   "execution_count": 67,
   "id": "8d3a458a-ad0e-4cb9-95a9-00d042a5ed9c",
   "metadata": {},
   "outputs": [],
   "source": [
    "from scipy.stats import poisson as p"
   ]
  },
  {
   "cell_type": "code",
   "execution_count": 76,
   "id": "c628238e-0705-4575-a8d1-8872a301512b",
   "metadata": {},
   "outputs": [],
   "source": [
    "x=np.arange(40)"
   ]
  },
  {
   "cell_type": "code",
   "execution_count": 78,
   "id": "9e65ea5a-89ea-4bd4-aa3b-dd3b3422baca",
   "metadata": {},
   "outputs": [
    {
     "data": {
      "text/plain": [
       "[<matplotlib.lines.Line2D at 0x7f445b1601c0>]"
      ]
     },
     "execution_count": 78,
     "metadata": {},
     "output_type": "execute_result"
    },
    {
     "data": {
      "image/png": "[encoded data removed]",
      "text/plain": [
       "<Figure size 432x288 with 1 Axes>"
      ]
     },
     "metadata": {
      "needs_background": "light"
     },
     "output_type": "display_data"
    }
   ],
   "source": [
    "plt.plot(x,p.pmf(x,mu=17),'o')"
   ]
  },
  {
   "cell_type": "code",
   "execution_count": 79,
   "id": "97e5e53b-db74-4051-8662-9fa90fc999d4",
   "metadata": {},
   "outputs": [],
   "source": [
    "from scipy.optimize import minimize"
   ]
  },
  {
   "cell_type": "code",
   "execution_count": 81,
   "id": "b8cab3c7-094e-4f4e-9334-3dc369fb1ef2",
   "metadata": {},
   "outputs": [
    {
     "data": {
      "text/plain": [
       "      fun: -0.3989422804014327\n",
       " hess_inv: array([[2.50664032]])\n",
       "      jac: array([0.])\n",
       "  message: 'Optimization terminated successfully.'\n",
       "     nfev: 10\n",
       "      nit: 4\n",
       "     njev: 5\n",
       "   status: 0\n",
       "  success: True\n",
       "        x: array([5.5])"
      ]
     },
     "execution_count": 81,
     "metadata": {},
     "output_type": "execute_result"
    }
   ],
   "source": [
    "minimize( lambda x : - norm.pdf(x, loc=5.5), 5.3)"
   ]
  },
  {
   "cell_type": "code",
   "execution_count": 82,
   "id": "b80019b5-f500-4976-b69e-ad2bf0e9ece7",
   "metadata": {},
   "outputs": [
    {
     "data": {
      "text/plain": [
       "      fun: -5.361035344697615e-07\n",
       " hess_inv: array([[1]])\n",
       "      jac: array([-2.78773851e-06])\n",
       "  message: 'Optimization terminated successfully.'\n",
       "     nfev: 2\n",
       "      nit: 0\n",
       "     njev: 1\n",
       "   status: 0\n",
       "  success: True\n",
       "        x: array([0.3])"
      ]
     },
     "execution_count": 82,
     "metadata": {},
     "output_type": "execute_result"
    }
   ],
   "source": [
    "minimize( lambda x : - norm.pdf(x, loc=5.5), 0.3)"
   ]
  },
  {
   "cell_type": "code",
   "execution_count": 83,
   "id": "1c263eae-c40c-4682-aaf2-7ec2e136d961",
   "metadata": {},
   "outputs": [
    {
     "data": {
      "text/plain": [
       " final_simplex: (array([[5.50001953],\n",
       "       [5.49996094]]), array([-0.39894228, -0.39894228]))\n",
       "           fun: -0.3989422803253405\n",
       "       message: 'Optimization terminated successfully.'\n",
       "          nfev: 48\n",
       "           nit: 24\n",
       "        status: 0\n",
       "       success: True\n",
       "             x: array([5.50001953])"
      ]
     },
     "execution_count": 83,
     "metadata": {},
     "output_type": "execute_result"
    }
   ],
   "source": [
    "minimize( lambda x : - norm.pdf(x, loc=5.5), 0.3, method='nelder-mead')"
   ]
  },
  {
   "cell_type": "code",
   "execution_count": 85,
   "id": "ed19b9ad-2dfd-4069-8b3f-58fb93f7a102",
   "metadata": {},
   "outputs": [
    {
     "data": {
      "text/plain": [
       " final_simplex: (array([[-0.70710938],\n",
       "       [-0.70705078]]), array([-0.25      , -0.24999999]))\n",
       "           fun: -0.24999999998654426\n",
       "       message: 'Optimization terminated successfully.'\n",
       "          nfev: 32\n",
       "           nit: 16\n",
       "        status: 0\n",
       "       success: True\n",
       "             x: array([-0.70710938])"
      ]
     },
     "execution_count": 85,
     "metadata": {},
     "output_type": "execute_result"
    }
   ],
   "source": [
    "minimize( lambda x : x**4 - x**2 , -0.3, method='nelder-mead')"
   ]
  },
  {
   "cell_type": "code",
   "execution_count": 86,
   "id": "215d8cdc-02a6-49f6-a74d-ad8775aacf1b",
   "metadata": {},
   "outputs": [],
   "source": [
    "import pandas as pd"
   ]
  },
  {
   "cell_type": "code",
   "execution_count": 87,
   "id": "f8449e18-7163-4d8c-b750-4049b1890cac",
   "metadata": {},
   "outputs": [],
   "source": [
    "pdserie=pd.Series([2,4.5,3.8,2.3])"
   ]
  },
  {
   "cell_type": "code",
   "execution_count": 89,
   "id": "e1f85430-ee4f-496f-944a-c2bcc5781cf1",
   "metadata": {},
   "outputs": [
    {
     "data": {
      "text/plain": [
       "array([2. , 4.5, 3.8, 2.3])"
      ]
     },
     "execution_count": 89,
     "metadata": {},
     "output_type": "execute_result"
    }
   ],
   "source": [
    "pdserie.values"
   ]
  },
  {
   "cell_type": "code",
   "execution_count": 90,
   "id": "85e5ac86-5b4f-409d-98b6-a5b12e311e93",
   "metadata": {},
   "outputs": [
    {
     "data": {
      "text/plain": [
       "RangeIndex(start=0, stop=4, step=1)"
      ]
     },
     "execution_count": 90,
     "metadata": {},
     "output_type": "execute_result"
    }
   ],
   "source": [
    "pdserie.index"
   ]
  },
  {
   "cell_type": "code",
   "execution_count": 91,
   "id": "c4728f86-26e9-42ac-bfe5-29c42cf2287a",
   "metadata": {},
   "outputs": [],
   "source": [
    "pdserie=pd.Series([2,4.5,3.8,2.3], index=['a','b','x','j'])"
   ]
  },
  {
   "cell_type": "code",
   "execution_count": 92,
   "id": "ea5f4216-5988-45f4-aea9-26e3d8479129",
   "metadata": {},
   "outputs": [
    {
     "data": {
      "text/plain": [
       "a    2.0\n",
       "b    4.5\n",
       "x    3.8\n",
       "j    2.3\n",
       "dtype: float64"
      ]
     },
     "execution_count": 92,
     "metadata": {},
     "output_type": "execute_result"
    }
   ],
   "source": [
    "pdserie"
   ]
  },
  {
   "cell_type": "code",
   "execution_count": 93,
   "id": "78893ee6-7aaf-4e5e-be74-4b347a0897be",
   "metadata": {},
   "outputs": [
    {
     "data": {
      "text/plain": [
       "2.0"
      ]
     },
     "execution_count": 93,
     "metadata": {},
     "output_type": "execute_result"
    }
   ],
   "source": [
    "pdserie['a']"
   ]
  },
  {
   "cell_type": "code",
   "execution_count": 94,
   "id": "2256cd94-caf4-47cc-bd7d-5d858e3414bb",
   "metadata": {},
   "outputs": [
    {
     "data": {
      "text/plain": [
       "a    2.0\n",
       "b    4.5\n",
       "x    3.8\n",
       "dtype: float64"
      ]
     },
     "execution_count": 94,
     "metadata": {},
     "output_type": "execute_result"
    }
   ],
   "source": [
    "pdserie['a':'x']"
   ]
  },
  {
   "cell_type": "code",
   "execution_count": 101,
   "id": "0c0d3a8b-34f7-4a6a-a8b4-375c29359a37",
   "metadata": {},
   "outputs": [
    {
     "data": {
      "text/html": [
       "<div>\n",
       "<style scoped>\n",
       "    .dataframe tbody tr th:only-of-type {\n",
       "        vertical-align: middle;\n",
       "    }\n",
       "\n",
       "    .dataframe tbody tr th {\n",
       "        vertical-align: top;\n",
       "    }\n",
       "\n",
       "    .dataframe thead th {\n",
       "        text-align: right;\n",
       "    }\n",
       "</style>\n",
       "<table border=\"1\" class=\"dataframe\">\n",
       "  <thead>\n",
       "    <tr style=\"text-align: right;\">\n",
       "      <th></th>\n",
       "      <th>area</th>\n",
       "      <th>masa</th>\n",
       "    </tr>\n",
       "  </thead>\n",
       "  <tbody>\n",
       "    <tr>\n",
       "      <th>a</th>\n",
       "      <td>3.0</td>\n",
       "      <td>3.0</td>\n",
       "    </tr>\n",
       "    <tr>\n",
       "      <th>b</th>\n",
       "      <td>4.0</td>\n",
       "      <td>NaN</td>\n",
       "    </tr>\n",
       "    <tr>\n",
       "      <th>c</th>\n",
       "      <td>5.0</td>\n",
       "      <td>5.4</td>\n",
       "    </tr>\n",
       "    <tr>\n",
       "      <th>d</th>\n",
       "      <td>6.0</td>\n",
       "      <td>2.2</td>\n",
       "    </tr>\n",
       "    <tr>\n",
       "      <th>f</th>\n",
       "      <td>NaN</td>\n",
       "      <td>1.2</td>\n",
       "    </tr>\n",
       "  </tbody>\n",
       "</table>\n",
       "</div>"
      ],
      "text/plain": [
       "   area  masa\n",
       "a   3.0   3.0\n",
       "b   4.0   NaN\n",
       "c   5.0   5.4\n",
       "d   6.0   2.2\n",
       "f   NaN   1.2"
      ]
     },
     "execution_count": 101,
     "metadata": {},
     "output_type": "execute_result"
    }
   ],
   "source": [
    "pd.DataFrame( {\"area\": pd.Series([3,4,5,6],index=list(\"abcd\") ), \"masa\":pd.Series([3,5.4,2.2,1.2],index=list(\"acdf\"))}) "
   ]
  },
  {
   "cell_type": "code",
   "execution_count": 103,
   "id": "eabfdbc5-27b4-4202-b5a8-a9a0c75a056f",
   "metadata": {},
   "outputs": [
    {
     "data": {
      "text/html": [
       "<div>\n",
       "<style scoped>\n",
       "    .dataframe tbody tr th:only-of-type {\n",
       "        vertical-align: middle;\n",
       "    }\n",
       "\n",
       "    .dataframe tbody tr th {\n",
       "        vertical-align: top;\n",
       "    }\n",
       "\n",
       "    .dataframe thead th {\n",
       "        text-align: right;\n",
       "    }\n",
       "</style>\n",
       "<table border=\"1\" class=\"dataframe\">\n",
       "  <thead>\n",
       "    <tr style=\"text-align: right;\">\n",
       "      <th></th>\n",
       "      <th>area</th>\n",
       "      <th>masa</th>\n",
       "    </tr>\n",
       "  </thead>\n",
       "  <tbody>\n",
       "    <tr>\n",
       "      <th>a</th>\n",
       "      <td>3.0</td>\n",
       "      <td>3.0</td>\n",
       "    </tr>\n",
       "    <tr>\n",
       "      <th>b</th>\n",
       "      <td>4.0</td>\n",
       "      <td>NaN</td>\n",
       "    </tr>\n",
       "    <tr>\n",
       "      <th>c</th>\n",
       "      <td>5.0</td>\n",
       "      <td>5.4</td>\n",
       "    </tr>\n",
       "    <tr>\n",
       "      <th>d</th>\n",
       "      <td>6.0</td>\n",
       "      <td>2.2</td>\n",
       "    </tr>\n",
       "    <tr>\n",
       "      <th>f</th>\n",
       "      <td>NaN</td>\n",
       "      <td>1.2</td>\n",
       "    </tr>\n",
       "  </tbody>\n",
       "</table>\n",
       "</div>"
      ],
      "text/plain": [
       "   area  masa\n",
       "a   3.0   3.0\n",
       "b   4.0   NaN\n",
       "c   5.0   5.4\n",
       "d   6.0   2.2\n",
       "f   NaN   1.2"
      ]
     },
     "execution_count": 103,
     "metadata": {},
     "output_type": "execute_result"
    }
   ],
   "source": [
    "s=pd.DataFrame( {\"area\": pd.Series([3,4,5,6],index=list(\"abcd\") ), \"masa\":pd.Series([3,5.4,2.2,1.2],index=list(\"acdf\"))}) \n",
    "s"
   ]
  },
  {
   "cell_type": "code",
   "execution_count": 105,
   "id": "b138fba5-aa2d-421e-bbc5-19202416261c",
   "metadata": {},
   "outputs": [
    {
     "data": {
      "text/plain": [
       "['T',\n",
       " '_AXIS_LEN',\n",
       " '_AXIS_ORDERS',\n",
       " '_AXIS_REVERSED',\n",
       " '_AXIS_TO_AXIS_NUMBER',\n",
       " '_HANDLED_TYPES',\n",
       " '__abs__',\n",
       " '__add__',\n",
       " '__and__',\n",
       " '__annotations__',\n",
       " '__array__',\n",
       " '__array_priority__',\n",
       " '__array_ufunc__',\n",
       " '__array_wrap__',\n",
       " '__bool__',\n",
       " '__class__',\n",
       " '__contains__',\n",
       " '__copy__',\n",
       " '__deepcopy__',\n",
       " '__delattr__',\n",
       " '__delitem__',\n",
       " '__dict__',\n",
       " '__dir__',\n",
       " '__divmod__',\n",
       " '__doc__',\n",
       " '__eq__',\n",
       " '__finalize__',\n",
       " '__floordiv__',\n",
       " '__format__',\n",
       " '__ge__',\n",
       " '__getattr__',\n",
       " '__getattribute__',\n",
       " '__getitem__',\n",
       " '__getstate__',\n",
       " '__gt__',\n",
       " '__hash__',\n",
       " '__iadd__',\n",
       " '__iand__',\n",
       " '__ifloordiv__',\n",
       " '__imod__',\n",
       " '__imul__',\n",
       " '__init__',\n",
       " '__init_subclass__',\n",
       " '__invert__',\n",
       " '__ior__',\n",
       " '__ipow__',\n",
       " '__isub__',\n",
       " '__iter__',\n",
       " '__itruediv__',\n",
       " '__ixor__',\n",
       " '__le__',\n",
       " '__len__',\n",
       " '__lt__',\n",
       " '__matmul__',\n",
       " '__mod__',\n",
       " '__module__',\n",
       " '__mul__',\n",
       " '__ne__',\n",
       " '__neg__',\n",
       " '__new__',\n",
       " '__nonzero__',\n",
       " '__or__',\n",
       " '__pos__',\n",
       " '__pow__',\n",
       " '__radd__',\n",
       " '__rand__',\n",
       " '__rdivmod__',\n",
       " '__reduce__',\n",
       " '__reduce_ex__',\n",
       " '__repr__',\n",
       " '__rfloordiv__',\n",
       " '__rmatmul__',\n",
       " '__rmod__',\n",
       " '__rmul__',\n",
       " '__ror__',\n",
       " '__round__',\n",
       " '__rpow__',\n",
       " '__rsub__',\n",
       " '__rtruediv__',\n",
       " '__rxor__',\n",
       " '__setattr__',\n",
       " '__setitem__',\n",
       " '__setstate__',\n",
       " '__sizeof__',\n",
       " '__str__',\n",
       " '__sub__',\n",
       " '__subclasshook__',\n",
       " '__truediv__',\n",
       " '__weakref__',\n",
       " '__xor__',\n",
       " '_accessors',\n",
       " '_accum_func',\n",
       " '_add_numeric_operations',\n",
       " '_agg_by_level',\n",
       " '_agg_examples_doc',\n",
       " '_agg_summary_and_see_also_doc',\n",
       " '_align_frame',\n",
       " '_align_series',\n",
       " '_arith_method',\n",
       " '_as_manager',\n",
       " '_attrs',\n",
       " '_box_col_values',\n",
       " '_can_fast_transpose',\n",
       " '_check_inplace_and_allows_duplicate_labels',\n",
       " '_check_inplace_setting',\n",
       " '_check_is_chained_assignment_possible',\n",
       " '_check_label_or_level_ambiguity',\n",
       " '_check_setitem_copy',\n",
       " '_clear_item_cache',\n",
       " '_clip_with_one_bound',\n",
       " '_clip_with_scalar',\n",
       " '_cmp_method',\n",
       " '_combine_frame',\n",
       " '_consolidate',\n",
       " '_consolidate_inplace',\n",
       " '_construct_axes_dict',\n",
       " '_construct_axes_from_arguments',\n",
       " '_construct_result',\n",
       " '_constructor',\n",
       " '_constructor_sliced',\n",
       " '_convert',\n",
       " '_count_level',\n",
       " '_data',\n",
       " '_dir_additions',\n",
       " '_dir_deletions',\n",
       " '_dispatch_frame_op',\n",
       " '_drop_axis',\n",
       " '_drop_labels_or_levels',\n",
       " '_ensure_valid_index',\n",
       " '_find_valid_index',\n",
       " '_flags',\n",
       " '_from_arrays',\n",
       " '_from_mgr',\n",
       " '_get_agg_axis',\n",
       " '_get_axis',\n",
       " '_get_axis_name',\n",
       " '_get_axis_number',\n",
       " '_get_axis_resolvers',\n",
       " '_get_block_manager_axis',\n",
       " '_get_bool_data',\n",
       " '_get_cleaned_column_resolvers',\n",
       " '_get_column_array',\n",
       " '_get_index_resolvers',\n",
       " '_get_item_cache',\n",
       " '_get_label_or_level_values',\n",
       " '_get_numeric_data',\n",
       " '_get_value',\n",
       " '_getitem_bool_array',\n",
       " '_getitem_multilevel',\n",
       " '_gotitem',\n",
       " '_hidden_attrs',\n",
       " '_indexed_same',\n",
       " '_info_axis',\n",
       " '_info_axis_name',\n",
       " '_info_axis_number',\n",
       " '_info_repr',\n",
       " '_init_mgr',\n",
       " '_inplace_method',\n",
       " '_internal_names',\n",
       " '_internal_names_set',\n",
       " '_is_copy',\n",
       " '_is_homogeneous_type',\n",
       " '_is_label_or_level_reference',\n",
       " '_is_label_reference',\n",
       " '_is_level_reference',\n",
       " '_is_mixed_type',\n",
       " '_is_view',\n",
       " '_iset_item',\n",
       " '_iset_item_mgr',\n",
       " '_iset_not_inplace',\n",
       " '_item_cache',\n",
       " '_iter_column_arrays',\n",
       " '_ixs',\n",
       " '_join_compat',\n",
       " '_logical_func',\n",
       " '_logical_method',\n",
       " '_maybe_cache_changed',\n",
       " '_maybe_update_cacher',\n",
       " '_metadata',\n",
       " '_mgr',\n",
       " '_min_count_stat_function',\n",
       " '_needs_reindex_multi',\n",
       " '_protect_consolidate',\n",
       " '_reduce',\n",
       " '_reindex_axes',\n",
       " '_reindex_columns',\n",
       " '_reindex_index',\n",
       " '_reindex_multi',\n",
       " '_reindex_with_indexers',\n",
       " '_replace_columnwise',\n",
       " '_repr_data_resource_',\n",
       " '_repr_fits_horizontal_',\n",
       " '_repr_fits_vertical_',\n",
       " '_repr_html_',\n",
       " '_repr_latex_',\n",
       " '_reset_cache',\n",
       " '_reset_cacher',\n",
       " '_sanitize_column',\n",
       " '_series',\n",
       " '_set_axis',\n",
       " '_set_axis_name',\n",
       " '_set_axis_nocheck',\n",
       " '_set_is_copy',\n",
       " '_set_item',\n",
       " '_set_item_frame_value',\n",
       " '_set_item_mgr',\n",
       " '_set_value',\n",
       " '_setitem_array',\n",
       " '_setitem_frame',\n",
       " '_setitem_slice',\n",
       " '_slice',\n",
       " '_stat_axis',\n",
       " '_stat_axis_name',\n",
       " '_stat_axis_number',\n",
       " '_stat_function',\n",
       " '_stat_function_ddof',\n",
       " '_take_with_is_copy',\n",
       " '_to_dict_of_blocks',\n",
       " '_typ',\n",
       " '_update_inplace',\n",
       " '_validate_dtype',\n",
       " '_values',\n",
       " '_where',\n",
       " 'abs',\n",
       " 'add',\n",
       " 'add_prefix',\n",
       " 'add_suffix',\n",
       " 'agg',\n",
       " 'aggregate',\n",
       " 'align',\n",
       " 'all',\n",
       " 'any',\n",
       " 'append',\n",
       " 'apply',\n",
       " 'applymap',\n",
       " 'area',\n",
       " 'asfreq',\n",
       " 'asof',\n",
       " 'assign',\n",
       " 'astype',\n",
       " 'at',\n",
       " 'at_time',\n",
       " 'attrs',\n",
       " 'axes',\n",
       " 'backfill',\n",
       " 'between_time',\n",
       " 'bfill',\n",
       " 'bool',\n",
       " 'boxplot',\n",
       " 'clip',\n",
       " 'columns',\n",
       " 'combine',\n",
       " 'combine_first',\n",
       " 'compare',\n",
       " 'convert_dtypes',\n",
       " 'copy',\n",
       " 'corr',\n",
       " 'corrwith',\n",
       " 'count',\n",
       " 'cov',\n",
       " 'cummax',\n",
       " 'cummin',\n",
       " 'cumprod',\n",
       " 'cumsum',\n",
       " 'describe',\n",
       " 'diff',\n",
       " 'div',\n",
       " 'divide',\n",
       " 'dot',\n",
       " 'drop',\n",
       " 'drop_duplicates',\n",
       " 'droplevel',\n",
       " 'dropna',\n",
       " 'dtypes',\n",
       " 'duplicated',\n",
       " 'empty',\n",
       " 'eq',\n",
       " 'equals',\n",
       " 'eval',\n",
       " 'ewm',\n",
       " 'expanding',\n",
       " 'explode',\n",
       " 'ffill',\n",
       " 'fillna',\n",
       " 'filter',\n",
       " 'first',\n",
       " 'first_valid_index',\n",
       " 'flags',\n",
       " 'floordiv',\n",
       " 'from_dict',\n",
       " 'from_records',\n",
       " 'ge',\n",
       " 'get',\n",
       " 'groupby',\n",
       " 'gt',\n",
       " 'head',\n",
       " 'hist',\n",
       " 'iat',\n",
       " 'idxmax',\n",
       " 'idxmin',\n",
       " 'iloc',\n",
       " 'index',\n",
       " 'infer_objects',\n",
       " 'info',\n",
       " 'insert',\n",
       " 'interpolate',\n",
       " 'isin',\n",
       " 'isna',\n",
       " 'isnull',\n",
       " 'items',\n",
       " 'iteritems',\n",
       " 'iterrows',\n",
       " 'itertuples',\n",
       " 'join',\n",
       " 'keys',\n",
       " 'kurt',\n",
       " 'kurtosis',\n",
       " 'last',\n",
       " 'last_valid_index',\n",
       " 'le',\n",
       " 'loc',\n",
       " 'lookup',\n",
       " 'lt',\n",
       " 'mad',\n",
       " 'masa',\n",
       " 'mask',\n",
       " 'max',\n",
       " 'mean',\n",
       " 'median',\n",
       " 'melt',\n",
       " 'memory_usage',\n",
       " 'merge',\n",
       " 'min',\n",
       " 'mod',\n",
       " 'mode',\n",
       " 'mul',\n",
       " 'multiply',\n",
       " 'ndim',\n",
       " 'ne',\n",
       " 'nlargest',\n",
       " 'notna',\n",
       " 'notnull',\n",
       " 'nsmallest',\n",
       " 'nunique',\n",
       " 'pad',\n",
       " 'pct_change',\n",
       " 'pipe',\n",
       " 'pivot',\n",
       " 'pivot_table',\n",
       " 'plot',\n",
       " 'pop',\n",
       " 'pow',\n",
       " 'prod',\n",
       " 'product',\n",
       " 'quantile',\n",
       " 'query',\n",
       " 'radd',\n",
       " 'rank',\n",
       " 'rdiv',\n",
       " 'reindex',\n",
       " 'reindex_like',\n",
       " 'rename',\n",
       " 'rename_axis',\n",
       " 'reorder_levels',\n",
       " 'replace',\n",
       " 'resample',\n",
       " 'reset_index',\n",
       " 'rfloordiv',\n",
       " 'rmod',\n",
       " 'rmul',\n",
       " 'rolling',\n",
       " 'round',\n",
       " 'rpow',\n",
       " 'rsub',\n",
       " 'rtruediv',\n",
       " 'sample',\n",
       " 'select_dtypes',\n",
       " 'sem',\n",
       " 'set_axis',\n",
       " 'set_flags',\n",
       " 'set_index',\n",
       " 'shape',\n",
       " 'shift',\n",
       " 'size',\n",
       " 'skew',\n",
       " 'slice_shift',\n",
       " 'sort_index',\n",
       " 'sort_values',\n",
       " 'squeeze',\n",
       " 'stack',\n",
       " 'std',\n",
       " 'style',\n",
       " 'sub',\n",
       " 'subtract',\n",
       " 'sum',\n",
       " 'swapaxes',\n",
       " 'swaplevel',\n",
       " 'tail',\n",
       " 'take',\n",
       " 'to_clipboard',\n",
       " 'to_csv',\n",
       " 'to_dict',\n",
       " 'to_excel',\n",
       " 'to_feather',\n",
       " 'to_gbq',\n",
       " 'to_hdf',\n",
       " 'to_html',\n",
       " 'to_json',\n",
       " 'to_latex',\n",
       " 'to_markdown',\n",
       " 'to_numpy',\n",
       " 'to_parquet',\n",
       " 'to_period',\n",
       " 'to_pickle',\n",
       " 'to_records',\n",
       " 'to_sql',\n",
       " 'to_stata',\n",
       " 'to_string',\n",
       " 'to_timestamp',\n",
       " 'to_xarray',\n",
       " 'to_xml',\n",
       " 'transform',\n",
       " 'transpose',\n",
       " 'truediv',\n",
       " 'truncate',\n",
       " 'tz_convert',\n",
       " 'tz_localize',\n",
       " 'unstack',\n",
       " 'update',\n",
       " 'value_counts',\n",
       " 'values',\n",
       " 'var',\n",
       " 'where',\n",
       " 'xs']"
      ]
     },
     "execution_count": 105,
     "metadata": {},
     "output_type": "execute_result"
    }
   ],
   "source": [
    "dir(s)"
   ]
  },
  {
   "cell_type": "code",
   "execution_count": 108,
   "id": "6a2f9a9c-9f34-400d-8020-013dc6f865f5",
   "metadata": {},
   "outputs": [
    {
     "data": {
      "text/plain": [
       "(area    18.0\n",
       " masa    11.8\n",
       " dtype: float64,\n",
       " area    4.50\n",
       " masa    2.95\n",
       " dtype: float64)"
      ]
     },
     "execution_count": 108,
     "metadata": {},
     "output_type": "execute_result"
    }
   ],
   "source": [
    "s.sum(),s.mean()"
   ]
  },
  {
   "cell_type": "code",
   "execution_count": 118,
   "id": "d97cb39f-dbc1-497c-a98e-7affaae0f987",
   "metadata": {},
   "outputs": [],
   "source": [
    "x=pd.concat([s,s.apply(lambda x: x*x)],axis=1)"
   ]
  },
  {
   "cell_type": "code",
   "execution_count": 119,
   "id": "0354a078-648b-494e-b485-0deaa842eae1",
   "metadata": {},
   "outputs": [
    {
     "data": {
      "text/html": [
       "<div>\n",
       "<style scoped>\n",
       "    .dataframe tbody tr th:only-of-type {\n",
       "        vertical-align: middle;\n",
       "    }\n",
       "\n",
       "    .dataframe tbody tr th {\n",
       "        vertical-align: top;\n",
       "    }\n",
       "\n",
       "    .dataframe thead th {\n",
       "        text-align: right;\n",
       "    }\n",
       "</style>\n",
       "<table border=\"1\" class=\"dataframe\">\n",
       "  <thead>\n",
       "    <tr style=\"text-align: right;\">\n",
       "      <th></th>\n",
       "      <th>area</th>\n",
       "      <th>masa</th>\n",
       "      <th>area</th>\n",
       "      <th>masa</th>\n",
       "    </tr>\n",
       "  </thead>\n",
       "  <tbody>\n",
       "    <tr>\n",
       "      <th>a</th>\n",
       "      <td>3.0</td>\n",
       "      <td>3.0</td>\n",
       "      <td>9.0</td>\n",
       "      <td>9.00</td>\n",
       "    </tr>\n",
       "    <tr>\n",
       "      <th>b</th>\n",
       "      <td>4.0</td>\n",
       "      <td>NaN</td>\n",
       "      <td>16.0</td>\n",
       "      <td>NaN</td>\n",
       "    </tr>\n",
       "    <tr>\n",
       "      <th>c</th>\n",
       "      <td>5.0</td>\n",
       "      <td>5.4</td>\n",
       "      <td>25.0</td>\n",
       "      <td>29.16</td>\n",
       "    </tr>\n",
       "    <tr>\n",
       "      <th>d</th>\n",
       "      <td>6.0</td>\n",
       "      <td>2.2</td>\n",
       "      <td>36.0</td>\n",
       "      <td>4.84</td>\n",
       "    </tr>\n",
       "    <tr>\n",
       "      <th>f</th>\n",
       "      <td>NaN</td>\n",
       "      <td>1.2</td>\n",
       "      <td>NaN</td>\n",
       "      <td>1.44</td>\n",
       "    </tr>\n",
       "  </tbody>\n",
       "</table>\n",
       "</div>"
      ],
      "text/plain": [
       "   area  masa  area   masa\n",
       "a   3.0   3.0   9.0   9.00\n",
       "b   4.0   NaN  16.0    NaN\n",
       "c   5.0   5.4  25.0  29.16\n",
       "d   6.0   2.2  36.0   4.84\n",
       "f   NaN   1.2   NaN   1.44"
      ]
     },
     "execution_count": 119,
     "metadata": {},
     "output_type": "execute_result"
    }
   ],
   "source": [
    "x"
   ]
  },
  {
   "cell_type": "code",
   "execution_count": 121,
   "id": "e0fd5f0a-2044-4e98-8ed2-9ed8cd2f2c19",
   "metadata": {},
   "outputs": [
    {
     "data": {
      "text/plain": [
       "Index(['area', 'masa', 'area', 'masa'], dtype='object')"
      ]
     },
     "execution_count": 121,
     "metadata": {},
     "output_type": "execute_result"
    }
   ],
   "source": [
    "x.columns"
   ]
  },
  {
   "cell_type": "code",
   "execution_count": null,
   "id": "ef31ebeb-638d-4d04-bac1-4cd2404ef879",
   "metadata": {},
   "outputs": [],
   "source": []
  }
 ],
 "metadata": {
  "kernelspec": {
   "display_name": "Python 3 (ipykernel)",
   "language": "python",
   "name": "python3"
  },
  "language_info": {
   "codemirror_mode": {
    "name": "ipython",
    "version": 3
   },
   "file_extension": ".py",
   "mimetype": "text/x-python",
   "name": "python",
   "nbconvert_exporter": "python",
   "pygments_lexer": "ipython3",
   "version": "3.8.12"
  }
 },
 "nbformat": 4,
 "nbformat_minor": 5
}
