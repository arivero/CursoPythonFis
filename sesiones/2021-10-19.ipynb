{
 "cells": [
  {
   "cell_type": "markdown",
   "metadata": {},
   "source": [
    "Esta sesion es la de instalación. "
   ]
  },
  {
   "cell_type": "markdown",
   "metadata": {},
   "source": [
    "todos los asististentes deben instalar en su portatil la version individual de anaconda, o actualizarla en caso de ya tenerla instalada."
   ]
  },
  {
   "cell_type": "markdown",
   "metadata": {},
   "source": [
    "conda update --all"
   ]
  },
  {
   "cell_type": "markdown",
   "metadata": {},
   "source": [
    "la version actual de anaconda incluye jupyter-lab 3.0. Si por algun motivo se quiere poder usar el editor colaborativo,\n",
    "hay que usar al menos 3.1\n",
    "\n",
    "conda config --add channels conda-forge\n",
    "\n",
    "Otros paquetes recomendados: numba-scipy, numba-stats, c-compiler, fortran-compiler, theano\n",
    "\n",
    "si el arranque automatico de conda interfiere con alguna otra operacion de la shell, se puede anular con\n",
    "conda config --set auto_activate_base false\n",
    "\n",
    "En linux nos habra instalado tambien Anaconda Navigator, que tambien podemos usar para gestionar paquetes y environments\n",
    "\n",
    "Durante todo el curso asumimos que estamos trabajando en el environment base"
   ]
  },
  {
   "cell_type": "markdown",
   "metadata": {},
   "source": [
    "**es conveniente prestar atención a si los ficheros *.py se convierten en autoejecutables, y en ese caso con que version de python**"
   ]
  },
  {
   "cell_type": "markdown",
   "metadata": {},
   "source": [
    "Nosotros durante el curso ejecutaremos los ficheros .py bien desde la terminal o shell, bien desde el notebook usando el magic _%run_ \n",
    "o las llamadas !python o %%!python en el notebook"
   ]
  },
  {
   "cell_type": "code",
   "execution_count": null,
   "metadata": {},
   "outputs": [],
   "source": []
  }
 ],
 "metadata": {
  "kernelspec": {
   "display_name": "Python 3 (ipykernel)",
   "language": "python",
   "name": "python3"
  },
  "language_info": {
   "codemirror_mode": {
    "name": "ipython",
    "version": 3
   },
   "file_extension": ".py",
   "mimetype": "text/x-python",
   "name": "python",
   "nbconvert_exporter": "python",
   "pygments_lexer": "ipython3",
   "version": "3.8.12"
  }
 },
 "nbformat": 4,
 "nbformat_minor": 4
}
