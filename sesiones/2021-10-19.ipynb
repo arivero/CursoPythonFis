{
 "cells": [
  {
   "cell_type": "markdown",
   "source": [
    "Esta sesion es la de instalación. Los que tengan algun problema deben acudir a tutoria por la tarde, con su portatil, para asegurarnos de que al dia siguente estemos todos en linea"
   ],
   "metadata": {}
  },
  {
   "cell_type": "markdown",
   "source": [
    "tambien hay que comprobar los accesos a moodle/add con el fin de que al termino de cada sesion, o en su caso tras haber terminado los ejercicios, los estudiantes envien su cuadernillo para el proceso de evaluación."
   ],
   "metadata": {}
  },
  {
   "cell_type": "markdown",
   "source": [],
   "metadata": {}
  }
 ],
 "metadata": {
  "orig_nbformat": 4,
  "language_info": {
   "name": "python"
  }
 },
 "nbformat": 4,
 "nbformat_minor": 2
}