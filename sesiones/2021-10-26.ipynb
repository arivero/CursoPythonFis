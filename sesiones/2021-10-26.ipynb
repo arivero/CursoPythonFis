{
 "cells": [
  {
   "cell_type": "code",
   "execution_count": 2,
   "id": "1b7197be-5854-40c4-8021-d43c817d4c3f",
   "metadata": {},
   "outputs": [],
   "source": [
    "import numpy as np\n",
    "import timeit"
   ]
  },
  {
   "cell_type": "code",
   "execution_count": 3,
   "id": "b8f81b50-d863-491d-8592-67a25894696a",
   "metadata": {},
   "outputs": [],
   "source": [
    "a=[1,\"v\",4,5,3.4]"
   ]
  },
  {
   "cell_type": "code",
   "execution_count": 5,
   "id": "975b9c91-7458-4b26-833c-6413313ec8fb",
   "metadata": {},
   "outputs": [
    {
     "data": {
      "text/plain": [
       "'v'"
      ]
     },
     "execution_count": 5,
     "metadata": {},
     "output_type": "execute_result"
    }
   ],
   "source": [
    "a[1]"
   ]
  },
  {
   "cell_type": "code",
   "execution_count": 6,
   "id": "bce69741-1e6a-4737-8af6-82cc3cd7fdce",
   "metadata": {},
   "outputs": [
    {
     "data": {
      "text/plain": [
       "array([0, 1, 2, 3, 4, 5, 6, 7, 8, 9])"
      ]
     },
     "execution_count": 6,
     "metadata": {},
     "output_type": "execute_result"
    }
   ],
   "source": [
    "x=np.arange(10)\n",
    "x"
   ]
  },
  {
   "cell_type": "code",
   "execution_count": 7,
   "id": "17ffea53-ea9c-440c-9380-123de8dd8ee5",
   "metadata": {},
   "outputs": [
    {
     "data": {
      "text/plain": [
       "dtype('int64')"
      ]
     },
     "execution_count": 7,
     "metadata": {},
     "output_type": "execute_result"
    }
   ],
   "source": [
    "x.dtype"
   ]
  },
  {
   "cell_type": "code",
   "execution_count": 8,
   "id": "aa36e5cf-fbe2-4e27-9a6a-f2224f92c125",
   "metadata": {},
   "outputs": [
    {
     "data": {
      "text/plain": [
       "(10,)"
      ]
     },
     "execution_count": 8,
     "metadata": {},
     "output_type": "execute_result"
    }
   ],
   "source": [
    "x.shape"
   ]
  },
  {
   "cell_type": "code",
   "execution_count": 9,
   "id": "4c2e47b0-506f-4fff-a1d2-4413ccedb2b6",
   "metadata": {},
   "outputs": [],
   "source": [
    "x=np.arange(16).reshape(4,4)"
   ]
  },
  {
   "cell_type": "code",
   "execution_count": 10,
   "id": "24042e44-fab4-4c0b-b1ff-8e5f322f4439",
   "metadata": {},
   "outputs": [
    {
     "data": {
      "text/plain": [
       "array([[ 0,  1,  2,  3],\n",
       "       [ 4,  5,  6,  7],\n",
       "       [ 8,  9, 10, 11],\n",
       "       [12, 13, 14, 15]])"
      ]
     },
     "execution_count": 10,
     "metadata": {},
     "output_type": "execute_result"
    }
   ],
   "source": [
    "x"
   ]
  },
  {
   "cell_type": "code",
   "execution_count": 11,
   "id": "546a31de-f098-469f-9f9d-ddf7ba52fdb6",
   "metadata": {},
   "outputs": [],
   "source": [
    "y=x"
   ]
  },
  {
   "cell_type": "code",
   "execution_count": 12,
   "id": "65efcab2-fc9b-43e4-8636-69c2d528baad",
   "metadata": {},
   "outputs": [],
   "source": [
    "x[1,1]=999"
   ]
  },
  {
   "cell_type": "code",
   "execution_count": 13,
   "id": "d9419bcc-fdc4-4eca-bb8b-5ff9d8d53a48",
   "metadata": {},
   "outputs": [
    {
     "data": {
      "text/plain": [
       "array([[  0,   1,   2,   3],\n",
       "       [  4, 999,   6,   7],\n",
       "       [  8,   9,  10,  11],\n",
       "       [ 12,  13,  14,  15]])"
      ]
     },
     "execution_count": 13,
     "metadata": {},
     "output_type": "execute_result"
    }
   ],
   "source": [
    "y"
   ]
  },
  {
   "cell_type": "code",
   "execution_count": 14,
   "id": "f05bcc22-765d-43d1-8396-d84d82c730fb",
   "metadata": {},
   "outputs": [],
   "source": [
    "z=x+0"
   ]
  },
  {
   "cell_type": "code",
   "execution_count": 15,
   "id": "3282f008-fca4-44ac-a924-1fc295fd93e4",
   "metadata": {},
   "outputs": [],
   "source": [
    "x[1,1]=7"
   ]
  },
  {
   "cell_type": "code",
   "execution_count": 16,
   "id": "f5bcca8b-2a5e-4ca7-8f0f-e900470f1f6b",
   "metadata": {},
   "outputs": [
    {
     "data": {
      "text/plain": [
       "array([[ 0,  1,  2,  3],\n",
       "       [ 4,  7,  6,  7],\n",
       "       [ 8,  9, 10, 11],\n",
       "       [12, 13, 14, 15]])"
      ]
     },
     "execution_count": 16,
     "metadata": {},
     "output_type": "execute_result"
    }
   ],
   "source": [
    "x"
   ]
  },
  {
   "cell_type": "code",
   "execution_count": 17,
   "id": "440fcb0e-dad9-4954-af76-0ba8eee0967a",
   "metadata": {},
   "outputs": [
    {
     "data": {
      "text/plain": [
       "array([[ 0,  1,  2,  3],\n",
       "       [ 4,  7,  6,  7],\n",
       "       [ 8,  9, 10, 11],\n",
       "       [12, 13, 14, 15]])"
      ]
     },
     "execution_count": 17,
     "metadata": {},
     "output_type": "execute_result"
    }
   ],
   "source": [
    "y"
   ]
  },
  {
   "cell_type": "code",
   "execution_count": 18,
   "id": "43a6d32d-ce90-469c-98be-eb7001100db9",
   "metadata": {},
   "outputs": [
    {
     "data": {
      "text/plain": [
       "array([[  0,   1,   2,   3],\n",
       "       [  4, 999,   6,   7],\n",
       "       [  8,   9,  10,  11],\n",
       "       [ 12,  13,  14,  15]])"
      ]
     },
     "execution_count": 18,
     "metadata": {},
     "output_type": "execute_result"
    }
   ],
   "source": [
    "z"
   ]
  },
  {
   "cell_type": "code",
   "execution_count": 19,
   "id": "46b1f4cd-49ce-4d15-9480-976e5d3360b5",
   "metadata": {},
   "outputs": [
    {
     "data": {
      "text/plain": [
       "dtype('float64')"
      ]
     },
     "execution_count": 19,
     "metadata": {},
     "output_type": "execute_result"
    }
   ],
   "source": [
    "np.array([3.3,3.4]).dtype"
   ]
  },
  {
   "cell_type": "code",
   "execution_count": 20,
   "id": "5f823bb8-832c-444b-866b-cf8589d39668",
   "metadata": {},
   "outputs": [
    {
     "data": {
      "text/plain": [
       "dtype('<U12')"
      ]
     },
     "execution_count": 20,
     "metadata": {},
     "output_type": "execute_result"
    }
   ],
   "source": [
    "np.array(\"hola que tal\").dtype"
   ]
  },
  {
   "cell_type": "code",
   "execution_count": 21,
   "id": "3c09cfb2-8c08-4e83-ba4a-075fee782cd7",
   "metadata": {},
   "outputs": [
    {
     "data": {
      "text/plain": [
       "dtype('<U1')"
      ]
     },
     "execution_count": 21,
     "metadata": {},
     "output_type": "execute_result"
    }
   ],
   "source": [
    "np.array(list(\"hola que tal\")).dtype"
   ]
  },
  {
   "cell_type": "code",
   "execution_count": 22,
   "id": "6dda99eb-2e3d-467c-8568-909ce7120ed5",
   "metadata": {},
   "outputs": [
    {
     "data": {
      "text/plain": [
       "(12,)"
      ]
     },
     "execution_count": 22,
     "metadata": {},
     "output_type": "execute_result"
    }
   ],
   "source": [
    "np.array(list(\"hola que tal\")).shape"
   ]
  },
  {
   "cell_type": "code",
   "execution_count": 23,
   "id": "0a522269-9c64-4d6e-8be2-ded8e809f44f",
   "metadata": {},
   "outputs": [
    {
     "data": {
      "text/plain": [
       "dtype('bool')"
      ]
     },
     "execution_count": 23,
     "metadata": {},
     "output_type": "execute_result"
    }
   ],
   "source": [
    "np.array([True,True]).dtype"
   ]
  },
  {
   "cell_type": "code",
   "execution_count": 26,
   "id": "adf6a378-36a0-4d81-b798-c82bd733bc75",
   "metadata": {},
   "outputs": [
    {
     "data": {
      "text/plain": [
       "dtype('O')"
      ]
     },
     "execution_count": 26,
     "metadata": {},
     "output_type": "execute_result"
    }
   ],
   "source": [
    "np.array([3,5,1,2**65]).dtype"
   ]
  },
  {
   "cell_type": "code",
   "execution_count": 28,
   "id": "1c29b5fb-6224-4b4d-b10c-7cb2f751b28a",
   "metadata": {},
   "outputs": [
    {
     "data": {
      "text/plain": [
       "36893488147419103232"
      ]
     },
     "execution_count": 28,
     "metadata": {},
     "output_type": "execute_result"
    }
   ],
   "source": [
    "2**65"
   ]
  },
  {
   "cell_type": "code",
   "execution_count": 29,
   "id": "db96661f-9002-4510-9980-161017e16bb2",
   "metadata": {},
   "outputs": [],
   "source": [
    "#from math import sin\n",
    "from numpy import sin, pi"
   ]
  },
  {
   "cell_type": "code",
   "execution_count": 30,
   "id": "83223968-6f49-4242-8fe6-b36fb6bc27c1",
   "metadata": {},
   "outputs": [
    {
     "data": {
      "text/plain": [
       "0.1411200080598672"
      ]
     },
     "execution_count": 30,
     "metadata": {},
     "output_type": "execute_result"
    }
   ],
   "source": [
    "np.sin(3)"
   ]
  },
  {
   "cell_type": "code",
   "execution_count": 31,
   "id": "30df2a16-e6a3-436b-be0c-486ba21cfe6f",
   "metadata": {},
   "outputs": [
    {
     "data": {
      "text/plain": [
       "0.1411200080598672"
      ]
     },
     "execution_count": 31,
     "metadata": {},
     "output_type": "execute_result"
    }
   ],
   "source": [
    "sin(3)"
   ]
  },
  {
   "cell_type": "code",
   "execution_count": 35,
   "id": "58913b16-d7ac-4435-abe0-01b7be77fe60",
   "metadata": {},
   "outputs": [
    {
     "name": "stdout",
     "output_type": "stream",
     "text": [
      "0.0\n",
      "0.17453292519943295\n",
      "0.3490658503988659\n",
      "0.5235987755982988\n",
      "0.6981317007977318\n",
      "0.8726646259971648\n",
      "1.0471975511965976\n",
      "1.2217304763960306\n",
      "1.3962634015954636\n",
      "1.5707963267948966\n"
     ]
    }
   ],
   "source": [
    "#comprehension\n",
    "for i in ( n* 2 * pi / 360 for n in range (0,91,10) ):print(i)"
   ]
  },
  {
   "cell_type": "code",
   "execution_count": 36,
   "id": "5482090a-0279-4692-addf-f49b7622119b",
   "metadata": {},
   "outputs": [
    {
     "name": "stdout",
     "output_type": "stream",
     "text": [
      "0.0\n",
      "0.17453292519943295\n",
      "0.3490658503988659\n",
      "0.5235987755982988\n",
      "0.6981317007977318\n",
      "0.8726646259971648\n",
      "1.0471975511965976\n",
      "1.2217304763960306\n",
      "1.3962634015954636\n",
      "1.5707963267948966\n"
     ]
    }
   ],
   "source": [
    "for i in [ n* 2 * pi / 360 for n in range (0,91,10) ]:print(i)"
   ]
  },
  {
   "cell_type": "code",
   "execution_count": 37,
   "id": "a1f6c368-825e-43b6-87fe-dd194520c8f9",
   "metadata": {},
   "outputs": [],
   "source": [
    "x=[ n* 2 * pi / 360 for n in range (0,91,10) ]"
   ]
  },
  {
   "cell_type": "code",
   "execution_count": 40,
   "id": "5c152228-9286-45f1-b1b4-a05ac7dc91c6",
   "metadata": {},
   "outputs": [
    {
     "data": {
      "text/plain": [
       "array([0.        , 0.17364818, 0.34202014, 0.5       , 0.64278761,\n",
       "       0.76604444, 0.8660254 , 0.93969262, 0.98480775, 1.        ])"
      ]
     },
     "execution_count": 40,
     "metadata": {},
     "output_type": "execute_result"
    }
   ],
   "source": [
    "np.sin(x)"
   ]
  },
  {
   "cell_type": "code",
   "execution_count": 39,
   "id": "5e6759f7-5fc5-4830-b141-e639b5890d3b",
   "metadata": {},
   "outputs": [
    {
     "ename": "TypeError",
     "evalue": "must be real number, not list",
     "output_type": "error",
     "traceback": [
      "\u001b[0;31m---------------------------------------------------------------------------\u001b[0m",
      "\u001b[0;31mTypeError\u001b[0m                                 Traceback (most recent call last)",
      "\u001b[0;32m/tmp/ipykernel_3498259/3115110496.py\u001b[0m in \u001b[0;36m<module>\u001b[0;34m\u001b[0m\n\u001b[1;32m      1\u001b[0m \u001b[0;32mimport\u001b[0m \u001b[0mmath\u001b[0m\u001b[0;34m\u001b[0m\u001b[0;34m\u001b[0m\u001b[0m\n\u001b[0;32m----> 2\u001b[0;31m \u001b[0mmath\u001b[0m\u001b[0;34m.\u001b[0m\u001b[0msin\u001b[0m\u001b[0;34m(\u001b[0m\u001b[0mx\u001b[0m\u001b[0;34m)\u001b[0m\u001b[0;34m\u001b[0m\u001b[0;34m\u001b[0m\u001b[0m\n\u001b[0m",
      "\u001b[0;31mTypeError\u001b[0m: must be real number, not list"
     ]
    }
   ],
   "source": [
    "import math\n",
    "math.sin(x)"
   ]
  },
  {
   "cell_type": "code",
   "execution_count": 41,
   "id": "02afd59e-1524-474e-a6c4-73314bde4db0",
   "metadata": {},
   "outputs": [
    {
     "data": {
      "text/plain": [
       "[0.0,\n",
       " 0.17364817766693033,\n",
       " 0.3420201433256687,\n",
       " 0.49999999999999994,\n",
       " 0.6427876096865393,\n",
       " 0.766044443118978,\n",
       " 0.8660254037844386,\n",
       " 0.9396926207859083,\n",
       " 0.984807753012208,\n",
       " 1.0]"
      ]
     },
     "execution_count": 41,
     "metadata": {},
     "output_type": "execute_result"
    }
   ],
   "source": [
    "[math.sin(i) for i in x]"
   ]
  },
  {
   "cell_type": "code",
   "execution_count": 42,
   "id": "f87d30c7-6776-4da1-985f-9e246f4ffa64",
   "metadata": {},
   "outputs": [],
   "source": [
    "y=np.array(x)"
   ]
  },
  {
   "cell_type": "code",
   "execution_count": 47,
   "id": "1195b67c-8988-4f12-9793-58de8d9c6ec8",
   "metadata": {},
   "outputs": [],
   "source": [
    "def gradosSin(n):\n",
    "    return np.sin(n*2*pi/360)"
   ]
  },
  {
   "cell_type": "code",
   "execution_count": 49,
   "id": "a0dfd16a-a0de-4f51-a31c-b88984ee105e",
   "metadata": {},
   "outputs": [
    {
     "data": {
      "text/plain": [
       "array([ 0., 45., 90.])"
      ]
     },
     "execution_count": 49,
     "metadata": {},
     "output_type": "execute_result"
    }
   ],
   "source": [
    "x=np.linspace(0,90,3)\n",
    "x"
   ]
  },
  {
   "cell_type": "code",
   "execution_count": 50,
   "id": "1c239b73-4e74-48ed-a552-02462c70d2c1",
   "metadata": {},
   "outputs": [
    {
     "data": {
      "text/plain": [
       "array([0.        , 0.70710678, 1.        ])"
      ]
     },
     "execution_count": 50,
     "metadata": {},
     "output_type": "execute_result"
    }
   ],
   "source": [
    "gradosSin(x)"
   ]
  },
  {
   "cell_type": "code",
   "execution_count": 53,
   "id": "161f3c98-ada0-4381-992a-129f5c1cd47b",
   "metadata": {},
   "outputs": [
    {
     "name": "stdout",
     "output_type": "stream",
     "text": [
      "102 µs ± 4.42 µs per loop (mean ± std. dev. of 7 runs, 10000 loops each)\n"
     ]
    }
   ],
   "source": [
    "%%timeit\n",
    "gradosSin(np.linspace(0,90,10))"
   ]
  },
  {
   "cell_type": "code",
   "execution_count": 54,
   "id": "b12743c1-0412-4b59-9841-29b04c79746f",
   "metadata": {},
   "outputs": [
    {
     "name": "stdout",
     "output_type": "stream",
     "text": [
      "codigoAvanzado.ipynb  imports\t\t      numpy.ipynb   Untitled.ipynb\n",
      "codigoBasico.ipynb    integracionScipy.ipynb  pandas.ipynb\n",
      "display.ipynb\t      intel.ipynb\t      __pycache__\n",
      "ficheros.ipynb\t      latticeNumpy.ipynb      scipy.ipynb\n"
     ]
    }
   ],
   "source": [
    "!ls"
   ]
  },
  {
   "cell_type": "code",
   "execution_count": 56,
   "id": "e47a0da7-5251-4259-9dca-e13b69d1218b",
   "metadata": {},
   "outputs": [
    {
     "name": "stdout",
     "output_type": "stream",
     "text": [
      "609 ns ± 1.02 ns per loop (mean ± std. dev. of 7 runs, 1000000 loops each)\n"
     ]
    }
   ],
   "source": [
    "%%timeit\n",
    "(gradosSin(n) for n in range(0,91,10) )\n"
   ]
  },
  {
   "cell_type": "code",
   "execution_count": 57,
   "id": "31067b4e-3ab8-4bc3-874b-61dcdb442e0d",
   "metadata": {},
   "outputs": [
    {
     "name": "stdout",
     "output_type": "stream",
     "text": [
      "26.5 µs ± 888 ns per loop (mean ± std. dev. of 7 runs, 10000 loops each)\n"
     ]
    }
   ],
   "source": [
    "%%timeit\n",
    "[gradosSin(n) for n in range(0,91,10) ]"
   ]
  },
  {
   "cell_type": "code",
   "execution_count": 58,
   "id": "65bd5cc2-4f15-45ac-9f0e-7e11328172f5",
   "metadata": {},
   "outputs": [
    {
     "name": "stdout",
     "output_type": "stream",
     "text": [
      "33 µs ± 464 ns per loop (mean ± std. dev. of 7 runs, 10000 loops each)\n"
     ]
    }
   ],
   "source": [
    "%%timeit\n",
    "np.fromiter((gradosSin(n) for n in range(0,91,10) ), dtype=float)"
   ]
  },
  {
   "cell_type": "code",
   "execution_count": 60,
   "id": "1199e71f-759e-4514-b190-cecdc6091112",
   "metadata": {},
   "outputs": [
    {
     "name": "stdout",
     "output_type": "stream",
     "text": [
      "404 µs ± 742 ns per loop (mean ± std. dev. of 7 runs, 1000 loops each)\n"
     ]
    }
   ],
   "source": [
    "%%timeit\n",
    "gradosSin(np.linspace(0,9000,9000)/100)"
   ]
  },
  {
   "cell_type": "code",
   "execution_count": 61,
   "id": "df83cffa-4a16-4b47-be45-cfe47204c655",
   "metadata": {},
   "outputs": [
    {
     "name": "stdout",
     "output_type": "stream",
     "text": [
      "22.8 ms ± 1.96 ms per loop (mean ± std. dev. of 7 runs, 10 loops each)\n"
     ]
    }
   ],
   "source": [
    "%%timeit\n",
    "[gradosSin(n/100) for n in range(0,9000,1) ]"
   ]
  },
  {
   "cell_type": "code",
   "execution_count": 62,
   "id": "db6502ed-652b-4554-965f-2d28c116e87d",
   "metadata": {},
   "outputs": [],
   "source": [
    "a=list(range(100))"
   ]
  },
  {
   "cell_type": "code",
   "execution_count": 64,
   "id": "9816a643-c326-49e4-acb6-809248a4e1f6",
   "metadata": {},
   "outputs": [
    {
     "data": {
      "text/plain": [
       "array([ 0,  1,  2,  3,  4,  5,  6,  7,  8,  9, 10, 11, 12, 13, 14, 15, 16,\n",
       "       17, 18, 19, 20, 21, 22, 23, 24, 25, 26, 27, 28, 29, 30, 31, 32, 33,\n",
       "       34, 35, 36, 37, 38, 39, 40, 41, 42, 43, 44, 45, 46, 47, 48, 49, 50,\n",
       "       51, 52, 53, 54, 55, 56, 57, 58, 59, 60, 61, 62, 63, 64, 65, 66, 67,\n",
       "       68, 69, 70, 71, 72, 73, 74, 75, 76, 77, 78, 79, 80, 81, 82, 83, 84,\n",
       "       85, 86, 87, 88, 89, 90, 91, 92, 93, 94, 95, 96, 97, 98, 99])"
      ]
     },
     "execution_count": 64,
     "metadata": {},
     "output_type": "execute_result"
    }
   ],
   "source": [
    "np.array(a)"
   ]
  },
  {
   "cell_type": "code",
   "execution_count": 65,
   "id": "58fd458f-6439-47a4-9372-bfec216daf11",
   "metadata": {},
   "outputs": [
    {
     "data": {
      "text/plain": [
       "[3, 4, 5, 6, 7, 8, 9]"
      ]
     },
     "execution_count": 65,
     "metadata": {},
     "output_type": "execute_result"
    }
   ],
   "source": [
    "a[3:10]"
   ]
  },
  {
   "cell_type": "code",
   "execution_count": 66,
   "id": "c8ea7764-40ba-4c6e-95c3-bc976c32b5ac",
   "metadata": {},
   "outputs": [
    {
     "data": {
      "text/plain": [
       "[90, 91, 92, 93, 94, 95, 96]"
      ]
     },
     "execution_count": 66,
     "metadata": {},
     "output_type": "execute_result"
    }
   ],
   "source": [
    "a[90:-3]"
   ]
  },
  {
   "cell_type": "code",
   "execution_count": 68,
   "id": "7560e9df-ad48-4399-87d0-4279ee5445e7",
   "metadata": {},
   "outputs": [
    {
     "data": {
      "text/plain": [
       "[3, 5, 7, 9]"
      ]
     },
     "execution_count": 68,
     "metadata": {},
     "output_type": "execute_result"
    }
   ],
   "source": [
    "a[3:10:2] #inicio, fin, paso"
   ]
  },
  {
   "cell_type": "code",
   "execution_count": 71,
   "id": "7bb9bdd0-9a95-4569-8866-8ecc0dadf3ba",
   "metadata": {},
   "outputs": [
    {
     "data": {
      "text/plain": [
       "array([ 0,  6, 12, 18, 24, 30, 36, 42, 48, 54, 60, 66, 72, 78, 84, 90, 96])"
      ]
     },
     "execution_count": 71,
     "metadata": {},
     "output_type": "execute_result"
    }
   ],
   "source": [
    "np.array(a[::6])"
   ]
  },
  {
   "cell_type": "code",
   "execution_count": 72,
   "id": "81fd896c-2ed7-45f2-bb82-ea1f009d9604",
   "metadata": {},
   "outputs": [
    {
     "data": {
      "text/plain": [
       "array([[0, 0, 0, 0, 0, 0, 0, 0],\n",
       "       [0, 0, 0, 0, 0, 0, 0, 0],\n",
       "       [0, 0, 0, 0, 0, 0, 0, 0],\n",
       "       [0, 0, 0, 0, 0, 0, 0, 0],\n",
       "       [0, 0, 0, 0, 0, 0, 0, 0],\n",
       "       [0, 0, 0, 0, 0, 0, 0, 0],\n",
       "       [0, 0, 0, 0, 0, 0, 0, 0],\n",
       "       [0, 0, 0, 0, 0, 0, 0, 0]])"
      ]
     },
     "execution_count": 72,
     "metadata": {},
     "output_type": "execute_result"
    }
   ],
   "source": [
    "board=np.zeros((8,8), dtype=int)\n",
    "board"
   ]
  },
  {
   "cell_type": "raw",
   "id": "82b39d03-17a3-4323-bee6-03649091f807",
   "metadata": {},
   "source": []
  },
  {
   "cell_type": "code",
   "execution_count": 73,
   "id": "7833890e-12f2-4788-94d7-45ca6e1ec6a1",
   "metadata": {},
   "outputs": [
    {
     "data": {
      "text/plain": [
       "array([[0, 1, 0, 1, 0, 1, 0, 1],\n",
       "       [0, 0, 0, 0, 0, 0, 0, 0],\n",
       "       [0, 1, 0, 1, 0, 1, 0, 1],\n",
       "       [0, 0, 0, 0, 0, 0, 0, 0],\n",
       "       [0, 1, 0, 1, 0, 1, 0, 1],\n",
       "       [0, 0, 0, 0, 0, 0, 0, 0],\n",
       "       [0, 1, 0, 1, 0, 1, 0, 1],\n",
       "       [0, 0, 0, 0, 0, 0, 0, 0]])"
      ]
     },
     "execution_count": 73,
     "metadata": {},
     "output_type": "execute_result"
    }
   ],
   "source": [
    "board[0::2,1::2]=1\n",
    "board"
   ]
  },
  {
   "cell_type": "code",
   "execution_count": 74,
   "id": "eed5dfbb-7ab0-4bbf-8895-da874161fc59",
   "metadata": {},
   "outputs": [
    {
     "data": {
      "text/plain": [
       "array([[0, 1, 0, 1, 0, 1, 0, 1],\n",
       "       [1, 0, 1, 0, 1, 0, 1, 0],\n",
       "       [0, 1, 0, 1, 0, 1, 0, 1],\n",
       "       [1, 0, 1, 0, 1, 0, 1, 0],\n",
       "       [0, 1, 0, 1, 0, 1, 0, 1],\n",
       "       [1, 0, 1, 0, 1, 0, 1, 0],\n",
       "       [0, 1, 0, 1, 0, 1, 0, 1],\n",
       "       [1, 0, 1, 0, 1, 0, 1, 0]])"
      ]
     },
     "execution_count": 74,
     "metadata": {},
     "output_type": "execute_result"
    }
   ],
   "source": [
    "board[1::2,0::2]=1\n",
    "board"
   ]
  },
  {
   "cell_type": "code",
   "execution_count": 75,
   "id": "d14769b1-5e60-4b35-b959-1422d1df270d",
   "metadata": {},
   "outputs": [
    {
     "data": {
      "text/plain": [
       "array([1, 0, 1, 0, 1, 0, 1, 0])"
      ]
     },
     "execution_count": 75,
     "metadata": {},
     "output_type": "execute_result"
    }
   ],
   "source": [
    "board[3]"
   ]
  },
  {
   "cell_type": "code",
   "execution_count": 77,
   "id": "4c0e4c21-236d-4375-8c94-3fb0e0e2ecd9",
   "metadata": {},
   "outputs": [],
   "source": [
    "board[:,3]=7"
   ]
  },
  {
   "cell_type": "code",
   "execution_count": 78,
   "id": "62209fb5-6006-42fb-a535-afc3234d8f8c",
   "metadata": {},
   "outputs": [
    {
     "data": {
      "text/plain": [
       "array([[0, 1, 0, 7, 0, 1, 0, 1],\n",
       "       [1, 0, 1, 7, 1, 0, 1, 0],\n",
       "       [0, 1, 0, 7, 0, 1, 0, 1],\n",
       "       [1, 0, 1, 7, 1, 0, 1, 0],\n",
       "       [0, 1, 0, 7, 0, 1, 0, 1],\n",
       "       [1, 0, 1, 7, 1, 0, 1, 0],\n",
       "       [0, 1, 0, 7, 0, 1, 0, 1],\n",
       "       [1, 0, 1, 7, 1, 0, 1, 0]])"
      ]
     },
     "execution_count": 78,
     "metadata": {},
     "output_type": "execute_result"
    }
   ],
   "source": [
    "board"
   ]
  },
  {
   "cell_type": "raw",
   "id": "0f80527b-2d93-4807-838e-228b30337868",
   "metadata": {},
   "source": []
  },
  {
   "cell_type": "code",
   "execution_count": 79,
   "id": "a3261775-0b1c-4fa6-87bf-92e523820a26",
   "metadata": {},
   "outputs": [],
   "source": [
    "board[:,0]=board[:,3]+board[:,7]"
   ]
  },
  {
   "cell_type": "code",
   "execution_count": 80,
   "id": "383300b2-799b-4db5-a408-74cb6b63d172",
   "metadata": {},
   "outputs": [
    {
     "data": {
      "text/plain": [
       "array([[8, 1, 0, 7, 0, 1, 0, 1],\n",
       "       [7, 0, 1, 7, 1, 0, 1, 0],\n",
       "       [8, 1, 0, 7, 0, 1, 0, 1],\n",
       "       [7, 0, 1, 7, 1, 0, 1, 0],\n",
       "       [8, 1, 0, 7, 0, 1, 0, 1],\n",
       "       [7, 0, 1, 7, 1, 0, 1, 0],\n",
       "       [8, 1, 0, 7, 0, 1, 0, 1],\n",
       "       [7, 0, 1, 7, 1, 0, 1, 0]])"
      ]
     },
     "execution_count": 80,
     "metadata": {},
     "output_type": "execute_result"
    }
   ],
   "source": [
    "board"
   ]
  },
  {
   "cell_type": "code",
   "execution_count": 81,
   "id": "91745373-219a-42b5-be56-a9a4c8b73da4",
   "metadata": {},
   "outputs": [],
   "source": [
    "gastos=board[:,3]"
   ]
  },
  {
   "cell_type": "code",
   "execution_count": 83,
   "id": "d14ca767-8923-470a-ac44-e374b7909551",
   "metadata": {},
   "outputs": [
    {
     "data": {
      "text/plain": [
       "array([7, 7, 7, 7, 7, 7, 7, 7])"
      ]
     },
     "execution_count": 83,
     "metadata": {},
     "output_type": "execute_result"
    }
   ],
   "source": [
    "gastos"
   ]
  },
  {
   "cell_type": "code",
   "execution_count": 84,
   "id": "4220ea95-7227-4a6d-a6ea-724f32312a16",
   "metadata": {},
   "outputs": [
    {
     "data": {
      "text/plain": [
       "(8,)"
      ]
     },
     "execution_count": 84,
     "metadata": {},
     "output_type": "execute_result"
    }
   ],
   "source": [
    "gastos.shape"
   ]
  },
  {
   "cell_type": "code",
   "execution_count": 85,
   "id": "5b642324-55fd-4211-b754-d78b83978d38",
   "metadata": {},
   "outputs": [
    {
     "data": {
      "text/plain": [
       "array([126, 119, 126, 119, 126, 119, 126, 119])"
      ]
     },
     "execution_count": 85,
     "metadata": {},
     "output_type": "execute_result"
    }
   ],
   "source": [
    "np.dot(board,gastos)"
   ]
  },
  {
   "cell_type": "code",
   "execution_count": 86,
   "id": "8f560b4e-4dae-4242-b400-58783f95ba0b",
   "metadata": {},
   "outputs": [
    {
     "data": {
      "text/plain": [
       "array([126, 119, 126, 119, 126, 119, 126, 119])"
      ]
     },
     "execution_count": 86,
     "metadata": {},
     "output_type": "execute_result"
    }
   ],
   "source": [
    "board @ gastos"
   ]
  },
  {
   "cell_type": "code",
   "execution_count": 87,
   "id": "353ed4ee-f19a-4176-adef-3065b0809b69",
   "metadata": {},
   "outputs": [],
   "source": [
    "#broadcasting"
   ]
  },
  {
   "cell_type": "code",
   "execution_count": 88,
   "id": "be6fc32f-cfa2-44d1-8c15-3f61dad5a216",
   "metadata": {},
   "outputs": [
    {
     "ename": "TypeError",
     "evalue": "unsupported operand type(s) for +: 'int' and 'list'",
     "output_type": "error",
     "traceback": [
      "\u001b[0;31m---------------------------------------------------------------------------\u001b[0m",
      "\u001b[0;31mTypeError\u001b[0m                                 Traceback (most recent call last)",
      "\u001b[0;32m/tmp/ipykernel_3498259/1255226122.py\u001b[0m in \u001b[0;36m<module>\u001b[0;34m\u001b[0m\n\u001b[0;32m----> 1\u001b[0;31m \u001b[0;36m4\u001b[0m\u001b[0;34m+\u001b[0m\u001b[0;34m[\u001b[0m\u001b[0;36m3\u001b[0m\u001b[0;34m,\u001b[0m\u001b[0;36m4\u001b[0m\u001b[0;34m,\u001b[0m\u001b[0;36m2\u001b[0m\u001b[0;34m]\u001b[0m\u001b[0;34m\u001b[0m\u001b[0;34m\u001b[0m\u001b[0m\n\u001b[0m",
      "\u001b[0;31mTypeError\u001b[0m: unsupported operand type(s) for +: 'int' and 'list'"
     ]
    }
   ],
   "source": [
    "4+[3,4,2]"
   ]
  },
  {
   "cell_type": "code",
   "execution_count": 90,
   "id": "ce000fe3-5cc1-46fb-beb4-7b7207911430",
   "metadata": {},
   "outputs": [
    {
     "data": {
      "text/plain": [
       "array([4.3, 4.4, 4.2])"
      ]
     },
     "execution_count": 90,
     "metadata": {},
     "output_type": "execute_result"
    }
   ],
   "source": [
    "4 + np.array([3,4,2])/10"
   ]
  },
  {
   "cell_type": "code",
   "execution_count": 92,
   "id": "5d6691b1-3ac2-4a79-8555-cd8733f16b1c",
   "metadata": {},
   "outputs": [
    {
     "data": {
      "text/plain": [
       "array([ 1,  2, -5])"
      ]
     },
     "execution_count": 92,
     "metadata": {},
     "output_type": "execute_result"
    }
   ],
   "source": [
    "np.array([3,4,5])-np.array([2,2,10])"
   ]
  },
  {
   "cell_type": "code",
   "execution_count": 95,
   "id": "b55c7733-53c2-4855-ac97-819b8c0e33b7",
   "metadata": {},
   "outputs": [
    {
     "data": {
      "text/plain": [
       "array([[1, 2],\n",
       "       [1, 2]])"
      ]
     },
     "execution_count": 95,
     "metadata": {},
     "output_type": "execute_result"
    }
   ],
   "source": [
    "np.array([1,2])+np.zeros((2,2),dtype=int)"
   ]
  },
  {
   "cell_type": "code",
   "execution_count": 97,
   "id": "f91001e4-a6ce-4319-93d7-08377ce0ffc3",
   "metadata": {},
   "outputs": [
    {
     "data": {
      "text/plain": [
       "array([[1, 1],\n",
       "       [2, 2]])"
      ]
     },
     "execution_count": 97,
     "metadata": {},
     "output_type": "execute_result"
    }
   ],
   "source": [
    "np.array([[1],[2]])+np.zeros((2,2),dtype=int)"
   ]
  },
  {
   "cell_type": "code",
   "execution_count": 98,
   "id": "3eab4105-76cd-445c-8a0e-cc4a5067150d",
   "metadata": {},
   "outputs": [
    {
     "data": {
      "text/plain": [
       "array([[1, 2],\n",
       "       [1, 2]])"
      ]
     },
     "execution_count": 98,
     "metadata": {},
     "output_type": "execute_result"
    }
   ],
   "source": [
    "np.array([[1,2]])+np.zeros((2,2),dtype=int)"
   ]
  },
  {
   "cell_type": "code",
   "execution_count": 99,
   "id": "46d41ff0-8462-4034-8bdd-15685c24d340",
   "metadata": {},
   "outputs": [
    {
     "data": {
      "text/plain": [
       "(1, 2)"
      ]
     },
     "execution_count": 99,
     "metadata": {},
     "output_type": "execute_result"
    }
   ],
   "source": [
    "np.array([[1,2]]).shape"
   ]
  },
  {
   "cell_type": "code",
   "execution_count": 100,
   "id": "7a9c3d2a-59bb-4bed-8741-e725c5d6564e",
   "metadata": {},
   "outputs": [
    {
     "data": {
      "text/plain": [
       "(2, 1)"
      ]
     },
     "execution_count": 100,
     "metadata": {},
     "output_type": "execute_result"
    }
   ],
   "source": [
    "np.array([[1],[2]]).shape"
   ]
  },
  {
   "cell_type": "code",
   "execution_count": 101,
   "id": "247554ce-4934-4993-ad16-91ff943a6b92",
   "metadata": {},
   "outputs": [
    {
     "data": {
      "text/plain": [
       "array([[1, 1],\n",
       "       [2, 2]])"
      ]
     },
     "execution_count": 101,
     "metadata": {},
     "output_type": "execute_result"
    }
   ],
   "source": [
    "np.array([[1,2]]).T+np.zeros((2,2),dtype=int)"
   ]
  },
  {
   "cell_type": "code",
   "execution_count": 102,
   "id": "2867324b-0231-4272-9159-0c60ecac6b52",
   "metadata": {},
   "outputs": [
    {
     "data": {
      "text/plain": [
       "array([[1, 2],\n",
       "       [1, 2]])"
      ]
     },
     "execution_count": 102,
     "metadata": {},
     "output_type": "execute_result"
    }
   ],
   "source": [
    "np.array([[1,2]])+np.zeros((2,2),dtype=int)"
   ]
  },
  {
   "cell_type": "code",
   "execution_count": 103,
   "id": "750042bd-9cc7-4fc0-9e4d-ccd09e0d0644",
   "metadata": {},
   "outputs": [
    {
     "data": {
      "text/plain": [
       "(1, 2)"
      ]
     },
     "execution_count": 103,
     "metadata": {},
     "output_type": "execute_result"
    }
   ],
   "source": [
    "np.array([[1,2]]).shape"
   ]
  },
  {
   "cell_type": "code",
   "execution_count": 104,
   "id": "274de53c-856e-4961-b6b7-b4e2a4cdd6b9",
   "metadata": {},
   "outputs": [
    {
     "data": {
      "text/plain": [
       "(2, 2)"
      ]
     },
     "execution_count": 104,
     "metadata": {},
     "output_type": "execute_result"
    }
   ],
   "source": [
    "np.zeros((2,2),dtype=int).shape"
   ]
  },
  {
   "cell_type": "code",
   "execution_count": null,
   "id": "1c592e26-12aa-4472-b019-1a2257c1539a",
   "metadata": {},
   "outputs": [],
   "source": []
  }
 ],
 "metadata": {
  "kernelspec": {
   "display_name": "Python 3 (ipykernel)",
   "language": "python",
   "name": "python3"
  },
  "language_info": {
   "codemirror_mode": {
    "name": "ipython",
    "version": 3
   },
   "file_extension": ".py",
   "mimetype": "text/x-python",
   "name": "python",
   "nbconvert_exporter": "python",
   "pygments_lexer": "ipython3",
   "version": "3.8.12"
  }
 },
 "nbformat": 4,
 "nbformat_minor": 5
}
