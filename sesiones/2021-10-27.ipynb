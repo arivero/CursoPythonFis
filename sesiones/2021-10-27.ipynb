{
 "cells": [
  {
   "cell_type": "code",
   "execution_count": 50,
   "metadata": {},
   "outputs": [
    {
     "name": "stdout",
     "output_type": "stream",
     "text": [
      "clave: 23 valor: 45654\n",
      "clave: (3, 'c') valor: 34.34\n"
     ]
    }
   ],
   "source": [
    "for k,v in a.items():\n",
    "    print('clave:',k, 'valor:',v)"
   ]
  },
  {
   "cell_type": "code",
   "execution_count": 52,
   "metadata": {},
   "outputs": [],
   "source": [
    "x,y,z = [1,2,3]"
   ]
  },
  {
   "cell_type": "code",
   "execution_count": 55,
   "metadata": {},
   "outputs": [
    {
     "name": "stdout",
     "output_type": "stream",
     "text": [
      "45654\n",
      "34.34\n"
     ]
    }
   ],
   "source": [
    "for item in a.items():\n",
    "    k,v= item\n",
    "    print(v)"
   ]
  },
  {
   "cell_type": "code",
   "execution_count": 65,
   "metadata": {},
   "outputs": [],
   "source": [
    "s= { i % 10 for i in range(100) }"
   ]
  },
  {
   "cell_type": "code",
   "execution_count": 88,
   "metadata": {},
   "outputs": [
    {
     "data": {
      "text/plain": [
       "[0, 1, 3, 6, 10, 15, 21, 28, 36, 45]"
      ]
     },
     "execution_count": 88,
     "metadata": {},
     "output_type": "execute_result"
    }
   ],
   "source": [
    "#lo que no esta previsto es que se usen reduces\n",
    "b=0\n",
    "def suma(x):\n",
    "    global b\n",
    "    b+=x\n",
    "    return b\n",
    "[ suma(x) for x in a]"
   ]
  },
  {
   "cell_type": "code",
   "execution_count": 92,
   "metadata": {},
   "outputs": [
    {
     "data": {
      "text/plain": [
       "45"
      ]
     },
     "execution_count": 92,
     "metadata": {},
     "output_type": "execute_result"
    }
   ],
   "source": [
    "from functools import reduce\n",
    "reduce(lambda u,v : u+v, a)"
   ]
  },
  {
   "cell_type": "code",
   "execution_count": 95,
   "metadata": {},
   "outputs": [
    {
     "data": {
      "text/plain": [
       "(0, 1, 3, 6, 10, 15, 21, 28, 36, 45)"
      ]
     },
     "execution_count": 95,
     "metadata": {},
     "output_type": "execute_result"
    }
   ],
   "source": [
    "from itertools import accumulate\n",
    "tuple(accumulate(a, lambda u,v: u+v))"
   ]
  },
  {
   "cell_type": "code",
   "execution_count": 112,
   "metadata": {},
   "outputs": [],
   "source": [
    "d={ s:i for i,s in accumulate(a, lambda u,v: (v,u[1]+v), initial=(0,0 )) }"
   ]
  },
  {
   "cell_type": "code",
   "execution_count": 3,
   "metadata": {},
   "outputs": [],
   "source": [
    "#name=Path ( \"%s%s%03d.DAT\" % (dirname, \"OUT\", i))\n",
    "from pathlib import Path\n",
    "name=Path(\"/tmp\") / \"datos.txt\"\n",
    "with name.open (\"wt\") as Foutput:\n",
    "    for idat in range(0, 5):\n",
    "        print(idat, idat**2, file=Foutput)\n"
   ]
  },
  {
   "cell_type": "code",
   "execution_count": 7,
   "metadata": {},
   "outputs": [
    {
     "name": "stdout",
     "output_type": "stream",
     "text": [
      "0 0\n",
      "1 1\n",
      "2 4\n",
      "3 9\n",
      "4 16\n"
     ]
    }
   ],
   "source": [
    "!cat /tmp/datos.txt"
   ]
  },
  {
   "cell_type": "code",
   "execution_count": 6,
   "metadata": {},
   "outputs": [
    {
     "name": "stdout",
     "output_type": "stream",
     "text": [
      "['0', ' ', '0', '\\n']\n",
      "['1', ' ', '1', '\\n']\n",
      "['2', ' ', '4', '\\n']\n",
      "['3', ' ', '9', '\\n']\n",
      "['4', ' ', '1', '6', '\\n']\n"
     ]
    }
   ],
   "source": [
    "with name.open(\"rt\") as F:\n",
    "    while True:\n",
    "        try:\n",
    "            linea=next(F)\n",
    "        except StopIteration:\n",
    "            break\n",
    "        print(list(linea))"
   ]
  },
  {
   "cell_type": "code",
   "execution_count": 8,
   "metadata": {},
   "outputs": [
    {
     "name": "stdout",
     "output_type": "stream",
     "text": [
      "['0', ' ', '0', '\\n']\n",
      "['1', ' ', '1', '\\n']\n",
      "['2', ' ', '4', '\\n']\n",
      "['3', ' ', '9', '\\n']\n",
      "['4', ' ', '1', '6', '\\n']\n"
     ]
    }
   ],
   "source": [
    "with name.open(\"rt\") as F:\n",
    "    while True:\n",
    "        linea=F.readline()\n",
    "        if len(linea) == 0 : break\n",
    "        print(list(linea))"
   ]
  },
  {
   "cell_type": "code",
   "execution_count": 9,
   "metadata": {},
   "outputs": [
    {
     "name": "stdout",
     "output_type": "stream",
     "text": [
      "['0', ' ', '0', '\\n']\n",
      "['1', ' ', '1', '\\n']\n",
      "['2', ' ', '4', '\\n']\n",
      "['3', ' ', '9', '\\n']\n",
      "['4', ' ', '1', '6', '\\n']\n"
     ]
    }
   ],
   "source": [
    "with name.open(\"rt\") as F:\n",
    "    for linea in F:\n",
    "        print(list(linea))"
   ]
  },
  {
   "cell_type": "code",
   "execution_count": 23,
   "metadata": {},
   "outputs": [],
   "source": [
    "import numpy as np\n",
    "import timeit\n",
    "a = np.random.rand(10000)\n",
    "import math\n",
    "def f(x):\n",
    "    return math.sqrt(x)\n",
    "g= lambda x: math.sqrt(x)\n",
    "h= np.frompyfunc(math.sqrt,1,1) #puede ser cualquiera, no solo de la libreria\n",
    "v= np.vectorize(math.sqrt)"
   ]
  },
  {
   "cell_type": "code",
   "execution_count": 35,
   "metadata": {},
   "outputs": [
    {
     "name": "stdout",
     "output_type": "stream",
     "text": [
      "1.13 ms ± 4.49 µs per loop (mean ± std. dev. of 7 runs, 1000 loops each)\n"
     ]
    }
   ],
   "source": [
    "%%timeit\n",
    "h(a)  #pero son pyobject, no permite especificar tipi"
   ]
  },
  {
   "cell_type": "code",
   "execution_count": 32,
   "metadata": {},
   "outputs": [
    {
     "name": "stdout",
     "output_type": "stream",
     "text": [
      "1.43 ms ± 8.32 µs per loop (mean ± std. dev. of 7 runs, 1000 loops each)\n"
     ]
    }
   ],
   "source": [
    "%%timeit\n",
    "v(a)"
   ]
  },
  {
   "cell_type": "code",
   "execution_count": 33,
   "metadata": {},
   "outputs": [
    {
     "name": "stdout",
     "output_type": "stream",
     "text": [
      "1.59 ms ± 1.96 µs per loop (mean ± std. dev. of 7 runs, 1000 loops each)\n"
     ]
    }
   ],
   "source": [
    "%%timeit\n",
    "np.fromiter(map(math.sqrt,a),dtype=float)"
   ]
  },
  {
   "cell_type": "code",
   "execution_count": 34,
   "metadata": {},
   "outputs": [
    {
     "name": "stdout",
     "output_type": "stream",
     "text": [
      "45.3 µs ± 169 ns per loop (mean ± std. dev. of 7 runs, 10000 loops each)\n"
     ]
    }
   ],
   "source": [
    "%%timeit\n",
    "np.sqrt(a)"
   ]
  },
  {
   "cell_type": "code",
   "execution_count": 36,
   "metadata": {},
   "outputs": [
    {
     "data": {
      "text/plain": [
       "[0.7245211256372979, 0.7912316713313092, 0.3426222597312184]"
      ]
     },
     "execution_count": 36,
     "metadata": {},
     "output_type": "execute_result"
    }
   ],
   "source": [
    "b=list(a)\n",
    "b[:3]"
   ]
  },
  {
   "cell_type": "code",
   "execution_count": 37,
   "metadata": {},
   "outputs": [
    {
     "name": "stdout",
     "output_type": "stream",
     "text": [
      "237 ns ± 10.4 ns per loop (mean ± std. dev. of 7 runs, 1000000 loops each)\n"
     ]
    }
   ],
   "source": [
    "%%timeit\n",
    "map(math.sqrt,b)"
   ]
  },
  {
   "cell_type": "code",
   "execution_count": 39,
   "metadata": {},
   "outputs": [
    {
     "name": "stdout",
     "output_type": "stream",
     "text": [
      "1.62 ms ± 13.3 µs per loop (mean ± std. dev. of 7 runs, 100 loops each)\n"
     ]
    }
   ],
   "source": [
    "%%timeit\n",
    "a[:]=np.fromiter(map(math.sqrt,a),dtype=float)"
   ]
  },
  {
   "cell_type": "code",
   "execution_count": 1,
   "metadata": {},
   "outputs": [],
   "source": [
    "import scipy as sp\n",
    "import numpy as np\n",
    "from scipy import integrate"
   ]
  },
  {
   "cell_type": "code",
   "execution_count": 3,
   "metadata": {},
   "outputs": [],
   "source": [
    "k=0.04\n",
    "a=0.01\n",
    "def dSIR(t,sir):\n",
    "    #aqui podriamos simular medidas a base de poner k dependiendo de t\n",
    "    global k\n",
    "    global a\n",
    "    s,i,r = sir\n",
    "    ds = - k * s * i\n",
    "    dr = a * i\n",
    "    di = - ds - dr\n",
    "    return ds, di, dr"
   ]
  },
  {
   "cell_type": "code",
   "execution_count": 4,
   "metadata": {},
   "outputs": [],
   "source": [
    "k=0.3\n",
    "a=0.1\n",
    "result=integrate.solve_ivp(dSIR,(0,365),(1.0,0.000001,0.0),\n",
    "method='RK45',\n",
    "t_eval=np.linspace(0,365,200))"
   ]
  },
  {
   "cell_type": "code",
   "execution_count": 6,
   "metadata": {},
   "outputs": [
    {
     "data": {
      "text/plain": [
       "<matplotlib.legend.Legend at 0x7f53a74ceb20>"
      ]
     },
     "execution_count": 6,
     "metadata": {},
     "output_type": "execute_result"
    },
    {
     "data": {
      "image/png": "[encoded data removed]",
      "text/plain": [
       "<Figure size 432x288 with 1 Axes>"
      ]
     },
     "metadata": {
      "needs_background": "light"
     },
     "output_type": "display_data"
    }
   ],
   "source": [
    "import matplotlib.pyplot as plt\n",
    "plt.plot(result.t, result.y.T) #mirad el error si no se traspone\n",
    "plt.legend(['sanos','infectados','recuperados'])"
   ]
  },
  {
   "cell_type": "code",
   "execution_count": 7,
   "metadata": {},
   "outputs": [],
   "source": [
    "#ver https://github.com/arivero/CursoPythonFis/blob/main/ejemplos/integracionScipy.ipynb para el ejemplo completo"
   ]
  },
  {
   "cell_type": "code",
   "execution_count": 14,
   "metadata": {},
   "outputs": [],
   "source": [
    "from pathlib import Path\n",
    "name=Path(\"datos.txt\") "
   ]
  },
  {
   "cell_type": "code",
   "execution_count": 15,
   "metadata": {},
   "outputs": [
    {
     "data": {
      "text/plain": [
       "PosixPath('datos.txt')"
      ]
     },
     "execution_count": 15,
     "metadata": {},
     "output_type": "execute_result"
    }
   ],
   "source": [
    "name"
   ]
  },
  {
   "cell_type": "code",
   "execution_count": 16,
   "metadata": {},
   "outputs": [],
   "source": [
    "with name.open (\"wt\") as Foutput:\n",
    "    for idat in range(0, 5):\n",
    "        print(idat, idat**2, file=Foutput)"
   ]
  },
  {
   "cell_type": "code",
   "execution_count": 17,
   "metadata": {},
   "outputs": [
    {
     "name": "stdout",
     "output_type": "stream",
     "text": [
      "2021-10-19.ipynb  2021-10-20.ipynb  datos.txt  Miercoles.ipynb\n"
     ]
    }
   ],
   "source": [
    "!ls"
   ]
  },
  {
   "cell_type": "code",
   "execution_count": 18,
   "metadata": {},
   "outputs": [
    {
     "name": "stdout",
     "output_type": "stream",
     "text": [
      "0 0\n",
      "1 1\n",
      "2 4\n",
      "3 9\n",
      "4 16\n"
     ]
    }
   ],
   "source": [
    "!cat datos.txt"
   ]
  },
  {
   "cell_type": "code",
   "execution_count": 26,
   "metadata": {},
   "outputs": [
    {
     "name": "stdout",
     "output_type": "stream",
     "text": [
      "0 0\n",
      " ['0', '0']\n",
      "[0, 0.0]\n",
      "1 1\n",
      " ['1', '1']\n",
      "[1, 1.0]\n",
      "2 4\n",
      " ['2', '4']\n",
      "[2, 4.0]\n",
      "3 9\n",
      " ['3', '9']\n",
      "[3, 9.0]\n",
      "4 16\n",
      " ['4', '16']\n",
      "[4, 16.0]\n"
     ]
    }
   ],
   "source": [
    "with name.open(\"rt\") as F:\n",
    "    for linea in F:\n",
    "        print(linea,linea.split())\n",
    "        linv=linea.split()\n",
    "        u = int(linv[0])\n",
    "        v = float(linv[1])\n",
    "        print([u,v])"
   ]
  },
  {
   "cell_type": "code",
   "execution_count": 27,
   "metadata": {},
   "outputs": [
    {
     "data": {
      "text/plain": [
       "array([[ 0.,  0.],\n",
       "       [ 1.,  1.],\n",
       "       [ 2.,  4.],\n",
       "       [ 3.,  9.],\n",
       "       [ 4., 16.]])"
      ]
     },
     "execution_count": 27,
     "metadata": {},
     "output_type": "execute_result"
    }
   ],
   "source": [
    "np.loadtxt(name)"
   ]
  },
  {
   "cell_type": "code",
   "execution_count": 29,
   "metadata": {},
   "outputs": [
    {
     "data": {
      "text/plain": [
       "((5, 2), dtype('int64'))"
      ]
     },
     "execution_count": 29,
     "metadata": {},
     "output_type": "execute_result"
    }
   ],
   "source": [
    "x=np.loadtxt(name,dtype=int)\n",
    "x.shape,x.dtype"
   ]
  },
  {
   "cell_type": "code",
   "execution_count": 40,
   "metadata": {},
   "outputs": [
    {
     "name": "stdout",
     "output_type": "stream",
     "text": [
      "0 0\n",
      "\n",
      "0 0.0\n",
      "1 0.0\n",
      "====\n",
      "1 1\n",
      "\n",
      "0 1.0\n",
      "1 1.0\n",
      "====\n",
      "2 4\n",
      "\n",
      "0 2.0\n",
      "1 4.0\n",
      "====\n",
      "3 9\n",
      "\n",
      "0 3.0\n",
      "1 9.0\n",
      "====\n",
      "4 16\n",
      "\n",
      "0 4.0\n",
      "1 16.0\n",
      "====\n"
     ]
    }
   ],
   "source": [
    "with name.open(\"rt\") as F:\n",
    "    for linea in F:\n",
    "        print(linea) #se puede poner otro separador si se quiere\n",
    "        for i,k in enumerate(linea.split()):\n",
    "            f=float(k)\n",
    "            print (i,f)\n",
    "        print(\"====\")\n",
    "        "
   ]
  },
  {
   "cell_type": "code",
   "execution_count": 42,
   "metadata": {},
   "outputs": [
    {
     "name": "stdout",
     "output_type": "stream",
     "text": [
      "0 0\n",
      "\n",
      "[0.0, 0.0]\n",
      "====\n",
      "1 1\n",
      "\n",
      "[1.0, 1.0]\n",
      "====\n",
      "2 4\n",
      "\n",
      "[2.0, 4.0]\n",
      "====\n",
      "3 9\n",
      "\n",
      "[3.0, 9.0]\n",
      "====\n",
      "4 16\n",
      "\n",
      "[4.0, 16.0]\n",
      "====\n"
     ]
    }
   ],
   "source": [
    "with name.open(\"rt\") as F:\n",
    "    for linea in F:\n",
    "        print(linea) #se puede poner otro separador si se quiere\n",
    "        print( [float (x) for x in linea.split()])\n",
    "        # print( [t (x) for t,x in zip([int,float],linea.split()])\n",
    "        print(\"====\")\n",
    "        "
   ]
  },
  {
   "cell_type": "code",
   "execution_count": 1,
   "metadata": {},
   "outputs": [
    {
     "name": "stdout",
     "output_type": "stream",
     "text": [
      "#     t        T           V             E_t \n",
      "\n",
      " 0.100000 154.110465 -13042046.757376 -13041892.646911 9.996118 12.987686 17.993525 109.997136 80.987607 24.269551\n",
      " 0.200000 619.731258 -13042512.378169 -13041892.646911 9.997673 12.977146 17.987302 110.001545 80.976430 24.263586\n",
      " 0.300000 1407.154076 -13043299.800986 -13041892.646910 10.004665 12.968378 17.981329 110.013226 80.966467 24.257978\n",
      " 0.400000 2519.413902 -13044412.060812 -13041892.646910 10.017093 12.961382 17.975607 110.032180 80.957720 24.252727\n",
      " 0.500000 3960.858870 -13045853.505780 -13041892.646910 10.034957 12.956159 17.970136 110.058406 80.950187 24.247832\n",
      " 0.600000 5737.254385 -13047629.901294 -13041892.646909 10.058258 12.952709 17.964915 110.091905 80.943870 24.243294\n",
      " 0.700000 7855.926317 -13049748.573226 -13041892.646909 10.086994 12.951030 17.959946 110.132675 80.938767 24.239112\n",
      " 0.800000 10325.951385 -13052218.598293 -13041892.646908 10.121166 12.951123 17.955227 110.180718 80.934879 24.235287\n",
      " 0.900000 13158.406103 -13055051.053011 -13041892.646907 10.160774 12.952987 17.950759 110.236032 80.932207 24.231819\n",
      " 1.000000 16366.690146 -13058259.337052 -13041892.646906 10.205816 12.956623 17.946542 110.298618 80.930749 24.228708\n",
      " 1.100000 19966.946123 -13061859.593028 -13041892.646905 10.256293 12.962028 17.942576 110.368475 80.930506 24.225953\n",
      " 1.200000 23978.606656 -13065871.253559 -13041892.646904 10.312205 12.969204 17.938860 110.445603 80.931478 24.223555\n",
      " 1.300000 28425.112436 -13070317.759338 -13041892.646902 10.373550 12.978149 17.935395 110.530003 80.933665 24.221513\n",
      " 1.400000 33334.863996 -13075227.510895 -13041892.646900 10.440329 12.988863 17.932181 110.621673 80.937066 24.219828\n",
      " 1.500000 38742.498644 -13080635.145541 -13041892.646897 10.512540 13.001344 17.929217 110.720614 80.941683 24.218500\n",
      " 1.600000 44690.628456 -13086583.275349 -13041892.646893 10.590184 13.015594 17.926504 110.826824 80.947514 24.217528\n",
      " 1.700000 51232.245387 -13093124.892276 -13041892.646889 10.673260 13.031609 17.924042 110.940305 80.954560 24.216913\n",
      " 1.800000 58434.113609 -13100326.760492 -13041892.646883 10.761767 13.049391 17.921830 111.061055 80.962820 24.216654\n",
      " 1.900000 66381.659597 -13108274.306473 -13041892.646876 10.855704 13.068938 17.919868 111.189074 80.972295 24.216751\n",
      " 2.000000 75186.199607 -13117078.846473 -13041892.646866 10.955072 13.090249 17.918157 111.324362 80.982985 24.217205\n",
      " 2.100000 84995.934352 -13126888.581204 -13041892.646853 11.059868 13.113323 17.916696 111.466918 80.994889 24.218015\n",
      " 2.200000 96013.246639 -13137905.893473 -13041892.646833 11.170093 13.138159 17.915485 111.616742 81.008008 24.219181\n",
      " 2.300000 108523.018207 -13150415.665013 -13041892.646806 11.285745 13.164756 17.914525 111.773834 81.022341 24.220704\n",
      " 2.400000 122941.249151 -13164833.895914 -13041892.646763 11.406824 13.193113 17.913815 111.938193 81.037888 24.222583\n",
      " 2.500000 139903.554761 -13181796.201454 -13041892.646694 11.533328 13.223230 17.913354 112.109818 81.054649 24.224818\n",
      " 2.600000 160438.495407 -13202331.141980 -13041892.646573 11.665258 13.255104 17.913144 112.288710 81.072625 24.227409\n",
      " 2.700000 186340.912337 -13228233.558678 -13041892.646342 11.802612 13.288734 17.913184 112.474867 81.091815 24.230356\n",
      " 2.800000 221086.692994 -13262979.338823 -13041892.645829 11.945388 13.324120 17.913474 112.668289 81.112219 24.233659\n",
      " 2.900000 272534.492085 -13314427.136499 -13041892.644414 12.093587 13.361259 17.914013 112.868976 81.133836 24.237318\n",
      " 3.000000 363726.896731 -13405619.535265 -13041892.638533 12.247207 13.400151 17.914802 113.076927 81.156668 24.241332\n",
      " 3.100000 614064.595784 -13655957.163945 -13041892.568161 12.406246 13.440794 17.915841 113.292142 81.180713 24.245703\n",
      " 3.200000 1378658.942176 -14420549.304285 -13041890.362109 12.570704 13.483187 17.917129 113.514619 81.205972 24.250429\n",
      " 3.300000 488981.724096 -13530874.347951 -13041892.623855 12.740580 13.527328 17.918667 113.744359 81.232445 24.255511\n",
      " 3.400000 368304.404204 -13410197.046405 -13041892.642201 12.915872 13.573215 17.920454 113.981360 81.260130 24.260949\n",
      " 3.500000 326169.425574 -13368062.070616 -13041892.645042 13.096579 13.620848 17.922490 114.225623 81.289030 24.266742\n",
      " 3.600000 312221.684324 -13354114.330155 -13041892.645831 13.282700 13.670223 17.924776 114.477145 81.319142 24.272890\n",
      " 3.700000 313853.551030 -13355746.197084 -13041892.646054 13.474233 13.721340 17.927310 114.735927 81.350468 24.279394\n",
      " 3.800000 327498.705184 -13369391.351169 -13041892.645984 13.671178 13.774197 17.930094 115.001969 81.383006 24.286253\n",
      " 3.900000 353989.353032 -13395881.998592 -13041892.645560 13.873532 13.828792 17.933126 115.275268 81.416758 24.293467\n",
      " 4.000000 399505.743808 -13441398.388032 -13041892.644224 14.081295 13.885124 17.936407 115.555825 81.451722 24.301036\n",
      " 4.100000 485048.197481 -13526940.836171 -13041892.638691 14.294465 13.943189 17.939937 115.843639 81.487899 24.308960\n",
      " 4.200000 718777.612688 -13760670.190431 -13041892.577742 14.513040 14.002987 17.943715 116.138708 81.525288 24.317240\n",
      " 4.300000 1688469.782539 -14730358.547256 -13041888.764717 14.737019 14.064515 17.947741 116.441033 81.563890 24.325874\n",
      " 4.400000 630979.110896 -13672871.732147 -13041892.621251 14.966400 14.127772 17.952016 116.750612 81.603704 24.334862\n",
      " 4.500000 513912.481125 -13555805.122750 -13041892.641625 15.201182 14.192755 17.956538 117.067445 81.644730 24.344206\n",
      " 4.600000 481904.461802 -13523797.106422 -13041892.644620 15.441363 14.259462 17.961309 117.391530 81.686968 24.353903\n",
      " 4.700000 482521.589440 -13524414.234777 -13041892.645337 15.686941 14.327892 17.966327 117.722868 81.730417 24.363955\n",
      " 4.800000 504611.663262 -13546504.308582 -13041892.645320 15.937915 14.398041 17.971594 118.061456 81.775078 24.374362\n",
      " 4.900000 548390.041206 -13590282.685874 -13041892.644668 16.194283 14.469908 17.977107 118.407294 81.820951 24.385123\n",
      " 5.000000 623636.882137 -13665529.524736 -13041892.642600 16.456043 14.543490 17.982868 118.760382 81.868035 24.396237\n",
      " 5.100000 763016.557341 -13804909.191835 -13041892.634494 16.723193 14.618785 17.988877 119.120718 81.916330 24.407706\n",
      " 5.200000 1121833.038141 -14163725.591383 -13041892.553242 16.995731 14.695790 17.995132 119.488301 81.965836 24.419529\n",
      " 5.300000 2435191.261633 -15477080.929710 -13041889.668077 17.273656 14.774504 18.001635 119.863130 82.016553 24.431705\n",
      " 5.400000 1281127.149421 -14323019.627471 -13041892.478049 17.556965 14.854924 18.008384 120.245205 82.068480 24.444235\n",
      " 5.500000 857231.933786 -13899124.565067 -13041892.631280 17.845656 14.937047 18.015380 120.634524 82.121618 24.457118\n",
      " 5.600000 730190.056980 -13772082.699045 -13041892.642064 18.139728 15.020870 18.022622 121.031087 82.175966 24.470355\n",
      " 5.700000 677594.934959 -13719487.579592 -13041892.644632 18.439178 15.106392 18.030111 121.434892 82.231524 24.483945\n",
      " 5.800000 658615.369594 -13700508.015129 -13041892.645535 18.744004 15.193609 18.037846 121.845938 82.288291 24.497888\n",
      " 5.900000 659946.910660 -13701839.556554 -13041892.645893 19.054205 15.282518 18.045826 122.264224 82.346268 24.512185\n",
      " 6.000000 676615.164807 -13718507.810810 -13041892.646003 19.369777 15.373118 18.054053 122.689750 82.405455 24.526833\n",
      " 6.100000 707407.834122 -13749300.480063 -13041892.645941 19.690719 15.465405 18.062525 123.122513 82.465851 24.541835\n",
      " 6.200000 753779.137243 -13795671.782921 -13041892.645678 20.017028 15.559376 18.071243 123.562514 82.527456 24.557189\n",
      " 6.300000 820483.511497 -13862376.156514 -13041892.645016 20.348703 15.655030 18.080205 124.009750 82.590269 24.572896\n",
      " 6.400000 919151.615955 -13961044.259084 -13041892.643130 20.685740 15.752361 18.089413 124.464221 82.654291 24.588955\n",
      " 6.500000 1084114.170533 -14126006.805946 -13041892.635413 21.028137 15.851369 18.098866 124.925925 82.719521 24.605366\n",
      " 6.600000 1476567.164410 -14518459.760739 -13041892.596329 21.375893 15.952050 18.108563 125.394862 82.785959 24.622129\n",
      " 6.700000 1891492.297264 -14933385.123018 -13041892.825754 21.729003 16.054400 18.118505 125.871030 82.853605 24.639245\n",
      " 6.800000 1334241.995128 -14376134.621266 -13041892.626139 22.087467 16.158417 18.128691 126.354427 82.922458 24.656711\n",
      " 6.900000 1200057.837722 -14241950.479493 -13041892.641770 22.451281 16.264098 18.139121 126.845054 82.992519 24.674529\n",
      " 7.000000 1163318.671107 -14205211.315219 -13041892.644112 22.820443 16.371439 18.149795 127.342907 83.063787 24.692699\n",
      " 7.100000 1173292.019264 -14215184.663616 -13041892.644352 23.194950 16.480438 18.160713 127.847987 83.136261 24.711220\n",
      " 7.200000 1224016.078098 -14265908.722035 -13041892.643937 23.574799 16.591091 18.171874 128.360292 83.209942 24.730092\n",
      " 7.300000 1324072.834538 -14365965.477316 -13041892.642778 23.959988 16.703395 18.183279 128.879821 83.284829 24.749315\n",
      " 7.400000 1499131.261488 -14541023.901696 -13041892.640209 24.350515 16.817346 18.194926 129.406572 83.360922 24.768888\n",
      " 7.500000 1812791.525152 -14854684.169846 -13041892.644694 24.746375 16.932942 18.206816 129.940543 83.438221 24.788813\n",
      " 7.600000 2168561.820857 -15210454.618826 -13041892.797969 25.147567 17.050179 18.218949 130.481735 83.516725 24.809087\n",
      " 7.700000 1904073.024966 -14945965.668461 -13041892.643495 25.554088 17.169054 18.231323 131.030144 83.596434 24.829712\n",
      " 7.800000 1705179.559428 -14747072.200222 -13041892.640794 25.965934 17.289562 18.243940 131.585771 83.677347 24.850687\n",
      " 7.900000 1631077.414576 -14672970.056489 -13041892.641913 26.383103 17.411702 18.256799 132.148613 83.759465 24.872012\n",
      " 8.000000 1647762.032311 -14689654.674252 -13041892.641941 26.805591 17.535468 18.269900 132.718670 83.842788 24.893686\n",
      " 8.100000 1750824.118003 -14792716.758115 -13041892.640113 27.233397 17.660858 18.283242 133.295939 83.927314 24.915710\n",
      " 8.200000 1969041.501881 -15010934.136666 -13041892.634785 27.666516 17.787868 18.296825 133.880419 84.013043 24.938084\n",
      " 8.300000 2394947.489592 -15436840.108671 -13041892.619079 28.104945 17.916495 18.310648 134.472109 84.099975 24.960806\n",
      " 8.400000 3800538.902390 -16842430.165682 -13041891.263291 28.548682 18.046734 18.324713 135.071008 84.188111 24.983878\n",
      " 8.500000 2754783.319593 -15796675.878232 -13041892.558639 28.997723 18.178583 18.339017 135.677114 84.277449 25.007298\n",
      " 8.600000 2398459.853518 -15440352.479169 -13041892.625651 29.452064 18.312037 18.353562 136.290425 84.367988 25.031067\n",
      " 8.700000 2421088.379408 -15462981.005326 -13041892.625918 29.911704 18.447092 18.368347 136.910940 84.459730 25.055184\n",
      " 8.800000 2710957.608247 -15752850.319914 -13041892.711667 30.376638 18.583745 18.383371 137.538657 84.552673 25.079650\n",
      " 8.900000 2856388.690393 -15898281.267087 -13041892.576695 30.846862 18.721993 18.398635 138.173575 84.646817 25.104463\n",
      " 9.000000 3354416.328829 -16396309.210189 -13041892.881359 31.322375 18.861830 18.414137 138.815693 84.742161 25.129624\n",
      " 9.100000 7111789.168989 -20153767.394719 -13041978.225730 31.803171 19.003254 18.429879 139.465009 84.838706 25.155133\n",
      " 9.200000 3121127.512572 -16163020.178024 -13041892.665452 32.289248 19.146260 18.445858 140.121520 84.936451 25.180990\n",
      " 9.300000 2884666.267327 -15926558.852692 -13041892.585365 32.780602 19.290844 18.462076 140.785227 85.035395 25.207193\n",
      " 9.400000 3145069.936615 -16186962.367424 -13041892.430809 33.277230 19.437003 18.478532 141.456126 85.135538 25.233744\n",
      " 9.500000 3112066.983143 -16153959.456192 -13041892.473050 33.779128 19.584732 18.495226 142.134217 85.236880 25.260641\n",
      " 9.600000 2790925.273226 -15832817.922853 -13041892.649627 34.286292 19.734027 18.512157 142.819497 85.339420 25.287885\n",
      " 9.700000 2758256.134724 -15800148.779464 -13041892.644739 34.798719 19.884885 18.529325 143.511966 85.443158 25.315475\n",
      " 9.800000 2868646.405677 -15910539.045838 -13041892.640161 35.316404 20.037301 18.546729 144.211621 85.548093 25.343412\n",
      " 9.900000 3123774.774012 -16165667.424980 -13041892.650967 35.839345 20.191270 18.564370 144.918461 85.654225 25.371694\n",
      " 10.000000 3807347.279497 -16849239.462101 -13041892.182604 36.367537 20.346790 18.582248 145.632484 85.761554 25.400322\n",
      " 10.100000 3667826.096627 -16709718.585256 -13041892.488628 36.900977 20.503855 18.600361 146.353689 85.870079 25.429296\n",
      " 10.200000 3498876.709332 -16540769.316779 -13041892.607446 37.439660 20.662461 18.618709 147.082073 85.979799 25.458614\n",
      " 10.300000 3954087.934001 -16995980.771184 -13041892.837183 37.983583 20.822605 18.637293 147.817636 86.090715 25.488278\n",
      " 10.400000 3661965.431975 -16703858.086789 -13041892.654815 38.532741 20.984281 18.656112 148.560374 86.202825 25.518287\n",
      " 10.500000 3323372.692012 -16365265.301768 -13041892.609756 39.087131 21.147486 18.675165 149.310287 86.316129 25.548640\n",
      " 10.600000 3654073.550757 -16695965.967365 -13041892.416608 39.646749 21.312215 18.694453 150.067373 86.430627 25.579338\n",
      " 10.700000 3717347.505878 -16759239.889025 -13041892.383147 40.211590 21.478464 18.713974 150.831630 86.546318 25.610379\n",
      " 10.800000 6114228.135484 -19156100.159717 -13041872.024233 40.781650 21.646228 18.733729 151.603056 86.663202 25.641765\n",
      " 10.900000 4046770.774386 -17088663.746281 -13041892.971895 41.356926 21.815503 18.753717 152.381649 86.781278 25.673494\n",
      " 11.000000 3216494.637023 -16258387.198809 -13041892.561786 41.937413 21.986284 18.773938 153.167408 86.900546 25.705567\n",
      " 11.100000 2921049.828468 -15962942.457358 -13041892.628890 42.523106 22.158568 18.794392 153.960330 87.021004 25.737982\n",
      " 11.200000 2964415.294342 -16006307.909879 -13041892.615537 43.114001 22.332349 18.815078 154.760415 87.142654 25.770741\n",
      " 11.300000 3662412.941505 -16704305.782145 -13041892.840641 43.710095 22.507623 18.835996 155.567659 87.265493 25.803842\n",
      " 11.400000 3177092.274728 -16218984.845580 -13041892.570852 44.311382 22.684385 18.857146 156.382062 87.389522 25.837286\n",
      " 11.500000 3029979.828219 -16071872.461070 -13041892.632851 44.917858 22.862632 18.878526 157.203621 87.514740 25.871072\n",
      " 11.600000 3169972.750271 -16211865.389269 -13041892.638998 45.529519 23.042357 18.900138 158.032334 87.641146 25.905200\n",
      " 11.700000 3511845.291402 -16553737.960165 -13041892.668763 46.146360 23.223557 18.921980 158.868200 87.768741 25.939669\n",
      " 11.800000 4637971.500376 -17679862.002852 -13041890.502477 46.768377 23.406228 18.944052 159.711216 87.897522 25.974480\n",
      " 11.900000 7708104.635695 -20749962.373604 -13041857.737909 47.395565 23.590363 18.966354 160.561381 88.027490 26.009632\n",
      " 12.000000 3312762.175374 -16354654.708863 -13041892.533490 48.027919 23.775959 18.988886 161.418693 88.158644 26.045125\n",
      " 12.100000 2757315.412254 -15799208.042753 -13041892.630499 48.665435 23.963011 19.011646 162.283149 88.290983 26.080958\n",
      " 12.200000 2522895.367219 -15564788.008831 -13041892.641612 49.308108 24.151514 19.034635 163.154748 88.424507 26.117132\n",
      " 12.300000 2391090.520179 -15432983.164782 -13041892.644603 49.955933 24.341464 19.057852 164.033488 88.559216 26.153646\n",
      " 12.400000 2310913.850832 -15352806.496518 -13041892.645686 50.608906 24.532855 19.081298 164.919366 88.695108 26.190500\n",
      " 12.500000 2264162.086196 -15306054.732309 -13041892.646112 51.267021 24.725683 19.104970 165.812382 88.832183 26.227693\n",
      " 12.600000 2243616.540753 -15285509.186965 -13041892.646211 51.930274 24.919943 19.128870 166.712532 88.970440 26.265226\n",
      " 12.700000 2247653.151516 -15289545.797503 -13041892.645987 52.598659 25.115631 19.152997 167.619815 89.109878 26.303097\n",
      " 12.800000 2280258.957679 -15322151.602734 -13041892.645054 53.272173 25.312740 19.177350 168.534228 89.250498 26.341308\n",
      " 12.900000 2358156.857741 -15400049.498877 -13041892.641136 53.950809 25.511267 19.201929 169.455771 89.392298 26.379857\n",
      " 13.000000 2561394.911901 -15603287.516867 -13041892.604966 54.634562 25.711207 19.226733 170.384439 89.535277 26.418744\n",
      " 13.100000 6511005.800622 -19552816.653947 -13041810.853325 55.323429 25.912554 19.251763 171.320233 89.679435 26.457968\n",
      " 13.200000 2633012.300488 -15674904.913396 -13041892.612907 56.017403 26.115304 19.277017 172.263148 89.824771 26.497531\n",
      " 13.300000 2541584.212888 -15583476.854958 -13041892.642071 56.716479 26.319452 19.302496 173.213184 89.971285 26.537431\n",
      " 13.400000 2566500.968687 -15608393.614536 -13041892.645849 57.420652 26.524993 19.328199 174.170338 90.118975 26.577668\n",
      " 13.500000 2639784.438442 -15681677.085494 -13041892.647052 58.129918 26.731921 19.354125 175.134608 90.267842 26.618242\n",
      " 13.600000 2750256.789540 -15792149.437010 -13041892.647470 58.844269 26.940232 19.380275 176.105992 90.417883 26.659152\n",
      " 13.700000 2903568.509297 -15945461.156876 -13041892.647579 59.563702 27.149922 19.406647 177.084488 90.569099 26.700398\n",
      " 13.800000 3113304.982172 -16155197.630309 -13041892.648137 60.288211 27.360984 19.433241 178.070094 90.721489 26.741980\n",
      " 13.900000 3387247.071782 -16429139.720535 -13041892.648752 61.017791 27.573414 19.460058 179.062806 90.875051 26.783898\n",
      " 14.000000 3723182.493108 -16765075.139344 -13041892.646236 61.752435 27.787206 19.487095 180.062624 91.029786 26.826151\n",
      " 14.100000 4157331.027829 -17199223.661109 -13041892.633280 62.492139 28.002357 19.514354 181.069546 91.185692 26.868739\n",
      " 14.200000 4962347.791879 -18004240.305791 -13041892.513912 63.236897 28.218860 19.541833 182.083568 91.342768 26.911662\n",
      " 14.300000 7810395.444264 -20852282.610993 -13041887.166729 63.986703 28.436710 19.569533 183.104688 91.501014 26.954919\n",
      " 14.400000 6687379.937139 -19729271.511117 -13041891.573977 64.741553 28.655903 19.597452 184.132905 91.660429 26.998510\n",
      " 14.500000 9059245.798660 -22101138.322447 -13041892.523787 65.501439 28.876433 19.625590 185.168217 91.821012 27.042435\n",
      " 14.600000 7394452.938292 -20436345.671260 -13041892.732968 66.266357 29.098296 19.653948 186.210620 91.982762 27.086694\n",
      " 14.700000 5599958.305948 -18641850.835900 -13041892.529953 67.036301 29.321485 19.682523 187.260113 92.145678 27.131285\n",
      " 14.800000 4578595.076662 -17620487.682464 -13041892.605802 67.811264 29.545997 19.711317 188.316693 92.309760 27.176210\n",
      " 14.900000 4270549.478369 -17312442.107440 -13041892.629071 68.591242 29.771825 19.740328 189.380358 92.475006 27.221467\n",
      " 15.000000 4252016.260859 -17293908.920393 -13041892.659534 69.376229 29.998965 19.769556 190.451106 92.641416 27.267056\n",
      " 15.100000 4234309.574905 -17276202.229920 -13041892.655015 70.166218 30.227411 19.799000 191.528935 92.808989 27.312977\n",
      " 15.200000 4229897.717272 -17271790.351734 -13041892.634462 70.961203 30.457159 19.828661 192.613842 92.977724 27.359230\n",
      " 15.300000 4404965.375530 -17446858.027268 -13041892.651738 71.761179 30.688203 19.858537 193.705824 93.147619 27.405814\n",
      " 15.400000 4600889.090967 -17642781.742613 -13041892.651646 72.566140 30.920537 19.888628 194.804881 93.318675 27.452729\n",
      " 15.500000 4891630.623648 -17933523.204012 -13041892.580365 73.376080 31.154158 19.918935 195.911008 93.490889 27.499974\n",
      " 15.600000 7014257.506500 -20056159.226322 -13041901.719822 74.190992 31.389059 19.949455 197.024204 93.664262 27.547550\n",
      " 15.700000 7285602.098569 -20327481.527848 -13041879.429279 75.010870 31.625235 19.980189 198.144467 93.838791 27.595456\n",
      " 15.800000 7454866.272015 -20496754.751275 -13041888.479260 75.835709 31.862681 20.011136 199.271793 94.014477 27.643691\n",
      " 15.900000 5913527.964159 -18955420.554977 -13041892.590817 76.665503 32.101392 20.042297 200.406182 94.191318 27.692256\n",
      " 16.000000 5383716.447344 -18425609.060291 -13041892.612947 77.500244 32.341362 20.073669 201.547629 94.369314 27.741149\n",
      " 16.100000 5444467.471873 -18486360.073716 -13041892.601843 78.339927 32.582587 20.105253 202.696134 94.548462 27.790371\n",
      " 16.200000 5848235.997902 -18890128.895868 -13041892.897966 79.184546 32.825061 20.137049 203.851693 94.728762 27.839922\n",
      " 16.300000 5532438.382760 -18574330.996358 -13041892.613598 80.034094 33.068779 20.169055 205.014303 94.910214 27.889800\n",
      " 16.400000 5678247.216635 -18720139.859437 -13041892.642802 80.888564 33.313735 20.201272 206.183964 95.092815 27.940006\n",
      " 16.500000 6041659.062336 -19083551.692316 -13041892.629980 81.747952 33.559925 20.233699 207.360671 95.276566 27.990539\n",
      " 16.600000 6857640.400531 -19899532.979993 -13041892.579462 82.612249 33.807342 20.266335 208.544423 95.461464 28.041400\n",
      " 16.700000 7224501.453234 -20266394.062887 -13041892.609653 83.481450 34.055983 20.299180 209.735218 95.647510 28.092586\n",
      " 16.800000 6884613.123924 -19926505.774134 -13041892.650210 84.355548 34.305841 20.332234 210.933051 95.834701 28.144099\n",
      " 16.900000 7586167.628059 -20628054.048359 -13041886.420300 85.234537 34.556912 20.365495 212.137922 96.023036 28.195938\n",
      " 17.000000 5625201.277063 -18667093.884913 -13041892.607850 86.118410 34.809189 20.398964 213.349828 96.212515 28.248103\n",
      " 17.100000 5139218.624780 -18181111.258552 -13041892.633772 87.007161 35.062668 20.432639 214.568766 96.403137 28.300592\n",
      " 17.200000 4914720.020043 -17956612.663266 -13041892.643223 87.900782 35.317344 20.466521 215.794733 96.594900 28.353406\n",
      " 17.300000 4797306.789664 -17839199.436025 -13041892.646361 88.799268 35.573211 20.500609 217.027727 96.787802 28.406545\n",
      " 17.400000 4733783.017751 -17775675.663887 -13041892.646136 89.702612 35.830264 20.534902 218.267746 96.981844 28.460008\n",
      " 17.500000 4718429.120595 -17760321.765551 -13041892.644956 90.610806 36.088498 20.569399 219.514787 97.177024 28.513795\n",
      " 17.600000 4764290.282600 -17806182.925793 -13041892.643193 91.523845 36.347907 20.604102 220.768847 97.373340 28.567905\n",
      " 17.700000 4897616.816928 -17939509.457141 -13041892.640213 92.441721 36.608486 20.639007 222.029924 97.570791 28.622338\n",
      " 17.800000 5177604.363106 -18219496.989864 -13041892.626758 93.364427 36.870230 20.674117 223.298015 97.769377 28.677094\n",
      " 17.900000 6098177.438798 -19140069.455983 -13041892.017186 94.291958 37.133133 20.709428 224.573117 97.969096 28.732172\n",
      " 18.000000 5889035.076714 -18930927.582190 -13041892.505477 95.224305 37.397191 20.744942 225.855229 98.169946 28.787571\n",
      " 18.100000 5689960.949066 -18731853.580939 -13041892.631873 96.161463 37.662399 20.780658 227.144346 98.371927 28.843293\n",
      " 18.200000 5861516.564605 -18903409.197922 -13041892.633317 97.103424 37.928750 20.816575 228.440468 98.575037 28.899335\n",
      " 18.300000 6285027.302543 -19326919.934454 -13041892.631910 98.050180 38.196239 20.852692 229.743590 98.779275 28.955699\n",
      " 18.400000 6988748.251820 -20030640.890579 -13041892.638759 99.001727 38.464862 20.889010 231.053711 98.984639 29.012383\n",
      " 18.500000 7670805.639075 -20712698.314797 -13041892.675721 99.958055 38.734613 20.925527 232.370828 99.191129 29.069387\n",
      " 18.600000 8212443.852588 -21254336.442749 -13041892.590161 100.919159 39.005487 20.962243 233.694938 99.398744 29.126710\n",
      " 18.700000 12286492.529826 -25328389.075185 -13041896.545359 101.885030 39.277479 20.999157 235.026038 99.607480 29.184353\n",
      " 18.800000 10528055.070865 -23569948.445782 -13041893.374916 102.855663 39.550583 21.036269 236.364125 99.817339 29.242315\n",
      " 18.900000 12543388.821345 -25585323.336932 -13041934.515587 103.831050 39.824794 21.073579 237.709198 100.028317 29.300595\n",
      " 19.000000 8297944.265066 -21339836.830025 -13041892.564959 104.811183 40.100107 21.111085 239.061253 100.240414 29.359193\n",
      " 19.100000 7576795.219295 -20618687.846591 -13041892.627296 105.796056 40.376517 21.148788 240.420287 100.453628 29.418110\n",
      " 19.200000 7491441.366169 -20533334.015535 -13041892.649366 106.785662 40.654018 21.186686 241.786299 100.667959 29.477343\n",
      " 19.300000 7615562.643466 -20657455.381597 -13041892.738131 107.779993 40.932606 21.224780 243.159284 100.883403 29.536894\n",
      " 19.400000 7449691.519118 -20491584.220408 -13041892.701290 108.779042 41.212275 21.263068 244.539240 101.099962 29.596761\n",
      " 19.500000 7139452.412280 -20181345.059870 -13041892.647589 109.782801 41.493020 21.301550 245.926165 101.317632 29.656944\n",
      " 19.600000 7049764.142721 -20091656.807685 -13041892.664964 110.791264 41.774836 21.340225 247.320056 101.536412 29.717443\n",
      " 19.700000 7183439.570094 -20225332.356863 -13041892.786768 111.804423 42.057717 21.379094 248.720909 101.756301 29.778258\n",
      " 19.800000 7025519.251396 -20067411.926355 -13041892.674959 112.822270 42.341659 21.418155 250.128723 101.977298 29.839387\n",
      " 19.900000 6948169.395240 -19990062.048930 -13041892.653690 113.844799 42.626656 21.457407 251.543494 102.199400 29.900831\n",
      " 20.000000 7033373.087226 -20075265.736943 -13041892.649717 114.872002 42.912703 21.496851 252.965219 102.422608 29.962590\n"
     ]
    }
   ],
   "source": [
    "%run ../planetas/N_p_numpy.py"
   ]
  },
  {
   "cell_type": "code",
   "execution_count": null,
   "metadata": {},
   "outputs": [],
   "source": []
  }
 ],
 "metadata": {
  "interpreter": {
   "hash": "ef3850a603e6dcbde2abe8cbb541bc16c8778258584b408756513806b68e6d83"
  },
  "kernelspec": {
   "display_name": "Python 3.7.11 64-bit ('intel': conda)",
   "name": "python3"
  },
  "language_info": {
   "codemirror_mode": {
    "name": "ipython",
    "version": 3
   },
   "file_extension": ".py",
   "mimetype": "text/x-python",
   "name": "python",
   "nbconvert_exporter": "python",
   "pygments_lexer": "ipython3",
   "version": "3.7.11"
  }
 },
 "nbformat": 4,
 "nbformat_minor": 4
}
