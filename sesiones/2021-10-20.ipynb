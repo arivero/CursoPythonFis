{
 "cells": [
  {
   "cell_type": "markdown",
   "source": [
    "Esta es la sesion de introducción al lenguaje Python. Se asume el conocimiento de C u otro lenguaje de proposito general."
   ],
   "metadata": {}
  },
  {
   "cell_type": "code",
   "execution_count": null,
   "source": [],
   "outputs": [],
   "metadata": {}
  }
 ],
 "metadata": {
  "orig_nbformat": 4,
  "language_info": {
   "name": "python"
  }
 },
 "nbformat": 4,
 "nbformat_minor": 2
}