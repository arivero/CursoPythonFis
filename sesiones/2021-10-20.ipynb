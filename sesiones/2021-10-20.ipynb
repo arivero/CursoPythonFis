{
 "cells": [
  {
   "cell_type": "code",
   "execution_count": 1,
   "id": "908ce1a9-bf29-4252-898c-f459b17210bf",
   "metadata": {},
   "outputs": [
    {
     "data": {
      "text/plain": [
       "6"
      ]
     },
     "execution_count": 1,
     "metadata": {},
     "output_type": "execute_result"
    }
   ],
   "source": [
    "3+3"
   ]
  },
  {
   "cell_type": "code",
   "execution_count": 9,
   "id": "57afea5e-aff6-4fe8-9718-804dded1350f",
   "metadata": {},
   "outputs": [
    {
     "name": "stdout",
     "output_type": "stream",
     "text": [
      "1\n",
      "2\n",
      "3\n",
      "4\n",
      "termine\n"
     ]
    }
   ],
   "source": [
    "for i in (1,2,3,4): \n",
    "    print(i)\n",
    "print(\"termine\")"
   ]
  },
  {
   "cell_type": "code",
   "execution_count": 10,
   "id": "1a899bd1-e427-475c-b979-db5392dc4ca0",
   "metadata": {},
   "outputs": [
    {
     "name": "stdout",
     "output_type": "stream",
     "text": [
      "0-3-6-9-12-1\n",
      "1\n",
      "15-18-21-24-27-30-33-3\n",
      "3\n",
      "36-39-42-45-48-51-54-4\n",
      "4\n",
      "57-60-63-66-69-72-75-6\n",
      "6\n",
      "78-81-84-87-90-93-96-8\n",
      "8\n",
      "99-ya esta\n"
     ]
    }
   ],
   "source": [
    "j=0\n",
    "for i in range(100):\n",
    "    if i%3 == 0:\n",
    "        print(i,end='-')\n",
    "        j+=1\n",
    "    elif j%7 == 5:\n",
    "        print(j // 4)\n",
    "print(\"ya esta\")"
   ]
  },
  {
   "cell_type": "code",
   "execution_count": 20,
   "id": "e19d3ee0-eb28-4f51-ba4c-4930ac83ad79",
   "metadata": {},
   "outputs": [
    {
     "data": {
      "text/plain": [
       "[7, 8, 9]"
      ]
     },
     "execution_count": 20,
     "metadata": {},
     "output_type": "execute_result"
    }
   ],
   "source": [
    "list(range(7,10))"
   ]
  },
  {
   "cell_type": "code",
   "execution_count": 26,
   "id": "b0fc628a-41c0-4c83-b5f4-5f416a1e185d",
   "metadata": {},
   "outputs": [
    {
     "name": "stdout",
     "output_type": "stream",
     "text": [
      "55745857612076058813234317117419771556272886109483581752463927935846946310374691578057284710599874844234646982443450754604453404911734348832487342619913750049708004343808000000000000000000000000000\n"
     ]
    }
   ],
   "source": [
    "i=1\n",
    "for j in range(1,120): #acaba en 39\n",
    "    i=i*j\n",
    "print(i)"
   ]
  },
  {
   "cell_type": "code",
   "execution_count": 24,
   "id": "72f6840a-c13d-4b5d-b8a9-55f71d20d1a1",
   "metadata": {},
   "outputs": [
    {
     "data": {
      "text/plain": [
       "int"
      ]
     },
     "execution_count": 24,
     "metadata": {},
     "output_type": "execute_result"
    }
   ],
   "source": [
    "type(i)"
   ]
  },
  {
   "cell_type": "code",
   "execution_count": 31,
   "id": "a06fcc5c-a95e-4aa7-8852-6d8e98ab7a0d",
   "metadata": {},
   "outputs": [
    {
     "name": "stdout",
     "output_type": "stream",
     "text": [
      "20\n",
      "21\n",
      "22\n",
      "23\n"
     ]
    }
   ],
   "source": [
    "a=True\n",
    "t=0\n",
    "while a:\n",
    "    t+=1\n",
    "    if t < 20:\n",
    "        continue\n",
    "    print(t)\n",
    "    if t == 23:\n",
    "        break\n",
    "    if t > 25: a=False"
   ]
  },
  {
   "cell_type": "code",
   "execution_count": 32,
   "id": "bbe5a5c2-e439-4b43-a90f-e2e5b5a9f14d",
   "metadata": {},
   "outputs": [],
   "source": [
    "a=[3,4,5,7]\n"
   ]
  },
  {
   "cell_type": "code",
   "execution_count": 34,
   "id": "2c36d7f5-179e-447a-9aa5-07e417ca2ef1",
   "metadata": {},
   "outputs": [
    {
     "data": {
      "text/plain": [
       "3"
      ]
     },
     "execution_count": 34,
     "metadata": {},
     "output_type": "execute_result"
    }
   ],
   "source": [
    "a[0]"
   ]
  },
  {
   "cell_type": "code",
   "execution_count": 35,
   "id": "d587b713-b29b-48b4-927c-4b552b9b5dc6",
   "metadata": {},
   "outputs": [
    {
     "data": {
      "text/plain": [
       "[3, 23, 5, 7]"
      ]
     },
     "execution_count": 35,
     "metadata": {},
     "output_type": "execute_result"
    }
   ],
   "source": [
    "a[1]=23\n",
    "a"
   ]
  },
  {
   "cell_type": "code",
   "execution_count": 36,
   "id": "ad1e62cf-dbe8-45fc-bf58-826759945003",
   "metadata": {},
   "outputs": [],
   "source": [
    "b=a"
   ]
  },
  {
   "cell_type": "code",
   "execution_count": 37,
   "id": "c90adbda-e9f1-4221-af48-c0639706c054",
   "metadata": {},
   "outputs": [
    {
     "data": {
      "text/plain": [
       "[3, 23, 5, 7]"
      ]
     },
     "execution_count": 37,
     "metadata": {},
     "output_type": "execute_result"
    }
   ],
   "source": [
    "a"
   ]
  },
  {
   "cell_type": "code",
   "execution_count": 38,
   "id": "27db507c-7919-45f4-88fc-ed722a78de9d",
   "metadata": {},
   "outputs": [
    {
     "data": {
      "text/plain": [
       "[3, 23, 5, 7]"
      ]
     },
     "execution_count": 38,
     "metadata": {},
     "output_type": "execute_result"
    }
   ],
   "source": [
    "b"
   ]
  },
  {
   "cell_type": "code",
   "execution_count": 39,
   "id": "8298c4fb-d0ea-4617-8307-9de656c9a00b",
   "metadata": {},
   "outputs": [],
   "source": [
    "a[2]=34"
   ]
  },
  {
   "cell_type": "code",
   "execution_count": 40,
   "id": "f8d8ef51-3df9-4cc3-86e9-167d51abf47e",
   "metadata": {},
   "outputs": [
    {
     "data": {
      "text/plain": [
       "[3, 23, 34, 7]"
      ]
     },
     "execution_count": 40,
     "metadata": {},
     "output_type": "execute_result"
    }
   ],
   "source": [
    "b"
   ]
  },
  {
   "cell_type": "code",
   "execution_count": 41,
   "id": "f7077632-bd3d-4e46-baf8-6a794f021661",
   "metadata": {},
   "outputs": [],
   "source": [
    "a=(3,4,5,4)"
   ]
  },
  {
   "cell_type": "code",
   "execution_count": 42,
   "id": "6fa13a75-f4b4-488c-abf3-62529e538aca",
   "metadata": {},
   "outputs": [
    {
     "data": {
      "text/plain": [
       "4"
      ]
     },
     "execution_count": 42,
     "metadata": {},
     "output_type": "execute_result"
    }
   ],
   "source": [
    "a[3]"
   ]
  },
  {
   "cell_type": "code",
   "execution_count": 43,
   "id": "8684e25c-f269-4074-815f-256a89865e09",
   "metadata": {},
   "outputs": [
    {
     "ename": "TypeError",
     "evalue": "'tuple' object does not support item assignment",
     "output_type": "error",
     "traceback": [
      "\u001b[0;31m---------------------------------------------------------------------------\u001b[0m",
      "\u001b[0;31mTypeError\u001b[0m                                 Traceback (most recent call last)",
      "\u001b[0;32m/tmp/ipykernel_3149092/2477283979.py\u001b[0m in \u001b[0;36m<module>\u001b[0;34m\u001b[0m\n\u001b[0;32m----> 1\u001b[0;31m \u001b[0ma\u001b[0m\u001b[0;34m[\u001b[0m\u001b[0;36m3\u001b[0m\u001b[0;34m]\u001b[0m\u001b[0;34m=\u001b[0m\u001b[0;36m344\u001b[0m\u001b[0;34m\u001b[0m\u001b[0;34m\u001b[0m\u001b[0m\n\u001b[0m",
      "\u001b[0;31mTypeError\u001b[0m: 'tuple' object does not support item assignment"
     ]
    }
   ],
   "source": [
    "a[3]=344"
   ]
  },
  {
   "cell_type": "code",
   "execution_count": 44,
   "id": "79ce988d-f646-4f50-bc07-39880cf80f8d",
   "metadata": {},
   "outputs": [],
   "source": [
    "a=[2,4,5,9]"
   ]
  },
  {
   "cell_type": "code",
   "execution_count": 45,
   "id": "2d949557-56b2-45f2-b939-819e49a8d1d6",
   "metadata": {},
   "outputs": [],
   "source": [
    "a[2]=4.3"
   ]
  },
  {
   "cell_type": "code",
   "execution_count": 46,
   "id": "c24430e4-8de7-4e4b-aa24-0b390c2103ee",
   "metadata": {},
   "outputs": [
    {
     "data": {
      "text/plain": [
       "[2, 4, 4.3, 9]"
      ]
     },
     "execution_count": 46,
     "metadata": {},
     "output_type": "execute_result"
    }
   ],
   "source": [
    "a"
   ]
  },
  {
   "cell_type": "code",
   "execution_count": 47,
   "id": "f4c12b81-b8a8-4576-976b-2991b2a66b91",
   "metadata": {},
   "outputs": [],
   "source": [
    "a=\"hola\""
   ]
  },
  {
   "cell_type": "code",
   "execution_count": 48,
   "id": "cff88289-177e-44f0-91f8-708296c2de00",
   "metadata": {},
   "outputs": [
    {
     "data": {
      "text/plain": [
       "'o'"
      ]
     },
     "execution_count": 48,
     "metadata": {},
     "output_type": "execute_result"
    }
   ],
   "source": [
    "a[1]"
   ]
  },
  {
   "cell_type": "code",
   "execution_count": 49,
   "id": "50d163f3-b24c-4ef1-a6a0-b07db98e5464",
   "metadata": {},
   "outputs": [
    {
     "ename": "TypeError",
     "evalue": "'str' object does not support item assignment",
     "output_type": "error",
     "traceback": [
      "\u001b[0;31m---------------------------------------------------------------------------\u001b[0m",
      "\u001b[0;31mTypeError\u001b[0m                                 Traceback (most recent call last)",
      "\u001b[0;32m/tmp/ipykernel_3149092/3103327350.py\u001b[0m in \u001b[0;36m<module>\u001b[0;34m\u001b[0m\n\u001b[0;32m----> 1\u001b[0;31m \u001b[0ma\u001b[0m\u001b[0;34m[\u001b[0m\u001b[0;36m1\u001b[0m\u001b[0;34m]\u001b[0m\u001b[0;34m=\u001b[0m\u001b[0;34m'j'\u001b[0m\u001b[0;34m\u001b[0m\u001b[0;34m\u001b[0m\u001b[0m\n\u001b[0m",
      "\u001b[0;31mTypeError\u001b[0m: 'str' object does not support item assignment"
     ]
    }
   ],
   "source": [
    "a[1]='j'"
   ]
  },
  {
   "cell_type": "code",
   "execution_count": 52,
   "id": "1c9de2b1-7ed4-4d1c-a0fb-fe5543638a8f",
   "metadata": {},
   "outputs": [],
   "source": [
    "a=\"hola que tal\""
   ]
  },
  {
   "cell_type": "code",
   "execution_count": 53,
   "id": "e2bdb60a-c199-44e6-b2e7-aeab5cc95c08",
   "metadata": {},
   "outputs": [
    {
     "data": {
      "text/plain": [
       "['hola', 'que', 'tal']"
      ]
     },
     "execution_count": 53,
     "metadata": {},
     "output_type": "execute_result"
    }
   ],
   "source": [
    "a.split()"
   ]
  },
  {
   "cell_type": "code",
   "execution_count": 56,
   "id": "c1740a10-6db2-4d15-b10d-5f6e7ef7b457",
   "metadata": {},
   "outputs": [
    {
     "data": {
      "text/plain": [
       "['h', 'o', 'l', 'a', ' ', 'q', 'u', 'e', ' ', 't', 'a', 'l']"
      ]
     },
     "execution_count": 56,
     "metadata": {},
     "output_type": "execute_result"
    }
   ],
   "source": [
    "list(a)"
   ]
  },
  {
   "cell_type": "code",
   "execution_count": 57,
   "id": "031084f3-f5a1-4185-ba31-9142cc6efc7d",
   "metadata": {},
   "outputs": [
    {
     "data": {
      "text/plain": [
       "'o'"
      ]
     },
     "execution_count": 57,
     "metadata": {},
     "output_type": "execute_result"
    }
   ],
   "source": [
    "list(a)[1]"
   ]
  },
  {
   "cell_type": "code",
   "execution_count": 58,
   "id": "7f1863be-334e-4da7-889e-fd0d2c7e8a1e",
   "metadata": {},
   "outputs": [],
   "source": [
    "b=list(a)"
   ]
  },
  {
   "cell_type": "code",
   "execution_count": 59,
   "id": "ab849d84-faf6-410d-9079-ff7aa76c0fe6",
   "metadata": {},
   "outputs": [],
   "source": [
    "b[1]='a'"
   ]
  },
  {
   "cell_type": "code",
   "execution_count": 60,
   "id": "a0fdc7af-da5e-4f26-9247-adc2e9e7477b",
   "metadata": {},
   "outputs": [
    {
     "data": {
      "text/plain": [
       "['h', 'a', 'l', 'a', ' ', 'q', 'u', 'e', ' ', 't', 'a', 'l']"
      ]
     },
     "execution_count": 60,
     "metadata": {},
     "output_type": "execute_result"
    }
   ],
   "source": [
    "b"
   ]
  },
  {
   "cell_type": "code",
   "execution_count": 61,
   "id": "169c63db-b820-4b14-a7bc-e7ddb1f31601",
   "metadata": {},
   "outputs": [
    {
     "data": {
      "text/plain": [
       "'h-a-l-a- -q-u-e- -t-a-l'"
      ]
     },
     "execution_count": 61,
     "metadata": {},
     "output_type": "execute_result"
    }
   ],
   "source": [
    "\"-\".join(b)"
   ]
  },
  {
   "cell_type": "code",
   "execution_count": 62,
   "id": "e9c427aa-cc36-45f9-b22e-2e6bd308b077",
   "metadata": {},
   "outputs": [
    {
     "data": {
      "text/plain": [
       "'hala que tal'"
      ]
     },
     "execution_count": 62,
     "metadata": {},
     "output_type": "execute_result"
    }
   ],
   "source": [
    "\"\".join(b)"
   ]
  },
  {
   "cell_type": "code",
   "execution_count": 63,
   "id": "22440899-0bed-450d-a18b-afd3b173e811",
   "metadata": {},
   "outputs": [
    {
     "data": {
      "text/plain": [
       "'hola que tal'"
      ]
     },
     "execution_count": 63,
     "metadata": {},
     "output_type": "execute_result"
    }
   ],
   "source": [
    "a"
   ]
  },
  {
   "cell_type": "code",
   "execution_count": 64,
   "id": "d5ee13f4-4620-4509-9f64-deda8d22e25d",
   "metadata": {},
   "outputs": [
    {
     "data": {
      "text/plain": [
       "'hola que tal'"
      ]
     },
     "execution_count": 64,
     "metadata": {},
     "output_type": "execute_result"
    }
   ],
   "source": [
    "a"
   ]
  },
  {
   "cell_type": "code",
   "execution_count": 65,
   "id": "ba64d6da-d2b8-4835-9bdf-aa7b6e9be5f0",
   "metadata": {},
   "outputs": [
    {
     "data": {
      "text/plain": [
       "['h', 'a', 'l', 'a', ' ', 'q', 'u', 'e', ' ', 't', 'a', 'l']"
      ]
     },
     "execution_count": 65,
     "metadata": {},
     "output_type": "execute_result"
    }
   ],
   "source": [
    "b"
   ]
  },
  {
   "cell_type": "code",
   "execution_count": 66,
   "id": "e3a157b5-553b-41a3-a0e6-507d9ce88587",
   "metadata": {},
   "outputs": [
    {
     "data": {
      "text/plain": [
       "(6135883471071392750, 140287729125424)"
      ]
     },
     "execution_count": 66,
     "metadata": {},
     "output_type": "execute_result"
    }
   ],
   "source": [
    "hash(a),id(a)"
   ]
  },
  {
   "cell_type": "code",
   "execution_count": 67,
   "id": "be41d81d-cecf-422c-9abf-bff57857124f",
   "metadata": {},
   "outputs": [
    {
     "ename": "TypeError",
     "evalue": "unhashable type: 'list'",
     "output_type": "error",
     "traceback": [
      "\u001b[0;31m---------------------------------------------------------------------------\u001b[0m",
      "\u001b[0;31mTypeError\u001b[0m                                 Traceback (most recent call last)",
      "\u001b[0;32m/tmp/ipykernel_3149092/4146921288.py\u001b[0m in \u001b[0;36m<module>\u001b[0;34m\u001b[0m\n\u001b[0;32m----> 1\u001b[0;31m \u001b[0mhash\u001b[0m\u001b[0;34m(\u001b[0m\u001b[0mb\u001b[0m\u001b[0;34m)\u001b[0m\u001b[0;34m\u001b[0m\u001b[0;34m\u001b[0m\u001b[0m\n\u001b[0m",
      "\u001b[0;31mTypeError\u001b[0m: unhashable type: 'list'"
     ]
    }
   ],
   "source": [
    "hash(b)"
   ]
  },
  {
   "cell_type": "code",
   "execution_count": 68,
   "id": "d7a2fddb-3cf0-4b7e-be28-1e4ceea98248",
   "metadata": {},
   "outputs": [
    {
     "data": {
      "text/plain": [
       "140287729218624"
      ]
     },
     "execution_count": 68,
     "metadata": {},
     "output_type": "execute_result"
    }
   ],
   "source": [
    "id(b)"
   ]
  },
  {
   "cell_type": "code",
   "execution_count": 70,
   "id": "70cda662-3c4b-479d-8eb6-d388ebecd231",
   "metadata": {},
   "outputs": [
    {
     "data": {
      "text/plain": [
       "(34, 94744773378336)"
      ]
     },
     "execution_count": 70,
     "metadata": {},
     "output_type": "execute_result"
    }
   ],
   "source": [
    "hash(34),id(34)"
   ]
  },
  {
   "cell_type": "code",
   "execution_count": 72,
   "id": "c87fe71f-9345-4eb7-bd47-23d5849de284",
   "metadata": {},
   "outputs": [
    {
     "data": {
      "text/plain": [
       "(691752902764108289, 140287729261904)"
      ]
     },
     "execution_count": 72,
     "metadata": {},
     "output_type": "execute_result"
    }
   ],
   "source": [
    "hash(1.3),id(1.3)"
   ]
  },
  {
   "cell_type": "markdown",
   "id": "5e7033de-9871-4055-8978-f33b59a6c4e3",
   "metadata": {},
   "source": [
    "un valor que tiene hash se puede usar como clave de un diccionario"
   ]
  },
  {
   "cell_type": "code",
   "execution_count": 73,
   "id": "21de69a6-2ed7-49f0-aa9b-1d3cc975ce6d",
   "metadata": {},
   "outputs": [
    {
     "data": {
      "text/plain": [
       "{1: 6,\n",
       " 11: range(0, 10),\n",
       " 12: [0, 1, 2, 3, 4, 5, 6, 7, 8, 9],\n",
       " 13: [1, 2, 3, 4, 5, 6, 7, 8, 9],\n",
       " 14: [0, 1, 2, 3, 4, 5, 6, 7, 8, 9],\n",
       " 15: [1, 2, 3, 4, 5, 6, 7, 8, 9],\n",
       " 16: [1, 3, 5, 7, 9],\n",
       " 17: [1, 4, 7],\n",
       " 18: [],\n",
       " 19: [],\n",
       " 20: [7, 8, 9],\n",
       " 24: int,\n",
       " 33: 7,\n",
       " 34: 3,\n",
       " 35: [3, 23, 34, 7],\n",
       " 37: [3, 23, 34, 7],\n",
       " 38: [3, 23, 34, 7],\n",
       " 40: [3, 23, 34, 7],\n",
       " 42: 4,\n",
       " 46: [2, 4, 4.3, 9],\n",
       " 48: 'o',\n",
       " 50: 'hola',\n",
       " 51: ['hola'],\n",
       " 53: ['hola', 'que', 'tal'],\n",
       " 54: ['h', 'o', 'l', 'a', ' ', 'q', 'u', 'e', ' ', 't', 'a', 'l'],\n",
       " 55: 'a',\n",
       " 56: ['h', 'o', 'l', 'a', ' ', 'q', 'u', 'e', ' ', 't', 'a', 'l'],\n",
       " 57: 'o',\n",
       " 60: ['h', 'a', 'l', 'a', ' ', 'q', 'u', 'e', ' ', 't', 'a', 'l'],\n",
       " 61: 'h-a-l-a- -q-u-e- -t-a-l',\n",
       " 62: 'hala que tal',\n",
       " 63: 'hola que tal',\n",
       " 64: 'hola que tal',\n",
       " 65: ['h', 'a', 'l', 'a', ' ', 'q', 'u', 'e', ' ', 't', 'a', 'l'],\n",
       " 66: (6135883471071392750, 140287729125424),\n",
       " 68: 140287729218624,\n",
       " 69: -93200,\n",
       " 70: (34, 94744773378336),\n",
       " 72: (691752902764108289, 140287729261904)}"
      ]
     },
     "execution_count": 73,
     "metadata": {},
     "output_type": "execute_result"
    }
   ],
   "source": [
    "Out"
   ]
  },
  {
   "cell_type": "code",
   "execution_count": 74,
   "id": "55dccbe5-8be3-4695-9d92-d1abe11cc333",
   "metadata": {},
   "outputs": [
    {
     "data": {
      "text/plain": [
       "(34, 94744773378336)"
      ]
     },
     "execution_count": 74,
     "metadata": {},
     "output_type": "execute_result"
    }
   ],
   "source": [
    "Out[70]"
   ]
  },
  {
   "cell_type": "code",
   "execution_count": 75,
   "id": "7af6ee49-980e-4a3b-8b94-b44b9601f375",
   "metadata": {},
   "outputs": [],
   "source": [
    "a=dict()\n",
    "a['23']=34235423\n",
    "a[23]=\"hola\"\n",
    "a[(2,3)]=34.2"
   ]
  },
  {
   "cell_type": "code",
   "execution_count": 76,
   "id": "e1f55287-07af-484f-99b6-0cf011b3f352",
   "metadata": {},
   "outputs": [
    {
     "data": {
      "text/plain": [
       "{'23': 34235423, 23: 'hola', (2, 3): 34.2}"
      ]
     },
     "execution_count": 76,
     "metadata": {},
     "output_type": "execute_result"
    }
   ],
   "source": [
    "a"
   ]
  },
  {
   "cell_type": "code",
   "execution_count": 77,
   "id": "a540707c-96b1-4905-8c38-53554d4c3e5f",
   "metadata": {},
   "outputs": [
    {
     "data": {
      "text/plain": [
       "-3913676081695770935"
      ]
     },
     "execution_count": 77,
     "metadata": {},
     "output_type": "execute_result"
    }
   ],
   "source": [
    "hash('23')"
   ]
  },
  {
   "cell_type": "code",
   "execution_count": 78,
   "id": "34895f0b-e097-4062-afcd-7e8ea95fa8ac",
   "metadata": {},
   "outputs": [
    {
     "data": {
      "text/plain": [
       "23"
      ]
     },
     "execution_count": 78,
     "metadata": {},
     "output_type": "execute_result"
    }
   ],
   "source": [
    "hash(23)"
   ]
  },
  {
   "cell_type": "code",
   "execution_count": 79,
   "id": "1cda7981-7117-4a11-9c56-7d6c6a5f68d7",
   "metadata": {},
   "outputs": [],
   "source": [
    "a[2]=dict()"
   ]
  },
  {
   "cell_type": "code",
   "execution_count": 80,
   "id": "e529ed2f-2f76-4507-957c-34c46bf3b5a5",
   "metadata": {},
   "outputs": [],
   "source": [
    "a[2][3]=34.2"
   ]
  },
  {
   "cell_type": "code",
   "execution_count": 81,
   "id": "fe031e83-6b0b-41b1-ac51-53847fc93f15",
   "metadata": {},
   "outputs": [
    {
     "data": {
      "text/plain": [
       "{'23': 34235423, 23: 'hola', (2, 3): 34.2, 2: {3: 34.2}}"
      ]
     },
     "execution_count": 81,
     "metadata": {},
     "output_type": "execute_result"
    }
   ],
   "source": [
    "a"
   ]
  },
  {
   "cell_type": "code",
   "execution_count": 82,
   "id": "0d259120-e24c-45ac-b70b-e31535e63d19",
   "metadata": {},
   "outputs": [
    {
     "data": {
      "text/plain": [
       "34.2"
      ]
     },
     "execution_count": 82,
     "metadata": {},
     "output_type": "execute_result"
    }
   ],
   "source": [
    "a[(2,3)]"
   ]
  },
  {
   "cell_type": "code",
   "execution_count": 83,
   "id": "42139764-af8b-4133-9617-fcd4113dc9cb",
   "metadata": {},
   "outputs": [
    {
     "data": {
      "text/plain": [
       "{'23': 34235423, 23: 'hola', (2, 3): 34.2, 2: {3: 34.2}}"
      ]
     },
     "execution_count": 83,
     "metadata": {},
     "output_type": "execute_result"
    }
   ],
   "source": [
    "a"
   ]
  },
  {
   "cell_type": "code",
   "execution_count": 84,
   "id": "6c14d4e5-e618-49a3-80d0-ca685026b566",
   "metadata": {},
   "outputs": [],
   "source": [
    "del a['23']"
   ]
  },
  {
   "cell_type": "code",
   "execution_count": 85,
   "id": "41bbf745-05e5-4d9e-930e-879802777450",
   "metadata": {},
   "outputs": [
    {
     "data": {
      "text/plain": [
       "{23: 'hola', (2, 3): 34.2, 2: {3: 34.2}}"
      ]
     },
     "execution_count": 85,
     "metadata": {},
     "output_type": "execute_result"
    }
   ],
   "source": [
    "a"
   ]
  },
  {
   "cell_type": "code",
   "execution_count": 86,
   "id": "f367f9a7-f93e-4386-bd0e-2117dcfea112",
   "metadata": {},
   "outputs": [
    {
     "data": {
      "text/plain": [
       "[3, 4, 5, 4]"
      ]
     },
     "execution_count": 86,
     "metadata": {},
     "output_type": "execute_result"
    }
   ],
   "source": [
    "list((3,4,5,4))"
   ]
  },
  {
   "cell_type": "code",
   "execution_count": 89,
   "id": "d231bae2-89d9-437c-81cf-43c54fc691de",
   "metadata": {},
   "outputs": [],
   "source": [
    "a=[3,5,6,7]"
   ]
  },
  {
   "cell_type": "code",
   "execution_count": 90,
   "id": "7b4f7363-3a2a-4e50-9f0b-79b2d26e8e08",
   "metadata": {},
   "outputs": [],
   "source": [
    "a.append(4)"
   ]
  },
  {
   "cell_type": "code",
   "execution_count": 91,
   "id": "3c5dfe30-a8f9-4b38-86a9-c4d0f11cb587",
   "metadata": {},
   "outputs": [
    {
     "data": {
      "text/plain": [
       "[3, 5, 6, 7, 4]"
      ]
     },
     "execution_count": 91,
     "metadata": {},
     "output_type": "execute_result"
    }
   ],
   "source": [
    "a"
   ]
  },
  {
   "cell_type": "code",
   "execution_count": 92,
   "id": "d8157e27-b826-49b6-86bf-88613ce9c40e",
   "metadata": {},
   "outputs": [
    {
     "data": {
      "text/plain": [
       "['__add__',\n",
       " '__class__',\n",
       " '__contains__',\n",
       " '__delattr__',\n",
       " '__delitem__',\n",
       " '__dir__',\n",
       " '__doc__',\n",
       " '__eq__',\n",
       " '__format__',\n",
       " '__ge__',\n",
       " '__getattribute__',\n",
       " '__getitem__',\n",
       " '__gt__',\n",
       " '__hash__',\n",
       " '__iadd__',\n",
       " '__imul__',\n",
       " '__init__',\n",
       " '__init_subclass__',\n",
       " '__iter__',\n",
       " '__le__',\n",
       " '__len__',\n",
       " '__lt__',\n",
       " '__mul__',\n",
       " '__ne__',\n",
       " '__new__',\n",
       " '__reduce__',\n",
       " '__reduce_ex__',\n",
       " '__repr__',\n",
       " '__reversed__',\n",
       " '__rmul__',\n",
       " '__setattr__',\n",
       " '__setitem__',\n",
       " '__sizeof__',\n",
       " '__str__',\n",
       " '__subclasshook__',\n",
       " 'append',\n",
       " 'clear',\n",
       " 'copy',\n",
       " 'count',\n",
       " 'extend',\n",
       " 'index',\n",
       " 'insert',\n",
       " 'pop',\n",
       " 'remove',\n",
       " 'reverse',\n",
       " 'sort']"
      ]
     },
     "execution_count": 92,
     "metadata": {},
     "output_type": "execute_result"
    }
   ],
   "source": [
    "dir(a)"
   ]
  },
  {
   "cell_type": "code",
   "execution_count": 93,
   "id": "09163dea-ffbd-4500-ab50-7dc9905656b2",
   "metadata": {},
   "outputs": [
    {
     "data": {
      "text/plain": [
       "['__add__',\n",
       " '__class__',\n",
       " '__contains__',\n",
       " '__delattr__',\n",
       " '__dir__',\n",
       " '__doc__',\n",
       " '__eq__',\n",
       " '__format__',\n",
       " '__ge__',\n",
       " '__getattribute__',\n",
       " '__getitem__',\n",
       " '__getnewargs__',\n",
       " '__gt__',\n",
       " '__hash__',\n",
       " '__init__',\n",
       " '__init_subclass__',\n",
       " '__iter__',\n",
       " '__le__',\n",
       " '__len__',\n",
       " '__lt__',\n",
       " '__mod__',\n",
       " '__mul__',\n",
       " '__ne__',\n",
       " '__new__',\n",
       " '__reduce__',\n",
       " '__reduce_ex__',\n",
       " '__repr__',\n",
       " '__rmod__',\n",
       " '__rmul__',\n",
       " '__setattr__',\n",
       " '__sizeof__',\n",
       " '__str__',\n",
       " '__subclasshook__',\n",
       " 'capitalize',\n",
       " 'casefold',\n",
       " 'center',\n",
       " 'count',\n",
       " 'encode',\n",
       " 'endswith',\n",
       " 'expandtabs',\n",
       " 'find',\n",
       " 'format',\n",
       " 'format_map',\n",
       " 'index',\n",
       " 'isalnum',\n",
       " 'isalpha',\n",
       " 'isascii',\n",
       " 'isdecimal',\n",
       " 'isdigit',\n",
       " 'isidentifier',\n",
       " 'islower',\n",
       " 'isnumeric',\n",
       " 'isprintable',\n",
       " 'isspace',\n",
       " 'istitle',\n",
       " 'isupper',\n",
       " 'join',\n",
       " 'ljust',\n",
       " 'lower',\n",
       " 'lstrip',\n",
       " 'maketrans',\n",
       " 'partition',\n",
       " 'replace',\n",
       " 'rfind',\n",
       " 'rindex',\n",
       " 'rjust',\n",
       " 'rpartition',\n",
       " 'rsplit',\n",
       " 'rstrip',\n",
       " 'split',\n",
       " 'splitlines',\n",
       " 'startswith',\n",
       " 'strip',\n",
       " 'swapcase',\n",
       " 'title',\n",
       " 'translate',\n",
       " 'upper',\n",
       " 'zfill']"
      ]
     },
     "execution_count": 93,
     "metadata": {},
     "output_type": "execute_result"
    }
   ],
   "source": [
    "dir(\"hola\")"
   ]
  },
  {
   "cell_type": "code",
   "execution_count": 94,
   "id": "7b4d2f50-3619-4be2-a1cb-6905aa2c5c64",
   "metadata": {},
   "outputs": [
    {
     "data": {
      "text/plain": [
       "'Hola'"
      ]
     },
     "execution_count": 94,
     "metadata": {},
     "output_type": "execute_result"
    }
   ],
   "source": [
    "\"hola\".capitalize()"
   ]
  },
  {
   "cell_type": "code",
   "execution_count": 95,
   "id": "8fd0314e-cb07-4b09-a897-8c46150a257d",
   "metadata": {},
   "outputs": [],
   "source": [
    "s={ 3, 4, 'j'}"
   ]
  },
  {
   "cell_type": "code",
   "execution_count": 97,
   "id": "1a09bd73-f178-40a2-936f-2df23d864b1b",
   "metadata": {},
   "outputs": [],
   "source": [
    "d={ 3: 34,'h':'hola'}"
   ]
  },
  {
   "cell_type": "code",
   "execution_count": 98,
   "id": "2a364a95-2b3f-4d5d-ae47-6d58aa6ad329",
   "metadata": {},
   "outputs": [],
   "source": [
    " s={ 3: None, 4:None, 'j':None}"
   ]
  },
  {
   "cell_type": "code",
   "execution_count": 99,
   "id": "b2e4cf88-0f3a-4397-a79c-ae384758ffbd",
   "metadata": {},
   "outputs": [],
   "source": [
    "s={ 3, 4, 'j'}"
   ]
  },
  {
   "cell_type": "code",
   "execution_count": 100,
   "id": "05b23246-6319-4829-8e0b-fd0f72639407",
   "metadata": {},
   "outputs": [
    {
     "data": {
      "text/plain": [
       "['__and__',\n",
       " '__class__',\n",
       " '__contains__',\n",
       " '__delattr__',\n",
       " '__dir__',\n",
       " '__doc__',\n",
       " '__eq__',\n",
       " '__format__',\n",
       " '__ge__',\n",
       " '__getattribute__',\n",
       " '__gt__',\n",
       " '__hash__',\n",
       " '__iand__',\n",
       " '__init__',\n",
       " '__init_subclass__',\n",
       " '__ior__',\n",
       " '__isub__',\n",
       " '__iter__',\n",
       " '__ixor__',\n",
       " '__le__',\n",
       " '__len__',\n",
       " '__lt__',\n",
       " '__ne__',\n",
       " '__new__',\n",
       " '__or__',\n",
       " '__rand__',\n",
       " '__reduce__',\n",
       " '__reduce_ex__',\n",
       " '__repr__',\n",
       " '__ror__',\n",
       " '__rsub__',\n",
       " '__rxor__',\n",
       " '__setattr__',\n",
       " '__sizeof__',\n",
       " '__str__',\n",
       " '__sub__',\n",
       " '__subclasshook__',\n",
       " '__xor__',\n",
       " 'add',\n",
       " 'clear',\n",
       " 'copy',\n",
       " 'difference',\n",
       " 'difference_update',\n",
       " 'discard',\n",
       " 'intersection',\n",
       " 'intersection_update',\n",
       " 'isdisjoint',\n",
       " 'issubset',\n",
       " 'issuperset',\n",
       " 'pop',\n",
       " 'remove',\n",
       " 'symmetric_difference',\n",
       " 'symmetric_difference_update',\n",
       " 'union',\n",
       " 'update']"
      ]
     },
     "execution_count": 100,
     "metadata": {},
     "output_type": "execute_result"
    }
   ],
   "source": [
    "dir(s)"
   ]
  },
  {
   "cell_type": "code",
   "execution_count": 101,
   "id": "fcfdddd8-77f5-4e96-bf24-c0d63b7493d0",
   "metadata": {},
   "outputs": [
    {
     "name": "stdout",
     "output_type": "stream",
     "text": [
      "3\n",
      "4\n",
      "j\n"
     ]
    }
   ],
   "source": [
    "for k in s:\n",
    "    print(k)"
   ]
  },
  {
   "cell_type": "code",
   "execution_count": 102,
   "id": "59557446-e6e1-4da9-9218-7d4ce1adc662",
   "metadata": {},
   "outputs": [
    {
     "data": {
      "text/plain": [
       "{3: 34, 'h': 'hola'}"
      ]
     },
     "execution_count": 102,
     "metadata": {},
     "output_type": "execute_result"
    }
   ],
   "source": [
    "d"
   ]
  },
  {
   "cell_type": "code",
   "execution_count": 103,
   "id": "d1d5d99f-aa5d-4187-a682-7165e286cb77",
   "metadata": {},
   "outputs": [
    {
     "name": "stdout",
     "output_type": "stream",
     "text": [
      "3\n",
      "h\n"
     ]
    }
   ],
   "source": [
    "for k in d:\n",
    "    print(k)"
   ]
  },
  {
   "cell_type": "code",
   "execution_count": 104,
   "id": "c1c8d8e8-d7dd-4b33-9b23-73d9559a6d4e",
   "metadata": {},
   "outputs": [
    {
     "name": "stdout",
     "output_type": "stream",
     "text": [
      "3 34\n",
      "h hola\n"
     ]
    }
   ],
   "source": [
    "for j in d:\n",
    "    print(j,d[j])"
   ]
  },
  {
   "cell_type": "code",
   "execution_count": 105,
   "id": "d860ab2d-955a-4d8b-babf-bba5d7dd15bb",
   "metadata": {},
   "outputs": [
    {
     "name": "stdout",
     "output_type": "stream",
     "text": [
      "3 34\n",
      "h hola\n"
     ]
    }
   ],
   "source": [
    "for j,v in d.items():\n",
    "    print(j,v)"
   ]
  },
  {
   "cell_type": "code",
   "execution_count": 106,
   "id": "48c1e9bc-6ccd-41ff-a146-e49f3ca64cf1",
   "metadata": {},
   "outputs": [],
   "source": [
    "a,b,c = (1,2,3)"
   ]
  },
  {
   "cell_type": "code",
   "execution_count": 107,
   "id": "494f869e-7a8b-45e8-8cb2-ea8ceeb3ee5d",
   "metadata": {},
   "outputs": [
    {
     "data": {
      "text/plain": [
       "1"
      ]
     },
     "execution_count": 107,
     "metadata": {},
     "output_type": "execute_result"
    }
   ],
   "source": [
    "a"
   ]
  },
  {
   "cell_type": "code",
   "execution_count": 108,
   "id": "e5de3533-c96c-468d-8aef-4ac64869c41d",
   "metadata": {},
   "outputs": [
    {
     "data": {
      "text/plain": [
       "3"
      ]
     },
     "execution_count": 108,
     "metadata": {},
     "output_type": "execute_result"
    }
   ],
   "source": [
    "c"
   ]
  },
  {
   "cell_type": "code",
   "execution_count": 110,
   "id": "f57a7387-b82c-45cd-ad48-bf3df82a16ea",
   "metadata": {},
   "outputs": [
    {
     "data": {
      "text/plain": [
       "120"
      ]
     },
     "execution_count": 110,
     "metadata": {},
     "output_type": "execute_result"
    }
   ],
   "source": [
    "def fact(n):\n",
    "    i=1\n",
    "    for k in range(1,n+1):\n",
    "        i=i*k\n",
    "    return i\n",
    "fact(5)"
   ]
  },
  {
   "cell_type": "code",
   "execution_count": 111,
   "id": "ecf61d23-6537-475b-8d94-eadf95c963eb",
   "metadata": {},
   "outputs": [
    {
     "data": {
      "text/plain": [
       "16"
      ]
     },
     "execution_count": 111,
     "metadata": {},
     "output_type": "execute_result"
    }
   ],
   "source": [
    "cuad =  lambda x: x*x\n",
    "cuad(4)"
   ]
  },
  {
   "cell_type": "code",
   "execution_count": 113,
   "id": "b7834b5c-664a-4759-800f-16497ca482c7",
   "metadata": {},
   "outputs": [],
   "source": [
    "%matplotlib inline\n",
    "import matplotlib\n",
    "import matplotlib.pyplot as plt #abreviatura por comodidad"
   ]
  },
  {
   "cell_type": "code",
   "execution_count": 120,
   "id": "e5d2de5f-56b0-459f-8bef-49dd3b824c88",
   "metadata": {},
   "outputs": [
    {
     "data": {
      "text/plain": [
       "[[0.0, 0.0, 0.0], [0.0, 0.0, 0.0], [0.0, 0.0, 0.0], [0.0, 0.0, 0.0]]"
      ]
     },
     "execution_count": 120,
     "metadata": {},
     "output_type": "execute_result"
    }
   ],
   "source": [
    "z=[None]*4 #array de filas\n",
    "for i in range(4):\n",
    "    z[i]=[0.0]*3 #meto las columnas en cada fila\n",
    "z"
   ]
  },
  {
   "cell_type": "code",
   "execution_count": 126,
   "id": "cd7a1926-1fc1-423e-b95c-3ca04a9cbe58",
   "metadata": {},
   "outputs": [],
   "source": [
    "z=[None]*100 #array de filas\n",
    "for i in range(100):\n",
    "    z[i]=[0.0]*100 #meto las columnas en cada fila\n",
    "    for j in range(100):\n",
    "        x=j-50\n",
    "        y=i-50\n",
    "        z[i][j]= x**2 + y **2"
   ]
  },
  {
   "cell_type": "code",
   "execution_count": 127,
   "id": "4b0acd63-eaa5-43a5-aed1-8684e7296916",
   "metadata": {},
   "outputs": [
    {
     "data": {
      "text/plain": [
       "<matplotlib.contour.QuadContourSet at 0x7f9710d51340>"
      ]
     },
     "execution_count": 127,
     "metadata": {},
     "output_type": "execute_result"
    },
    {
     "data": {
      "image/png": "[encoded data removed]",
      "text/plain": [
       "<Figure size 432x288 with 1 Axes>"
      ]
     },
     "metadata": {
      "needs_background": "light"
     },
     "output_type": "display_data"
    }
   ],
   "source": [
    "plt.contour(z)"
   ]
  },
  {
   "cell_type": "code",
   "execution_count": 128,
   "id": "2d79b719-6e0b-4d3a-90da-5f38b0f9db87",
   "metadata": {},
   "outputs": [
    {
     "data": {
      "text/plain": [
       "<matplotlib.contour.QuadContourSet at 0x7f9710cc50a0>"
      ]
     },
     "execution_count": 128,
     "metadata": {},
     "output_type": "execute_result"
    },
    {
     "data": {
      "image/png": "[encoded data removed]",
      "text/plain": [
       "<Figure size 432x288 with 1 Axes>"
      ]
     },
     "metadata": {
      "needs_background": "light"
     },
     "output_type": "display_data"
    }
   ],
   "source": [
    "plt.contourf(z)"
   ]
  },
  {
   "cell_type": "code",
   "execution_count": 133,
   "id": "74ae1eba-c174-422b-beab-b042e58f1224",
   "metadata": {},
   "outputs": [
    {
     "data": {
      "text/plain": [
       "<matplotlib.contour.QuadContourSet at 0x7f9710a36f70>"
      ]
     },
     "execution_count": 133,
     "metadata": {},
     "output_type": "execute_result"
    },
    {
     "data": {
      "image/png": "[encoded data removed]",
      "text/plain": [
       "<Figure size 432x288 with 1 Axes>"
      ]
     },
     "metadata": {
      "needs_background": "light"
     },
     "output_type": "display_data"
    }
   ],
   "source": [
    "ax=plt.axes(projection='3d')\n",
    "ax.contour(range(-50,50),range(-50,50),z)"
   ]
  },
  {
   "cell_type": "code",
   "execution_count": 130,
   "id": "41c70433-52f9-4e16-93f5-cc8c972f3198",
   "metadata": {},
   "outputs": [
    {
     "data": {
      "text/plain": [
       "<matplotlib.contour.QuadContourSet at 0x7f9710c426a0>"
      ]
     },
     "execution_count": 130,
     "metadata": {},
     "output_type": "execute_result"
    }
   ],
   "source": [
    "ax.contour(range(-50,50),range(-50,50),z)"
   ]
  },
  {
   "cell_type": "code",
   "execution_count": 134,
   "id": "a4dcf410-5bd4-4b91-86d8-6380263dbc4e",
   "metadata": {},
   "outputs": [
    {
     "ename": "AttributeError",
     "evalue": "'list' object has no attribute 'ndim'",
     "output_type": "error",
     "traceback": [
      "\u001b[0;31m---------------------------------------------------------------------------\u001b[0m",
      "\u001b[0;31mAttributeError\u001b[0m                            Traceback (most recent call last)",
      "\u001b[0;32m/tmp/ipykernel_3149092/108227258.py\u001b[0m in \u001b[0;36m<module>\u001b[0;34m\u001b[0m\n\u001b[1;32m      1\u001b[0m \u001b[0max\u001b[0m\u001b[0;34m=\u001b[0m\u001b[0mplt\u001b[0m\u001b[0;34m.\u001b[0m\u001b[0maxes\u001b[0m\u001b[0;34m(\u001b[0m\u001b[0mprojection\u001b[0m\u001b[0;34m=\u001b[0m\u001b[0;34m'3d'\u001b[0m\u001b[0;34m)\u001b[0m\u001b[0;34m\u001b[0m\u001b[0;34m\u001b[0m\u001b[0m\n\u001b[0;32m----> 2\u001b[0;31m \u001b[0max\u001b[0m\u001b[0;34m.\u001b[0m\u001b[0mplot_wireframe\u001b[0m\u001b[0;34m(\u001b[0m\u001b[0mrange\u001b[0m\u001b[0;34m(\u001b[0m\u001b[0;34m-\u001b[0m\u001b[0;36m50\u001b[0m\u001b[0;34m,\u001b[0m\u001b[0;36m50\u001b[0m\u001b[0;34m)\u001b[0m\u001b[0;34m,\u001b[0m\u001b[0mrange\u001b[0m\u001b[0;34m(\u001b[0m\u001b[0;34m-\u001b[0m\u001b[0;36m50\u001b[0m\u001b[0;34m,\u001b[0m\u001b[0;36m50\u001b[0m\u001b[0;34m)\u001b[0m\u001b[0;34m,\u001b[0m\u001b[0mz\u001b[0m\u001b[0;34m)\u001b[0m\u001b[0;34m\u001b[0m\u001b[0;34m\u001b[0m\u001b[0m\n\u001b[0m",
      "\u001b[0;32m~/anaconda3/lib/python3.8/site-packages/matplotlib/_api/deprecation.py\u001b[0m in \u001b[0;36mwrapper\u001b[0;34m(*inner_args, **inner_kwargs)\u001b[0m\n\u001b[1;32m    429\u001b[0m                          \u001b[0;32melse\u001b[0m \u001b[0mdeprecation_addendum\u001b[0m\u001b[0;34m,\u001b[0m\u001b[0;34m\u001b[0m\u001b[0;34m\u001b[0m\u001b[0m\n\u001b[1;32m    430\u001b[0m                 **kwargs)\n\u001b[0;32m--> 431\u001b[0;31m         \u001b[0;32mreturn\u001b[0m \u001b[0mfunc\u001b[0m\u001b[0;34m(\u001b[0m\u001b[0;34m*\u001b[0m\u001b[0minner_args\u001b[0m\u001b[0;34m,\u001b[0m \u001b[0;34m**\u001b[0m\u001b[0minner_kwargs\u001b[0m\u001b[0;34m)\u001b[0m\u001b[0;34m\u001b[0m\u001b[0;34m\u001b[0m\u001b[0m\n\u001b[0m\u001b[1;32m    432\u001b[0m \u001b[0;34m\u001b[0m\u001b[0m\n\u001b[1;32m    433\u001b[0m     \u001b[0;32mreturn\u001b[0m \u001b[0mwrapper\u001b[0m\u001b[0;34m\u001b[0m\u001b[0;34m\u001b[0m\u001b[0m\n",
      "\u001b[0;32m~/anaconda3/lib/python3.8/site-packages/mpl_toolkits/mplot3d/axes3d.py\u001b[0m in \u001b[0;36mplot_wireframe\u001b[0;34m(self, X, Y, Z, *args, **kwargs)\u001b[0m\n\u001b[1;32m   1893\u001b[0m \u001b[0;34m\u001b[0m\u001b[0m\n\u001b[1;32m   1894\u001b[0m         \u001b[0mhad_data\u001b[0m \u001b[0;34m=\u001b[0m \u001b[0mself\u001b[0m\u001b[0;34m.\u001b[0m\u001b[0mhas_data\u001b[0m\u001b[0;34m(\u001b[0m\u001b[0;34m)\u001b[0m\u001b[0;34m\u001b[0m\u001b[0;34m\u001b[0m\u001b[0m\n\u001b[0;32m-> 1895\u001b[0;31m         \u001b[0;32mif\u001b[0m \u001b[0mZ\u001b[0m\u001b[0;34m.\u001b[0m\u001b[0mndim\u001b[0m \u001b[0;34m!=\u001b[0m \u001b[0;36m2\u001b[0m\u001b[0;34m:\u001b[0m\u001b[0;34m\u001b[0m\u001b[0;34m\u001b[0m\u001b[0m\n\u001b[0m\u001b[1;32m   1896\u001b[0m             \u001b[0;32mraise\u001b[0m \u001b[0mValueError\u001b[0m\u001b[0;34m(\u001b[0m\u001b[0;34m\"Argument Z must be 2-dimensional.\"\u001b[0m\u001b[0;34m)\u001b[0m\u001b[0;34m\u001b[0m\u001b[0;34m\u001b[0m\u001b[0m\n\u001b[1;32m   1897\u001b[0m         \u001b[0;31m# FIXME: Support masked arrays\u001b[0m\u001b[0;34m\u001b[0m\u001b[0;34m\u001b[0m\u001b[0;34m\u001b[0m\u001b[0m\n",
      "\u001b[0;31mAttributeError\u001b[0m: 'list' object has no attribute 'ndim'"
     ]
    },
    {
     "data": {
      "image/png": "[encoded data removed]",
      "text/plain": [
       "<Figure size 432x288 with 1 Axes>"
      ]
     },
     "metadata": {
      "needs_background": "light"
     },
     "output_type": "display_data"
    }
   ],
   "source": [
    "ax=plt.axes(projection='3d')\n",
    "ax.plot_wireframe(range(-50,50),range(-50,50),z)"
   ]
  },
  {
   "cell_type": "code",
   "execution_count": 135,
   "id": "674e7fc5-e8e5-4f64-a1e8-a3e5cb336308",
   "metadata": {},
   "outputs": [
    {
     "data": {
      "text/plain": [
       "<mpl_toolkits.mplot3d.art3d.Line3DCollection at 0x7f97108c4760>"
      ]
     },
     "execution_count": 135,
     "metadata": {},
     "output_type": "execute_result"
    },
    {
     "data": {
      "image/png": "[encoded data removed]",
      "text/plain": [
       "<Figure size 432x288 with 1 Axes>"
      ]
     },
     "metadata": {
      "needs_background": "light"
     },
     "output_type": "display_data"
    }
   ],
   "source": [
    "import numpy as np\n",
    "Znp=np.array(z)\n",
    "plt.figure()\n",
    "ax=plt.axes(projection='3d')\n",
    "ax.plot_wireframe(range(-50,50),range(-50,50),Znp)\n"
   ]
  },
  {
   "cell_type": "code",
   "execution_count": 136,
   "id": "469b1416-3127-4885-bf9c-f276c5fec275",
   "metadata": {},
   "outputs": [
    {
     "data": {
      "text/plain": [
       "<mpl_toolkits.mplot3d.art3d.Line3DCollection at 0x7f97106e0dc0>"
      ]
     },
     "execution_count": 136,
     "metadata": {},
     "output_type": "execute_result"
    },
    {
     "data": {
      "image/png": "[encoded data removed]",
      "text/plain": [
       "<Figure size 432x288 with 1 Axes>"
      ]
     },
     "metadata": {
      "needs_background": "light"
     },
     "output_type": "display_data"
    }
   ],
   "source": [
    "Znp=np.array(z)\n",
    "plt.figure()\n",
    "x=range(-50,50)\n",
    "y=range(-50,50)\n",
    "Xnp,Ynp=np.meshgrid(x,y)\n",
    "ax=plt.axes(projection='3d')\n",
    "ax.plot_wireframe(Xnp,Ynp,Znp)\n"
   ]
  },
  {
   "cell_type": "code",
   "execution_count": 137,
   "id": "91ce36d2-99a3-444b-b0e8-1ecb2f6a015e",
   "metadata": {},
   "outputs": [
    {
     "data": {
      "text/plain": [
       "<mpl_toolkits.mplot3d.art3d.Line3DCollection at 0x7f971041b3d0>"
      ]
     },
     "execution_count": 137,
     "metadata": {},
     "output_type": "execute_result"
    },
    {
     "data": {
      "application/vnd.jupyter.widget-view+json": {
       "model_id": "ac313838df1d4216be08bce0b9ca4ef1",
       "version_major": 2,
       "version_minor": 0
      },
      "image/png": "[encoded data removed]",
      "text/plain": [
       "Canvas(toolbar=Toolbar(toolitems=[('Home', 'Reset original view', 'home', 'home'), ('Back', 'Back to previous …"
      ]
     },
     "metadata": {},
     "output_type": "display_data"
    }
   ],
   "source": [
    "%matplotlib widget\n",
    "Znp=np.array(z)\n",
    "plt.figure()\n",
    "x=range(-50,50)\n",
    "y=range(-50,50)\n",
    "Xnp,Ynp=np.meshgrid(x,y)\n",
    "ax=plt.axes(projection='3d')\n",
    "ax.plot_wireframe(Xnp,Ynp,Znp)"
   ]
  },
  {
   "cell_type": "code",
   "execution_count": 138,
   "id": "56665cf8-88ac-44ba-b0dc-d2b53698b858",
   "metadata": {},
   "outputs": [],
   "source": [
    "def plot3D(z):\n",
    "    nx=len(z)\n",
    "    print(\"la matriz es\", z)"
   ]
  },
  {
   "cell_type": "code",
   "execution_count": 144,
   "id": "c2845fb5-eebb-49b9-8a47-78f4e25b9dc8",
   "metadata": {},
   "outputs": [],
   "source": [
    "z=[[3,4,5,1],4,5,45,56,3245]"
   ]
  },
  {
   "cell_type": "code",
   "execution_count": 145,
   "id": "6c8e7f8b-918c-4e50-aa1b-c9bd28e4b0d9",
   "metadata": {},
   "outputs": [
    {
     "data": {
      "text/plain": [
       "6"
      ]
     },
     "execution_count": 145,
     "metadata": {},
     "output_type": "execute_result"
    }
   ],
   "source": [
    "len(z) #numero de filas"
   ]
  },
  {
   "cell_type": "code",
   "execution_count": 146,
   "id": "db7dd8d3-2221-43ba-95ab-31e621cbe805",
   "metadata": {},
   "outputs": [
    {
     "data": {
      "text/plain": [
       "4"
      ]
     },
     "execution_count": 146,
     "metadata": {},
     "output_type": "execute_result"
    }
   ],
   "source": [
    "len(z[0]) #numero de columnas"
   ]
  },
  {
   "cell_type": "code",
   "execution_count": 148,
   "id": "eb501b75-bde0-44a2-89d0-3b843f202fe1",
   "metadata": {},
   "outputs": [
    {
     "name": "stdout",
     "output_type": "stream",
     "text": [
      "34 32\n"
     ]
    }
   ],
   "source": [
    "def plot3d(z, origx=0, origy=0):\n",
    "    print(z,origx)\n",
    "plot3d(34,32)"
   ]
  },
  {
   "cell_type": "code",
   "execution_count": 149,
   "id": "bb1c7efb-fda1-406d-ad43-3a6249b7b5d0",
   "metadata": {},
   "outputs": [
    {
     "name": "stdout",
     "output_type": "stream",
     "text": [
      "34 0\n"
     ]
    }
   ],
   "source": [
    "plot3d(34)"
   ]
  },
  {
   "cell_type": "code",
   "execution_count": 150,
   "id": "ef94658a-3546-4d46-8a28-893ae40c0115",
   "metadata": {},
   "outputs": [
    {
     "ename": "ModuleNotFoundError",
     "evalue": "No module named 'mylib'",
     "output_type": "error",
     "traceback": [
      "\u001b[0;31m---------------------------------------------------------------------------\u001b[0m",
      "\u001b[0;31mModuleNotFoundError\u001b[0m                       Traceback (most recent call last)",
      "\u001b[0;32m/tmp/ipykernel_3149092/1687780184.py\u001b[0m in \u001b[0;36m<module>\u001b[0;34m\u001b[0m\n\u001b[0;32m----> 1\u001b[0;31m \u001b[0;32mfrom\u001b[0m \u001b[0mmylib\u001b[0m \u001b[0;32mimport\u001b[0m \u001b[0mplot3d\u001b[0m\u001b[0;34m\u001b[0m\u001b[0;34m\u001b[0m\u001b[0m\n\u001b[0m",
      "\u001b[0;31mModuleNotFoundError\u001b[0m: No module named 'mylib'"
     ]
    }
   ],
   "source": [
    "from mylib import plot3d"
   ]
  },
  {
   "cell_type": "code",
   "execution_count": null,
   "id": "64721a0c-0bc8-40a3-a51a-c1db5ae6cb5c",
   "metadata": {},
   "outputs": [],
   "source": []
  }
 ],
 "metadata": {
  "kernelspec": {
   "display_name": "Python 3 (ipykernel)",
   "language": "python",
   "name": "python3"
  },
  "language_info": {
   "codemirror_mode": {
    "name": "ipython",
    "version": 3
   },
   "file_extension": ".py",
   "mimetype": "text/x-python",
   "name": "python",
   "nbconvert_exporter": "python",
   "pygments_lexer": "ipython3",
   "version": "3.8.12"
  }
 },
 "nbformat": 4,
 "nbformat_minor": 5
}
